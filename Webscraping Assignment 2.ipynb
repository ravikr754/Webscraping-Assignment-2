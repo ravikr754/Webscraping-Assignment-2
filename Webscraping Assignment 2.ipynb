{
 "cells": [
  {
   "cell_type": "code",
   "execution_count": 1,
   "id": "824b4c80",
   "metadata": {},
   "outputs": [],
   "source": [
    "import selenium\n",
    "from selenium import webdriver\n",
    "import pandas as pd\n",
    "import warnings\n",
    "warnings.filterwarnings(\"ignore\")"
   ]
  },
  {
   "cell_type": "code",
   "execution_count": 2,
   "id": "96587699",
   "metadata": {},
   "outputs": [],
   "source": [
    "driver = webdriver.Chrome(\"chromedriver.exe\")"
   ]
  },
  {
   "cell_type": "markdown",
   "id": "64dfd8d9",
   "metadata": {},
   "source": [
    "### Q1: Write a python program to scrape data for “Data Analyst” Job position in “Bangalore” location. Youhave to scrape the job-title, job-location, company_name, experience_required. You have to scrape first 10 jobs data.\n",
    "#### This task will be done in following steps:\n",
    "#### 1. First get the webpage https://www.naukri.com/\n",
    "#### 2. Enter “Data Analyst” in “Skill, Designations, Companies” field and enter “Bangalore” in “enter the location” field.\n",
    "#### 3. Then click the search button.\n",
    "#### 4. Then scrape the data for the first 10 jobs results you get.\n",
    "#### 5. Finally create a dataframe of the scraped data."
   ]
  },
  {
   "cell_type": "markdown",
   "id": "95ad2802",
   "metadata": {},
   "source": [
    "url = \"https://www.naukri.com/\"\n",
    "driver.get(url)"
   ]
  },
  {
   "cell_type": "code",
   "execution_count": 8,
   "id": "bcd830a3",
   "metadata": {},
   "outputs": [
    {
     "data": {
      "text/plain": [
       "<selenium.webdriver.remote.webelement.WebElement (session=\"757f0b95bb7e799c05eb5568c3e96bc8\", element=\"64f22dc4-8736-4716-aa27-928331071fe7\")>"
      ]
     },
     "execution_count": 8,
     "metadata": {},
     "output_type": "execute_result"
    }
   ],
   "source": [
    "search_job = driver.find_element_by_id(\"qsb-keyword-sugg\")\n",
    "search_job"
   ]
  },
  {
   "cell_type": "code",
   "execution_count": 9,
   "id": "53062215",
   "metadata": {},
   "outputs": [],
   "source": [
    "search_job.send_keys(\"Data analyst\")"
   ]
  },
  {
   "cell_type": "code",
   "execution_count": 13,
   "id": "1bb1a47f",
   "metadata": {},
   "outputs": [
    {
     "data": {
      "text/plain": [
       "<selenium.webdriver.remote.webelement.WebElement (session=\"757f0b95bb7e799c05eb5568c3e96bc8\", element=\"5e12d009-79f8-4e73-a336-bc0df1042a8a\")>"
      ]
     },
     "execution_count": 13,
     "metadata": {},
     "output_type": "execute_result"
    }
   ],
   "source": [
    "search_loc = driver.find_element_by_xpath(\"/html/body/div[1]/div[3]/div[2]/section/div/form/div[2]/div/div/div/div[1]/div[2]/input\")\n",
    "search_loc"
   ]
  },
  {
   "cell_type": "code",
   "execution_count": 14,
   "id": "c0ab5ae3",
   "metadata": {},
   "outputs": [],
   "source": [
    "search_loc.send_keys(\"Bangalore\")"
   ]
  },
  {
   "cell_type": "code",
   "execution_count": 15,
   "id": "8ecba7e9",
   "metadata": {},
   "outputs": [
    {
     "data": {
      "text/plain": [
       "<selenium.webdriver.remote.webelement.WebElement (session=\"757f0b95bb7e799c05eb5568c3e96bc8\", element=\"e06f6d11-3126-4c9f-bc62-30b72443bd2f\")>"
      ]
     },
     "execution_count": 15,
     "metadata": {},
     "output_type": "execute_result"
    }
   ],
   "source": [
    "search_btn = driver.find_element_by_xpath(\"/html/body/div[1]/div[3]/div[2]/section/div/form/div[3]/button\")\n",
    "search_btn"
   ]
  },
  {
   "cell_type": "code",
   "execution_count": 16,
   "id": "f59e64df",
   "metadata": {},
   "outputs": [],
   "source": [
    "search_btn.click()"
   ]
  },
  {
   "cell_type": "code",
   "execution_count": 21,
   "id": "05e896db",
   "metadata": {},
   "outputs": [
    {
     "data": {
      "text/plain": [
       "20"
      ]
     },
     "execution_count": 21,
     "metadata": {},
     "output_type": "execute_result"
    }
   ],
   "source": [
    "job_title = driver.find_elements_by_xpath('//a[@class=\"title fw500 ellipsis\"]')\n",
    "len(job_title)"
   ]
  },
  {
   "cell_type": "code",
   "execution_count": 23,
   "id": "a247d87e",
   "metadata": {},
   "outputs": [
    {
     "data": {
      "text/plain": [
       "20"
      ]
     },
     "execution_count": 23,
     "metadata": {},
     "output_type": "execute_result"
    }
   ],
   "source": [
    "job_titles = []\n",
    "\n",
    "for i in job_title:\n",
    "    job_titles.append(i.text)\n",
    "    \n",
    "len(job_titles)"
   ]
  },
  {
   "cell_type": "code",
   "execution_count": 24,
   "id": "a4cdb7ab",
   "metadata": {},
   "outputs": [
    {
     "data": {
      "text/plain": [
       "20"
      ]
     },
     "execution_count": 24,
     "metadata": {},
     "output_type": "execute_result"
    }
   ],
   "source": [
    "job_loc = driver.find_elements_by_xpath('//li[@class=\"fleft grey-text br2 placeHolderLi location\"]')\n",
    "len(job_loc)"
   ]
  },
  {
   "cell_type": "code",
   "execution_count": 25,
   "id": "44b52164",
   "metadata": {},
   "outputs": [
    {
     "data": {
      "text/plain": [
       "20"
      ]
     },
     "execution_count": 25,
     "metadata": {},
     "output_type": "execute_result"
    }
   ],
   "source": [
    "job_location = []\n",
    "\n",
    "for i in job_loc:\n",
    "    job_location.append(i.text)\n",
    "    \n",
    "len(job_location)"
   ]
  },
  {
   "cell_type": "code",
   "execution_count": 26,
   "id": "e16397da",
   "metadata": {},
   "outputs": [
    {
     "data": {
      "text/plain": [
       "20"
      ]
     },
     "execution_count": 26,
     "metadata": {},
     "output_type": "execute_result"
    }
   ],
   "source": [
    "comp_name = driver.find_elements_by_xpath('//div[@class=\"mt-7 companyInfo subheading lh16\"]')\n",
    "len(comp_name)"
   ]
  },
  {
   "cell_type": "code",
   "execution_count": 32,
   "id": "f7453027",
   "metadata": {},
   "outputs": [
    {
     "data": {
      "text/plain": [
       "20"
      ]
     },
     "execution_count": 32,
     "metadata": {},
     "output_type": "execute_result"
    }
   ],
   "source": [
    "company_names = []\n",
    "\n",
    "for i in comp_name:\n",
    "    company_names.append(i.text.replace('\\n',''))\n",
    "    \n",
    "len(company_names)"
   ]
  },
  {
   "cell_type": "code",
   "execution_count": 28,
   "id": "87842222",
   "metadata": {},
   "outputs": [
    {
     "data": {
      "text/plain": [
       "20"
      ]
     },
     "execution_count": 28,
     "metadata": {},
     "output_type": "execute_result"
    }
   ],
   "source": [
    "exp_req = driver.find_elements_by_xpath('//li[@class=\"fleft grey-text br2 placeHolderLi experience\"]')\n",
    "len(exp_req)"
   ]
  },
  {
   "cell_type": "code",
   "execution_count": 29,
   "id": "d4a4d4e9",
   "metadata": {},
   "outputs": [
    {
     "data": {
      "text/plain": [
       "20"
      ]
     },
     "execution_count": 29,
     "metadata": {},
     "output_type": "execute_result"
    }
   ],
   "source": [
    "experience_req = []\n",
    "\n",
    "for i in exp_req:\n",
    "    experience_req.append(i.text)\n",
    "    \n",
    "len(experience_req)"
   ]
  },
  {
   "cell_type": "code",
   "execution_count": 33,
   "id": "62d3ee99",
   "metadata": {},
   "outputs": [
    {
     "data": {
      "text/html": [
       "<div>\n",
       "<style scoped>\n",
       "    .dataframe tbody tr th:only-of-type {\n",
       "        vertical-align: middle;\n",
       "    }\n",
       "\n",
       "    .dataframe tbody tr th {\n",
       "        vertical-align: top;\n",
       "    }\n",
       "\n",
       "    .dataframe thead th {\n",
       "        text-align: right;\n",
       "    }\n",
       "</style>\n",
       "<table border=\"1\" class=\"dataframe\">\n",
       "  <thead>\n",
       "    <tr style=\"text-align: right;\">\n",
       "      <th></th>\n",
       "      <th>Job Title</th>\n",
       "      <th>Location</th>\n",
       "      <th>Company Name</th>\n",
       "      <th>Experience Required</th>\n",
       "    </tr>\n",
       "  </thead>\n",
       "  <tbody>\n",
       "    <tr>\n",
       "      <th>0</th>\n",
       "      <td>BUSINESS ANALYST -DATA SCIENCE-CONSUMER</td>\n",
       "      <td>Bangalore/Bengaluru</td>\n",
       "      <td>BRIDGEi2i Analytics Solutions Private Limited3...</td>\n",
       "      <td>0-2 Yrs</td>\n",
       "    </tr>\n",
       "    <tr>\n",
       "      <th>1</th>\n",
       "      <td>Lead - Data Analyst / Scientist</td>\n",
       "      <td>Bangalore/Bengaluru</td>\n",
       "      <td>Axim Technologies</td>\n",
       "      <td>12-14 Yrs</td>\n",
       "    </tr>\n",
       "    <tr>\n",
       "      <th>2</th>\n",
       "      <td>Data Analyst</td>\n",
       "      <td>Bangalore/Bengaluru</td>\n",
       "      <td>Jeeva Organic4.6(6 Reviews)</td>\n",
       "      <td>3-8 Yrs</td>\n",
       "    </tr>\n",
       "    <tr>\n",
       "      <th>3</th>\n",
       "      <td>Senior Data Analyst - Supporting Audits</td>\n",
       "      <td>Bangalore/Bengaluru</td>\n",
       "      <td>Visa3.8(39 Reviews)</td>\n",
       "      <td>5-8 Yrs</td>\n",
       "    </tr>\n",
       "    <tr>\n",
       "      <th>4</th>\n",
       "      <td>Data Analyst</td>\n",
       "      <td>Bengaluru/Bangalore</td>\n",
       "      <td>Flipkart4.2(4047 Reviews)</td>\n",
       "      <td>1-2 Yrs</td>\n",
       "    </tr>\n",
       "    <tr>\n",
       "      <th>5</th>\n",
       "      <td>Data Analyst</td>\n",
       "      <td>Bangalore/Bengaluru</td>\n",
       "      <td>Novel Office</td>\n",
       "      <td>0-3 Yrs</td>\n",
       "    </tr>\n",
       "    <tr>\n",
       "      <th>6</th>\n",
       "      <td>Senior Data Analyst - KPO</td>\n",
       "      <td>Gurgaon/Gurugram, Bangalore/Bengaluru</td>\n",
       "      <td>Huquo Consulting Pvt. Ltd</td>\n",
       "      <td>7-12 Yrs</td>\n",
       "    </tr>\n",
       "    <tr>\n",
       "      <th>7</th>\n",
       "      <td>Data Analyst</td>\n",
       "      <td>Bangalore/Bengaluru</td>\n",
       "      <td>Snaphunt</td>\n",
       "      <td>0-2 Yrs</td>\n",
       "    </tr>\n",
       "    <tr>\n",
       "      <th>8</th>\n",
       "      <td>Financial Data Analyst</td>\n",
       "      <td>Bangalore/Bengaluru</td>\n",
       "      <td>Moody's3.5(55 Reviews)</td>\n",
       "      <td>0-2 Yrs</td>\n",
       "    </tr>\n",
       "    <tr>\n",
       "      <th>9</th>\n",
       "      <td>Tcs Hiring For Data Analyst / Engineers</td>\n",
       "      <td>Pune, Bangalore/Bengaluru, Delhi / NCR</td>\n",
       "      <td>TCS3.9(26997 Reviews)</td>\n",
       "      <td>4-9 Yrs</td>\n",
       "    </tr>\n",
       "    <tr>\n",
       "      <th>10</th>\n",
       "      <td>Business Data Analyst - Database Design/Mining</td>\n",
       "      <td>Bangalore/Bengaluru</td>\n",
       "      <td>AugmatrixGo</td>\n",
       "      <td>2-5 Yrs</td>\n",
       "    </tr>\n",
       "    <tr>\n",
       "      <th>11</th>\n",
       "      <td>Lead Data Analyst</td>\n",
       "      <td>Bangalore/Bengaluru</td>\n",
       "      <td>Nike India4.4(86 Reviews)</td>\n",
       "      <td>1-6 Yrs</td>\n",
       "    </tr>\n",
       "    <tr>\n",
       "      <th>12</th>\n",
       "      <td>Data Analyst</td>\n",
       "      <td>Bangalore/Bengaluru, Delhi / NCR, Mumbai (All ...</td>\n",
       "      <td>Venuestring Events Management Pvt Ltd</td>\n",
       "      <td>1-2 Yrs</td>\n",
       "    </tr>\n",
       "    <tr>\n",
       "      <th>13</th>\n",
       "      <td>Financial Data Analyst</td>\n",
       "      <td>Bangalore/Bengaluru</td>\n",
       "      <td>Moody's3.5(55 Reviews)</td>\n",
       "      <td>0-2 Yrs</td>\n",
       "    </tr>\n",
       "    <tr>\n",
       "      <th>14</th>\n",
       "      <td>Data Analyst</td>\n",
       "      <td>Bangalore/Bengaluru(Ulsoor)</td>\n",
       "      <td>WEIWO Communication Pvt. Ltd.4.1(30 Reviews)</td>\n",
       "      <td>2-7 Yrs</td>\n",
       "    </tr>\n",
       "    <tr>\n",
       "      <th>15</th>\n",
       "      <td>Senior Data Analyst - KPO</td>\n",
       "      <td>Gurgaon/Gurugram, Bangalore/Bengaluru</td>\n",
       "      <td>Huquo Consulting Pvt. Ltd</td>\n",
       "      <td>7-12 Yrs</td>\n",
       "    </tr>\n",
       "    <tr>\n",
       "      <th>16</th>\n",
       "      <td>Senior Data Analyst</td>\n",
       "      <td>Bengaluru/Bangalore</td>\n",
       "      <td>Flipkart4.2(4047 Reviews)</td>\n",
       "      <td>2-3 Yrs</td>\n",
       "    </tr>\n",
       "    <tr>\n",
       "      <th>17</th>\n",
       "      <td>Senior Data Analyst II</td>\n",
       "      <td>Bengaluru/Bangalore</td>\n",
       "      <td>Flipkart4.2(4047 Reviews)</td>\n",
       "      <td>3-7 Yrs</td>\n",
       "    </tr>\n",
       "    <tr>\n",
       "      <th>18</th>\n",
       "      <td>Senior Data Analyst II</td>\n",
       "      <td>Bangalore/Bengaluru</td>\n",
       "      <td>Flipkart4.2(4047 Reviews)</td>\n",
       "      <td>5-7 Yrs</td>\n",
       "    </tr>\n",
       "    <tr>\n",
       "      <th>19</th>\n",
       "      <td>Senior Data Analyst</td>\n",
       "      <td>Bangalore/Bengaluru</td>\n",
       "      <td>Glance</td>\n",
       "      <td>1-6 Yrs</td>\n",
       "    </tr>\n",
       "  </tbody>\n",
       "</table>\n",
       "</div>"
      ],
      "text/plain": [
       "                                         Job Title  \\\n",
       "0          BUSINESS ANALYST -DATA SCIENCE-CONSUMER   \n",
       "1                  Lead - Data Analyst / Scientist   \n",
       "2                                     Data Analyst   \n",
       "3          Senior Data Analyst - Supporting Audits   \n",
       "4                                     Data Analyst   \n",
       "5                                     Data Analyst   \n",
       "6                        Senior Data Analyst - KPO   \n",
       "7                                     Data Analyst   \n",
       "8                           Financial Data Analyst   \n",
       "9          Tcs Hiring For Data Analyst / Engineers   \n",
       "10  Business Data Analyst - Database Design/Mining   \n",
       "11                               Lead Data Analyst   \n",
       "12                                    Data Analyst   \n",
       "13                          Financial Data Analyst   \n",
       "14                                    Data Analyst   \n",
       "15                       Senior Data Analyst - KPO   \n",
       "16                             Senior Data Analyst   \n",
       "17                          Senior Data Analyst II   \n",
       "18                          Senior Data Analyst II   \n",
       "19                             Senior Data Analyst   \n",
       "\n",
       "                                             Location  \\\n",
       "0                                 Bangalore/Bengaluru   \n",
       "1                                 Bangalore/Bengaluru   \n",
       "2                                 Bangalore/Bengaluru   \n",
       "3                                 Bangalore/Bengaluru   \n",
       "4                                 Bengaluru/Bangalore   \n",
       "5                                 Bangalore/Bengaluru   \n",
       "6               Gurgaon/Gurugram, Bangalore/Bengaluru   \n",
       "7                                 Bangalore/Bengaluru   \n",
       "8                                 Bangalore/Bengaluru   \n",
       "9              Pune, Bangalore/Bengaluru, Delhi / NCR   \n",
       "10                                Bangalore/Bengaluru   \n",
       "11                                Bangalore/Bengaluru   \n",
       "12  Bangalore/Bengaluru, Delhi / NCR, Mumbai (All ...   \n",
       "13                                Bangalore/Bengaluru   \n",
       "14                        Bangalore/Bengaluru(Ulsoor)   \n",
       "15              Gurgaon/Gurugram, Bangalore/Bengaluru   \n",
       "16                                Bengaluru/Bangalore   \n",
       "17                                Bengaluru/Bangalore   \n",
       "18                                Bangalore/Bengaluru   \n",
       "19                                Bangalore/Bengaluru   \n",
       "\n",
       "                                         Company Name Experience Required  \n",
       "0   BRIDGEi2i Analytics Solutions Private Limited3...             0-2 Yrs  \n",
       "1                                   Axim Technologies           12-14 Yrs  \n",
       "2                         Jeeva Organic4.6(6 Reviews)             3-8 Yrs  \n",
       "3                                 Visa3.8(39 Reviews)             5-8 Yrs  \n",
       "4                           Flipkart4.2(4047 Reviews)             1-2 Yrs  \n",
       "5                                        Novel Office             0-3 Yrs  \n",
       "6                           Huquo Consulting Pvt. Ltd            7-12 Yrs  \n",
       "7                                            Snaphunt             0-2 Yrs  \n",
       "8                              Moody's3.5(55 Reviews)             0-2 Yrs  \n",
       "9                               TCS3.9(26997 Reviews)             4-9 Yrs  \n",
       "10                                        AugmatrixGo             2-5 Yrs  \n",
       "11                          Nike India4.4(86 Reviews)             1-6 Yrs  \n",
       "12              Venuestring Events Management Pvt Ltd             1-2 Yrs  \n",
       "13                             Moody's3.5(55 Reviews)             0-2 Yrs  \n",
       "14       WEIWO Communication Pvt. Ltd.4.1(30 Reviews)             2-7 Yrs  \n",
       "15                          Huquo Consulting Pvt. Ltd            7-12 Yrs  \n",
       "16                          Flipkart4.2(4047 Reviews)             2-3 Yrs  \n",
       "17                          Flipkart4.2(4047 Reviews)             3-7 Yrs  \n",
       "18                          Flipkart4.2(4047 Reviews)             5-7 Yrs  \n",
       "19                                             Glance             1-6 Yrs  "
      ]
     },
     "execution_count": 33,
     "metadata": {},
     "output_type": "execute_result"
    }
   ],
   "source": [
    "df = pd.DataFrame({'Job Title':job_titles,'Location':job_location,'Company Name':company_names,'Experience Required':experience_req})\n",
    "df"
   ]
  },
  {
   "cell_type": "markdown",
   "id": "b6033688",
   "metadata": {},
   "source": [
    "### Q2: Write a python program to scrape data for “Data Scientist” Job position in “Bangalore” location. You have to scrape the job-title, job-location, company_name. You have to scrape first 10 jobs data.\n",
    "#### This task will be done in following steps:\n",
    "#### 1. First get the webpage https://www.naukri.com/\n",
    "#### 2. Enter “Data Scientist” in “Skill, Designations, Companies” field and enter “Bangalore” in “enter the location” field.\n",
    "#### 3. Then click the search button.\n",
    "#### 4. Then scrape the data for the first 10 jobs results you get.\n",
    "#### 5. Finally create a dataframe of the scraped data."
   ]
  },
  {
   "cell_type": "code",
   "execution_count": 42,
   "id": "cc891e0d",
   "metadata": {},
   "outputs": [],
   "source": [
    "url = \"https://www.naukri.com/\"\n",
    "driver.get(url)"
   ]
  },
  {
   "cell_type": "code",
   "execution_count": 45,
   "id": "399e344f",
   "metadata": {},
   "outputs": [
    {
     "data": {
      "text/plain": [
       "<selenium.webdriver.remote.webelement.WebElement (session=\"a1f4a692bdb5e3367d09c39ba2ffa7c3\", element=\"35dd5d2f-f998-4099-a406-d57623eb4152\")>"
      ]
     },
     "execution_count": 45,
     "metadata": {},
     "output_type": "execute_result"
    }
   ],
   "source": [
    "search_job = driver.find_element_by_id(\"qsb-keyword-sugg\")\n",
    "search_job"
   ]
  },
  {
   "cell_type": "code",
   "execution_count": 46,
   "id": "48acb8fa",
   "metadata": {},
   "outputs": [],
   "source": [
    "search_job.send_keys(\"Data Scientist\")"
   ]
  },
  {
   "cell_type": "code",
   "execution_count": 48,
   "id": "361d7828",
   "metadata": {},
   "outputs": [
    {
     "data": {
      "text/plain": [
       "<selenium.webdriver.remote.webelement.WebElement (session=\"a1f4a692bdb5e3367d09c39ba2ffa7c3\", element=\"b69514e3-eff5-4c7e-87fa-2178e6709ddf\")>"
      ]
     },
     "execution_count": 48,
     "metadata": {},
     "output_type": "execute_result"
    }
   ],
   "source": [
    "search_loc = driver.find_element_by_xpath(\"/html/body/div[1]/div[3]/div[2]/section/div/form/div[2]/div/div/div/div[1]/div[2]/input\")\n",
    "search_loc"
   ]
  },
  {
   "cell_type": "code",
   "execution_count": 49,
   "id": "ca5cd96c",
   "metadata": {},
   "outputs": [],
   "source": [
    "search_loc.send_keys(\"Bangalore\")"
   ]
  },
  {
   "cell_type": "code",
   "execution_count": 50,
   "id": "97da06ee",
   "metadata": {},
   "outputs": [
    {
     "data": {
      "text/plain": [
       "<selenium.webdriver.remote.webelement.WebElement (session=\"a1f4a692bdb5e3367d09c39ba2ffa7c3\", element=\"0639b19a-0f20-45b1-9491-3546dc6b6325\")>"
      ]
     },
     "execution_count": 50,
     "metadata": {},
     "output_type": "execute_result"
    }
   ],
   "source": [
    "search_btn = driver.find_element_by_xpath(\"/html/body/div[1]/div[3]/div[2]/section/div/form/div[3]/button\")\n",
    "search_btn"
   ]
  },
  {
   "cell_type": "code",
   "execution_count": 51,
   "id": "b7c9b518",
   "metadata": {},
   "outputs": [],
   "source": [
    "search_btn.click()"
   ]
  },
  {
   "cell_type": "code",
   "execution_count": 54,
   "id": "a8a70c52",
   "metadata": {},
   "outputs": [
    {
     "data": {
      "text/plain": [
       "20"
      ]
     },
     "execution_count": 54,
     "metadata": {},
     "output_type": "execute_result"
    }
   ],
   "source": [
    "job_title = driver.find_elements_by_xpath('//a[@class=\"title fw500 ellipsis\"]')\n",
    "len(job_title)"
   ]
  },
  {
   "cell_type": "code",
   "execution_count": 56,
   "id": "02b4bbe9",
   "metadata": {},
   "outputs": [
    {
     "data": {
      "text/plain": [
       "['Lead/Senior Data Scientist (NLP)',\n",
       " 'Lead Data Scientist - Prescriptive Analytics/Predictive Modeling',\n",
       " 'Lead Data Scientist - NLP/OpenCV',\n",
       " 'Senior Data Scientist - Logistics',\n",
       " 'Senior Data Scientist',\n",
       " 'Lead Data Scientist',\n",
       " 'Lead - Data Analyst / Scientist',\n",
       " 'Data Scientist - Logistics',\n",
       " 'Senior Data Scientist',\n",
       " 'Senior Data Scientist']"
      ]
     },
     "execution_count": 56,
     "metadata": {},
     "output_type": "execute_result"
    }
   ],
   "source": [
    "job_titles = []\n",
    "\n",
    "for i in job_title:\n",
    "    job_titles.append(i.text)\n",
    "    \n",
    "job_titles[:10]"
   ]
  },
  {
   "cell_type": "code",
   "execution_count": 57,
   "id": "709886ee",
   "metadata": {},
   "outputs": [
    {
     "data": {
      "text/plain": [
       "20"
      ]
     },
     "execution_count": 57,
     "metadata": {},
     "output_type": "execute_result"
    }
   ],
   "source": [
    "job_loc = driver.find_elements_by_xpath('//li[@class=\"fleft grey-text br2 placeHolderLi location\"]')\n",
    "len(job_loc)"
   ]
  },
  {
   "cell_type": "code",
   "execution_count": 59,
   "id": "8de24c54",
   "metadata": {},
   "outputs": [
    {
     "data": {
      "text/plain": [
       "['Bangalore/Bengaluru(WFH during Covid)',\n",
       " 'Hyderabad/Secunderabad, Bangalore/Bengaluru',\n",
       " 'Hyderabad/Secunderabad, Bangalore/Bengaluru',\n",
       " 'Bangalore/Bengaluru',\n",
       " 'Gurgaon/Gurugram, Bangalore/Bengaluru, Mumbai (All Areas)',\n",
       " 'Bangalore/Bengaluru',\n",
       " 'Bangalore/Bengaluru',\n",
       " 'Bangalore/Bengaluru',\n",
       " 'Bangalore/Bengaluru',\n",
       " 'Bangalore/Bengaluru']"
      ]
     },
     "execution_count": 59,
     "metadata": {},
     "output_type": "execute_result"
    }
   ],
   "source": [
    "job_location = []\n",
    "\n",
    "for i in job_loc:\n",
    "    job_location.append(i.text.replace('\\n',''))\n",
    "    \n",
    "job_location[:10]"
   ]
  },
  {
   "cell_type": "code",
   "execution_count": 60,
   "id": "7dcd882d",
   "metadata": {},
   "outputs": [
    {
     "data": {
      "text/plain": [
       "20"
      ]
     },
     "execution_count": 60,
     "metadata": {},
     "output_type": "execute_result"
    }
   ],
   "source": [
    "comp_name = driver.find_elements_by_xpath('//a[@class=\"subTitle ellipsis fleft\"]')\n",
    "len(comp_name)"
   ]
  },
  {
   "cell_type": "code",
   "execution_count": 62,
   "id": "c803aaad",
   "metadata": {},
   "outputs": [
    {
     "data": {
      "text/plain": [
       "['Samya.AI A FRACTAL Entity',\n",
       " 'Codersbrain',\n",
       " 'Codersbrain',\n",
       " 'Gojek Tech',\n",
       " 'Fractal Analytics',\n",
       " 'First American',\n",
       " 'Axim Technologies',\n",
       " 'GO-JEK India',\n",
       " 'Idexcel Technologies Private Limited',\n",
       " 'Idexcel Technologies Private Limited']"
      ]
     },
     "execution_count": 62,
     "metadata": {},
     "output_type": "execute_result"
    }
   ],
   "source": [
    "company_name = []\n",
    "\n",
    "for i in comp_name:\n",
    "    company_name.append(i.text)\n",
    "    \n",
    "company_name[:10]"
   ]
  },
  {
   "cell_type": "code",
   "execution_count": 64,
   "id": "dce9752a",
   "metadata": {},
   "outputs": [
    {
     "data": {
      "text/html": [
       "<div>\n",
       "<style scoped>\n",
       "    .dataframe tbody tr th:only-of-type {\n",
       "        vertical-align: middle;\n",
       "    }\n",
       "\n",
       "    .dataframe tbody tr th {\n",
       "        vertical-align: top;\n",
       "    }\n",
       "\n",
       "    .dataframe thead th {\n",
       "        text-align: right;\n",
       "    }\n",
       "</style>\n",
       "<table border=\"1\" class=\"dataframe\">\n",
       "  <thead>\n",
       "    <tr style=\"text-align: right;\">\n",
       "      <th></th>\n",
       "      <th>Job Title</th>\n",
       "      <th>Location</th>\n",
       "      <th>Company Name</th>\n",
       "    </tr>\n",
       "  </thead>\n",
       "  <tbody>\n",
       "    <tr>\n",
       "      <th>0</th>\n",
       "      <td>Lead/Senior Data Scientist (NLP)</td>\n",
       "      <td>Bangalore/Bengaluru(WFH during Covid)</td>\n",
       "      <td>Samya.AI A FRACTAL Entity</td>\n",
       "    </tr>\n",
       "    <tr>\n",
       "      <th>1</th>\n",
       "      <td>Lead Data Scientist - Prescriptive Analytics/P...</td>\n",
       "      <td>Hyderabad/Secunderabad, Bangalore/Bengaluru</td>\n",
       "      <td>Codersbrain</td>\n",
       "    </tr>\n",
       "    <tr>\n",
       "      <th>2</th>\n",
       "      <td>Lead Data Scientist - NLP/OpenCV</td>\n",
       "      <td>Hyderabad/Secunderabad, Bangalore/Bengaluru</td>\n",
       "      <td>Codersbrain</td>\n",
       "    </tr>\n",
       "    <tr>\n",
       "      <th>3</th>\n",
       "      <td>Senior Data Scientist - Logistics</td>\n",
       "      <td>Bangalore/Bengaluru</td>\n",
       "      <td>Gojek Tech</td>\n",
       "    </tr>\n",
       "    <tr>\n",
       "      <th>4</th>\n",
       "      <td>Senior Data Scientist</td>\n",
       "      <td>Gurgaon/Gurugram, Bangalore/Bengaluru, Mumbai ...</td>\n",
       "      <td>Fractal Analytics</td>\n",
       "    </tr>\n",
       "    <tr>\n",
       "      <th>5</th>\n",
       "      <td>Lead Data Scientist</td>\n",
       "      <td>Bangalore/Bengaluru</td>\n",
       "      <td>First American</td>\n",
       "    </tr>\n",
       "    <tr>\n",
       "      <th>6</th>\n",
       "      <td>Lead - Data Analyst / Scientist</td>\n",
       "      <td>Bangalore/Bengaluru</td>\n",
       "      <td>Axim Technologies</td>\n",
       "    </tr>\n",
       "    <tr>\n",
       "      <th>7</th>\n",
       "      <td>Data Scientist - Logistics</td>\n",
       "      <td>Bangalore/Bengaluru</td>\n",
       "      <td>GO-JEK India</td>\n",
       "    </tr>\n",
       "    <tr>\n",
       "      <th>8</th>\n",
       "      <td>Senior Data Scientist</td>\n",
       "      <td>Bangalore/Bengaluru</td>\n",
       "      <td>Idexcel Technologies Private Limited</td>\n",
       "    </tr>\n",
       "    <tr>\n",
       "      <th>9</th>\n",
       "      <td>Senior Data Scientist</td>\n",
       "      <td>Bangalore/Bengaluru</td>\n",
       "      <td>Idexcel Technologies Private Limited</td>\n",
       "    </tr>\n",
       "  </tbody>\n",
       "</table>\n",
       "</div>"
      ],
      "text/plain": [
       "                                           Job Title  \\\n",
       "0                   Lead/Senior Data Scientist (NLP)   \n",
       "1  Lead Data Scientist - Prescriptive Analytics/P...   \n",
       "2                   Lead Data Scientist - NLP/OpenCV   \n",
       "3                  Senior Data Scientist - Logistics   \n",
       "4                              Senior Data Scientist   \n",
       "5                                Lead Data Scientist   \n",
       "6                    Lead - Data Analyst / Scientist   \n",
       "7                         Data Scientist - Logistics   \n",
       "8                              Senior Data Scientist   \n",
       "9                              Senior Data Scientist   \n",
       "\n",
       "                                            Location  \\\n",
       "0              Bangalore/Bengaluru(WFH during Covid)   \n",
       "1        Hyderabad/Secunderabad, Bangalore/Bengaluru   \n",
       "2        Hyderabad/Secunderabad, Bangalore/Bengaluru   \n",
       "3                                Bangalore/Bengaluru   \n",
       "4  Gurgaon/Gurugram, Bangalore/Bengaluru, Mumbai ...   \n",
       "5                                Bangalore/Bengaluru   \n",
       "6                                Bangalore/Bengaluru   \n",
       "7                                Bangalore/Bengaluru   \n",
       "8                                Bangalore/Bengaluru   \n",
       "9                                Bangalore/Bengaluru   \n",
       "\n",
       "                           Company Name  \n",
       "0             Samya.AI A FRACTAL Entity  \n",
       "1                           Codersbrain  \n",
       "2                           Codersbrain  \n",
       "3                            Gojek Tech  \n",
       "4                     Fractal Analytics  \n",
       "5                        First American  \n",
       "6                     Axim Technologies  \n",
       "7                          GO-JEK India  \n",
       "8  Idexcel Technologies Private Limited  \n",
       "9  Idexcel Technologies Private Limited  "
      ]
     },
     "execution_count": 64,
     "metadata": {},
     "output_type": "execute_result"
    }
   ],
   "source": [
    "df = pd.DataFrame({'Job Title':job_titles[:10],'Location':job_location[:10],'Company Name':company_name[:10]})\n",
    "df"
   ]
  },
  {
   "cell_type": "markdown",
   "id": "85f6b12e",
   "metadata": {},
   "source": [
    "#### Q3: In this question you have to scrape data using the filters available on the webpage as shown below:\n",
    "#### You have to use the location and salary filter.\n",
    "#### You have to scrape data for “Data Scientist” designation for first 10 job results.\n",
    "#### You have to scrape the job-title, job-location, company name, experience required.\n",
    "#### The location filter to be used is “Delhi/NCR”. The salary filter to be used is “3-6” lakhs\n",
    "#### The task will be done as shown in the below steps:\n",
    "#### 1. first get the webpage https://www.naukri.com/\n",
    "#### 2. Enter “Data Scientist” in “Skill, Designations, and Companies” field.\n",
    "#### 3. Then click the search button.\n",
    "#### 4. Then apply the location filter and salary filter by checking the respective boxes\n",
    "#### 5. Then scrape the data for the first 10 jobs results you get.\n",
    "#### 6. Finally create a dataframe of the scraped data.\n"
   ]
  },
  {
   "cell_type": "code",
   "execution_count": 66,
   "id": "c3c0cbd4",
   "metadata": {},
   "outputs": [],
   "source": [
    "url = \"https://www.naukri.com/\"\n",
    "driver.get(url)"
   ]
  },
  {
   "cell_type": "code",
   "execution_count": 67,
   "id": "f0b9dc6c",
   "metadata": {},
   "outputs": [
    {
     "data": {
      "text/plain": [
       "<selenium.webdriver.remote.webelement.WebElement (session=\"cc7035ec615e13f6d0955b10241fecd0\", element=\"2dadcb61-183e-45e5-8a24-9514a373cc8b\")>"
      ]
     },
     "execution_count": 67,
     "metadata": {},
     "output_type": "execute_result"
    }
   ],
   "source": [
    "search_title = driver.find_element_by_id(\"qsb-keyword-sugg\")\n",
    "search_title"
   ]
  },
  {
   "cell_type": "code",
   "execution_count": 68,
   "id": "c967b1d3",
   "metadata": {},
   "outputs": [],
   "source": [
    "search_title.send_keys(\"Data Scientist\")"
   ]
  },
  {
   "cell_type": "code",
   "execution_count": 73,
   "id": "72f5c33b",
   "metadata": {},
   "outputs": [
    {
     "data": {
      "text/plain": [
       "<selenium.webdriver.remote.webelement.WebElement (session=\"cc7035ec615e13f6d0955b10241fecd0\", element=\"06ec934c-53ff-4ef9-919d-c151e0f72eb4\")>"
      ]
     },
     "execution_count": 73,
     "metadata": {},
     "output_type": "execute_result"
    }
   ],
   "source": [
    "search_btn = driver.find_element_by_xpath(\"/html/body/div[1]/div[3]/div[2]/section/div/form/div[3]/button\")\n",
    "search_btn"
   ]
  },
  {
   "cell_type": "code",
   "execution_count": 74,
   "id": "61139208",
   "metadata": {},
   "outputs": [],
   "source": [
    "search_btn.click()"
   ]
  },
  {
   "cell_type": "code",
   "execution_count": 77,
   "id": "e5fef8c0",
   "metadata": {},
   "outputs": [],
   "source": [
    "loc_search = driver.find_element_by_xpath(\"/html/body/div[1]/div[3]/div[2]/section[1]/div[2]/div[3]/div[2]/div[3]/label/p\")"
   ]
  },
  {
   "cell_type": "code",
   "execution_count": 78,
   "id": "bf050b1f",
   "metadata": {},
   "outputs": [],
   "source": [
    "loc_search.click()"
   ]
  },
  {
   "cell_type": "code",
   "execution_count": 79,
   "id": "f6e3e3d5",
   "metadata": {},
   "outputs": [],
   "source": [
    "salary_search = driver.find_element_by_xpath(\"/html/body/div[1]/div[3]/div[2]/section[1]/div[2]/div[4]/div[2]/div[2]/label/p/span[1]\")"
   ]
  },
  {
   "cell_type": "code",
   "execution_count": 80,
   "id": "48755421",
   "metadata": {},
   "outputs": [],
   "source": [
    "salary_search.click()"
   ]
  },
  {
   "cell_type": "code",
   "execution_count": 81,
   "id": "c41ba3dd",
   "metadata": {},
   "outputs": [
    {
     "data": {
      "text/plain": [
       "20"
      ]
     },
     "execution_count": 81,
     "metadata": {},
     "output_type": "execute_result"
    }
   ],
   "source": [
    "job_title = driver.find_elements_by_xpath('//a[@class=\"title fw500 ellipsis\"]')\n",
    "len(job_title)"
   ]
  },
  {
   "cell_type": "code",
   "execution_count": 82,
   "id": "2224ab2a",
   "metadata": {},
   "outputs": [
    {
     "data": {
      "text/plain": [
       "20"
      ]
     },
     "execution_count": 82,
     "metadata": {},
     "output_type": "execute_result"
    }
   ],
   "source": [
    "job_titles = []\n",
    "\n",
    "for i in job_title:\n",
    "    job_titles.append(i.text)\n",
    "    \n",
    "len(job_titles)"
   ]
  },
  {
   "cell_type": "code",
   "execution_count": 83,
   "id": "baddbb6a",
   "metadata": {},
   "outputs": [
    {
     "data": {
      "text/plain": [
       "20"
      ]
     },
     "execution_count": 83,
     "metadata": {},
     "output_type": "execute_result"
    }
   ],
   "source": [
    "location_search = driver.find_elements_by_xpath('//li[@class=\"fleft grey-text br2 placeHolderLi location\"]')\n",
    "len(location_search)"
   ]
  },
  {
   "cell_type": "code",
   "execution_count": 86,
   "id": "aeee41f9",
   "metadata": {},
   "outputs": [
    {
     "data": {
      "text/plain": [
       "20"
      ]
     },
     "execution_count": 86,
     "metadata": {},
     "output_type": "execute_result"
    }
   ],
   "source": [
    "job_location = []\n",
    "\n",
    "for i in location_search:\n",
    "    job_location.append(i.text)\n",
    "    \n",
    "len(job_location)"
   ]
  },
  {
   "cell_type": "code",
   "execution_count": 87,
   "id": "a7ca59d6",
   "metadata": {},
   "outputs": [
    {
     "data": {
      "text/plain": [
       "20"
      ]
     },
     "execution_count": 87,
     "metadata": {},
     "output_type": "execute_result"
    }
   ],
   "source": [
    "comp_name = driver.find_elements_by_xpath('//a[@class=\"subTitle ellipsis fleft\"]')\n",
    "len(comp_name)"
   ]
  },
  {
   "cell_type": "code",
   "execution_count": 88,
   "id": "d08d20c8",
   "metadata": {},
   "outputs": [
    {
     "data": {
      "text/plain": [
       "20"
      ]
     },
     "execution_count": 88,
     "metadata": {},
     "output_type": "execute_result"
    }
   ],
   "source": [
    "company_name = []\n",
    "\n",
    "for i in comp_name:\n",
    "    company_name.append(i.text)\n",
    "    \n",
    "len(company_name)"
   ]
  },
  {
   "cell_type": "code",
   "execution_count": 92,
   "id": "4b862d1c",
   "metadata": {},
   "outputs": [
    {
     "data": {
      "text/plain": [
       "20"
      ]
     },
     "execution_count": 92,
     "metadata": {},
     "output_type": "execute_result"
    }
   ],
   "source": [
    "exp_req = driver.find_elements_by_xpath('//li[@class=\"fleft grey-text br2 placeHolderLi experience\"]')\n",
    "len(exp_req)"
   ]
  },
  {
   "cell_type": "code",
   "execution_count": 93,
   "id": "3dca41ca",
   "metadata": {},
   "outputs": [
    {
     "data": {
      "text/plain": [
       "20"
      ]
     },
     "execution_count": 93,
     "metadata": {},
     "output_type": "execute_result"
    }
   ],
   "source": [
    "experience_req = []\n",
    "\n",
    "for i in exp_req:\n",
    "    experience_req.append(i.text)\n",
    "    \n",
    "len(experience_req)"
   ]
  },
  {
   "cell_type": "code",
   "execution_count": 95,
   "id": "385235d1",
   "metadata": {},
   "outputs": [
    {
     "data": {
      "text/html": [
       "<div>\n",
       "<style scoped>\n",
       "    .dataframe tbody tr th:only-of-type {\n",
       "        vertical-align: middle;\n",
       "    }\n",
       "\n",
       "    .dataframe tbody tr th {\n",
       "        vertical-align: top;\n",
       "    }\n",
       "\n",
       "    .dataframe thead th {\n",
       "        text-align: right;\n",
       "    }\n",
       "</style>\n",
       "<table border=\"1\" class=\"dataframe\">\n",
       "  <thead>\n",
       "    <tr style=\"text-align: right;\">\n",
       "      <th></th>\n",
       "      <th>Job Title</th>\n",
       "      <th>Location</th>\n",
       "      <th>Company Name</th>\n",
       "      <th>Experience Required</th>\n",
       "    </tr>\n",
       "  </thead>\n",
       "  <tbody>\n",
       "    <tr>\n",
       "      <th>0</th>\n",
       "      <td>Data Scientist | Python | Machine Learning | D...</td>\n",
       "      <td>Noida, Gurgaon/Gurugram, Delhi / NCR</td>\n",
       "      <td>Schlesinger Group</td>\n",
       "      <td>0-3 Yrs</td>\n",
       "    </tr>\n",
       "    <tr>\n",
       "      <th>1</th>\n",
       "      <td>Senior Data Scientist I</td>\n",
       "      <td>Gurgaon/Gurugram</td>\n",
       "      <td>Delhivery</td>\n",
       "      <td>3-7 Yrs</td>\n",
       "    </tr>\n",
       "    <tr>\n",
       "      <th>2</th>\n",
       "      <td>Openings For Jr/mid/Sr level data Scientists</td>\n",
       "      <td>Kolkata, Hyderabad/Secunderabad, Pune, Ahmedab...</td>\n",
       "      <td>Pluto seven business solutions (p) limited</td>\n",
       "      <td>2-6 Yrs</td>\n",
       "    </tr>\n",
       "    <tr>\n",
       "      <th>3</th>\n",
       "      <td>Urgent Hiring For Data Scientist</td>\n",
       "      <td>Gurgaon/Gurugram, Bangalore/Bengaluru</td>\n",
       "      <td>Mount Talent Consulting Private Limited</td>\n",
       "      <td>1-6 Yrs</td>\n",
       "    </tr>\n",
       "    <tr>\n",
       "      <th>4</th>\n",
       "      <td>Urgent Hiring For Data Scientist</td>\n",
       "      <td>Gurgaon/Gurugram, Bangalore/Bengaluru</td>\n",
       "      <td>Mount Talent Consulting Private Limited</td>\n",
       "      <td>1-6 Yrs</td>\n",
       "    </tr>\n",
       "    <tr>\n",
       "      <th>5</th>\n",
       "      <td>Data Scientist role</td>\n",
       "      <td>Noida, Hyderabad/Secunderabad, Pune, Gurgaon/G...</td>\n",
       "      <td>Mount Talent Consulting Private Limited</td>\n",
       "      <td>1-3 Yrs</td>\n",
       "    </tr>\n",
       "    <tr>\n",
       "      <th>6</th>\n",
       "      <td>Data Scientist role</td>\n",
       "      <td>Noida, Hyderabad/Secunderabad, Pune, Gurgaon/G...</td>\n",
       "      <td>Mount Talent Consulting Private Limited</td>\n",
       "      <td>1-3 Yrs</td>\n",
       "    </tr>\n",
       "    <tr>\n",
       "      <th>7</th>\n",
       "      <td>Data Scientist</td>\n",
       "      <td>Bharuch, Jaipur, Bhopal, Mumbai, Jhansi, Nagpu...</td>\n",
       "      <td>Country Veggie</td>\n",
       "      <td>1-3 Yrs</td>\n",
       "    </tr>\n",
       "    <tr>\n",
       "      <th>8</th>\n",
       "      <td>Data Scientist Internship</td>\n",
       "      <td>New Delhi</td>\n",
       "      <td>iHackers Inc</td>\n",
       "      <td>0-1 Yrs</td>\n",
       "    </tr>\n",
       "    <tr>\n",
       "      <th>9</th>\n",
       "      <td>Data Scientist</td>\n",
       "      <td>Noida, New Delhi, Faridabad, Gurgaon/Gurugram,...</td>\n",
       "      <td>LG</td>\n",
       "      <td>0-2 Yrs</td>\n",
       "    </tr>\n",
       "  </tbody>\n",
       "</table>\n",
       "</div>"
      ],
      "text/plain": [
       "                                           Job Title  \\\n",
       "0  Data Scientist | Python | Machine Learning | D...   \n",
       "1                            Senior Data Scientist I   \n",
       "2       Openings For Jr/mid/Sr level data Scientists   \n",
       "3                   Urgent Hiring For Data Scientist   \n",
       "4                   Urgent Hiring For Data Scientist   \n",
       "5                                Data Scientist role   \n",
       "6                                Data Scientist role   \n",
       "7                                     Data Scientist   \n",
       "8                          Data Scientist Internship   \n",
       "9                                     Data Scientist   \n",
       "\n",
       "                                            Location  \\\n",
       "0               Noida, Gurgaon/Gurugram, Delhi / NCR   \n",
       "1                                   Gurgaon/Gurugram   \n",
       "2  Kolkata, Hyderabad/Secunderabad, Pune, Ahmedab...   \n",
       "3              Gurgaon/Gurugram, Bangalore/Bengaluru   \n",
       "4              Gurgaon/Gurugram, Bangalore/Bengaluru   \n",
       "5  Noida, Hyderabad/Secunderabad, Pune, Gurgaon/G...   \n",
       "6  Noida, Hyderabad/Secunderabad, Pune, Gurgaon/G...   \n",
       "7  Bharuch, Jaipur, Bhopal, Mumbai, Jhansi, Nagpu...   \n",
       "8                                          New Delhi   \n",
       "9  Noida, New Delhi, Faridabad, Gurgaon/Gurugram,...   \n",
       "\n",
       "                                 Company Name Experience Required  \n",
       "0                           Schlesinger Group             0-3 Yrs  \n",
       "1                                   Delhivery             3-7 Yrs  \n",
       "2  Pluto seven business solutions (p) limited             2-6 Yrs  \n",
       "3     Mount Talent Consulting Private Limited             1-6 Yrs  \n",
       "4     Mount Talent Consulting Private Limited             1-6 Yrs  \n",
       "5     Mount Talent Consulting Private Limited             1-3 Yrs  \n",
       "6     Mount Talent Consulting Private Limited             1-3 Yrs  \n",
       "7                              Country Veggie             1-3 Yrs  \n",
       "8                                iHackers Inc             0-1 Yrs  \n",
       "9                                          LG             0-2 Yrs  "
      ]
     },
     "execution_count": 95,
     "metadata": {},
     "output_type": "execute_result"
    }
   ],
   "source": [
    "df = pd.DataFrame({'Job Title':job_titles[:10],'Location':job_location[:10],'Company Name':company_name[:10],'Experience Required':experience_req[:10]})\n",
    "df"
   ]
  },
  {
   "cell_type": "markdown",
   "id": "9c5b5928",
   "metadata": {},
   "source": [
    "### Q4: Scrape data of first 100 sunglasses listings on flipkart.com. You have to scrape four attributes:\n",
    "#### 1. Brand\n",
    "#### 2. Product Description\n",
    "#### 3. Price\n",
    "#### To scrape the data you have to go through following steps:\n",
    "#### 1. Go to Flipkart webpage by url : https://www.flipkart.com/\n",
    "#### 2. Enter “sunglasses” in the search field where “search for products, brands andmore” is written and click the search icon\n",
    "#### 3. After that you will reach to the page having a lot of sunglasses. From this pageyou can scrap the required data as usual.\n",
    "#### 4. After scraping data from the first page, go to the “Next” Button at the bottom ofthe page , then click on it.\n",
    "#### 5. Now scrape data from this page as usual\n",
    "#### 6. Repeat this until you get data for 100 sunglasses."
   ]
  },
  {
   "cell_type": "code",
   "execution_count": 3,
   "id": "d1cabe84",
   "metadata": {},
   "outputs": [],
   "source": [
    "url = \"https://www.flipkart.com/\"\n",
    "driver.get(url)"
   ]
  },
  {
   "cell_type": "code",
   "execution_count": 12,
   "id": "36650124",
   "metadata": {},
   "outputs": [
    {
     "data": {
      "text/plain": [
       "<selenium.webdriver.remote.webelement.WebElement (session=\"aff134b7c36826f21a4a27a7bf855009\", element=\"1e7af6e4-67a3-4134-a236-5ddaf8699f1f\")>"
      ]
     },
     "execution_count": 12,
     "metadata": {},
     "output_type": "execute_result"
    }
   ],
   "source": [
    "search_title = driver.find_element_by_xpath('//div[@class=\"_3OO5Xc\"]/input')\n",
    "search_title"
   ]
  },
  {
   "cell_type": "code",
   "execution_count": 13,
   "id": "b0178699",
   "metadata": {},
   "outputs": [],
   "source": [
    "search_title.send_keys(\"sunglasses\")"
   ]
  },
  {
   "cell_type": "code",
   "execution_count": 16,
   "id": "541a3c3d",
   "metadata": {},
   "outputs": [
    {
     "data": {
      "text/plain": [
       "<selenium.webdriver.remote.webelement.WebElement (session=\"aff134b7c36826f21a4a27a7bf855009\", element=\"53c77f35-6512-4ae9-bdc5-5883d0c8a573\")>"
      ]
     },
     "execution_count": 16,
     "metadata": {},
     "output_type": "execute_result"
    }
   ],
   "source": [
    "search_btn = driver.find_element_by_xpath('//button[@class=\"L0Z3Pu\"]')\n",
    "search_btn"
   ]
  },
  {
   "cell_type": "code",
   "execution_count": 17,
   "id": "2e5809c8",
   "metadata": {},
   "outputs": [],
   "source": [
    "search_btn.click()"
   ]
  },
  {
   "cell_type": "code",
   "execution_count": 21,
   "id": "f8022c24",
   "metadata": {},
   "outputs": [
    {
     "data": {
      "text/plain": [
       "40"
      ]
     },
     "execution_count": 21,
     "metadata": {},
     "output_type": "execute_result"
    }
   ],
   "source": [
    "product_name1 = driver.find_elements_by_xpath('//div[@class=\"_2WkVRV\"]')\n",
    "len(product_name1)"
   ]
  },
  {
   "cell_type": "code",
   "execution_count": 22,
   "id": "548e7f0c",
   "metadata": {},
   "outputs": [
    {
     "data": {
      "text/plain": [
       "40"
      ]
     },
     "execution_count": 22,
     "metadata": {},
     "output_type": "execute_result"
    }
   ],
   "source": [
    "product_descp1 = driver.find_elements_by_xpath('//a[@class=\"IRpwTa\"]')\n",
    "len(product_descp1)"
   ]
  },
  {
   "cell_type": "code",
   "execution_count": 23,
   "id": "d0f22a68",
   "metadata": {},
   "outputs": [
    {
     "data": {
      "text/plain": [
       "40"
      ]
     },
     "execution_count": 23,
     "metadata": {},
     "output_type": "execute_result"
    }
   ],
   "source": [
    "price1 = driver.find_elements_by_xpath('//div[@class=\"_30jeq3\"]')\n",
    "len(price1)"
   ]
  },
  {
   "cell_type": "code",
   "execution_count": 24,
   "id": "ad6c2233",
   "metadata": {},
   "outputs": [
    {
     "data": {
      "text/plain": [
       "40"
      ]
     },
     "execution_count": 24,
     "metadata": {},
     "output_type": "execute_result"
    }
   ],
   "source": [
    "discount1 = driver.find_elements_by_xpath('//div[@class=\"_3Ay6Sb\"]')\n",
    "len(discount1)"
   ]
  },
  {
   "cell_type": "code",
   "execution_count": 27,
   "id": "3dd1937e",
   "metadata": {},
   "outputs": [],
   "source": [
    "product_names1 = []\n",
    "product_descps1 = []\n",
    "prices1 = []\n",
    "discounts1 = []\n",
    "\n",
    "for i in product_name1:\n",
    "    product_names1.append(i.text)\n",
    "    \n",
    "for i in product_descp1:\n",
    "    product_descps1.append(i.text)\n",
    "    \n",
    "for i in price1:\n",
    "    prices1.append(i.text)\n",
    "    \n",
    "for i in discount1:\n",
    "    discounts1.append(i.text)\n",
    "    "
   ]
  },
  {
   "cell_type": "code",
   "execution_count": 28,
   "id": "df63cb2e",
   "metadata": {},
   "outputs": [
    {
     "data": {
      "text/html": [
       "<div>\n",
       "<style scoped>\n",
       "    .dataframe tbody tr th:only-of-type {\n",
       "        vertical-align: middle;\n",
       "    }\n",
       "\n",
       "    .dataframe tbody tr th {\n",
       "        vertical-align: top;\n",
       "    }\n",
       "\n",
       "    .dataframe thead th {\n",
       "        text-align: right;\n",
       "    }\n",
       "</style>\n",
       "<table border=\"1\" class=\"dataframe\">\n",
       "  <thead>\n",
       "    <tr style=\"text-align: right;\">\n",
       "      <th></th>\n",
       "      <th>Product Name</th>\n",
       "      <th>Description</th>\n",
       "      <th>Price</th>\n",
       "      <th>Discount</th>\n",
       "    </tr>\n",
       "  </thead>\n",
       "  <tbody>\n",
       "    <tr>\n",
       "      <th>0</th>\n",
       "      <td>VINCENT CHASE</td>\n",
       "      <td>by Lenskart UV Protection Aviator Sunglasses (53)</td>\n",
       "      <td>₹999</td>\n",
       "      <td>50% off</td>\n",
       "    </tr>\n",
       "    <tr>\n",
       "      <th>1</th>\n",
       "      <td>VINCENT CHASE</td>\n",
       "      <td>by Lenskart UV Protection Aviator Sunglasses (...</td>\n",
       "      <td>₹999</td>\n",
       "      <td>50% off</td>\n",
       "    </tr>\n",
       "    <tr>\n",
       "      <th>2</th>\n",
       "      <td>Fastrack</td>\n",
       "      <td>UV Protection Wayfarer Sunglasses (Free Size)</td>\n",
       "      <td>₹759</td>\n",
       "      <td>15% off</td>\n",
       "    </tr>\n",
       "    <tr>\n",
       "      <th>3</th>\n",
       "      <td>SRPM</td>\n",
       "      <td>UV Protection Wayfarer Sunglasses (56)</td>\n",
       "      <td>₹188</td>\n",
       "      <td>85% off</td>\n",
       "    </tr>\n",
       "    <tr>\n",
       "      <th>4</th>\n",
       "      <td>PIRASO</td>\n",
       "      <td>UV Protection Aviator Sunglasses (54)</td>\n",
       "      <td>₹149</td>\n",
       "      <td>90% off</td>\n",
       "    </tr>\n",
       "    <tr>\n",
       "      <th>5</th>\n",
       "      <td>Elligator</td>\n",
       "      <td>UV Protection Round Sunglasses (54)</td>\n",
       "      <td>₹248</td>\n",
       "      <td>90% off</td>\n",
       "    </tr>\n",
       "    <tr>\n",
       "      <th>6</th>\n",
       "      <td>ROZZETTA CRAFT</td>\n",
       "      <td>UV Protection, Gradient Rectangular Sunglasses...</td>\n",
       "      <td>₹383</td>\n",
       "      <td>80% off</td>\n",
       "    </tr>\n",
       "    <tr>\n",
       "      <th>7</th>\n",
       "      <td>VINCENT CHASE</td>\n",
       "      <td>by Lenskart Polarized, UV Protection Aviator S...</td>\n",
       "      <td>₹999</td>\n",
       "      <td>60% off</td>\n",
       "    </tr>\n",
       "    <tr>\n",
       "      <th>8</th>\n",
       "      <td>SHAAH COLLECTIONS</td>\n",
       "      <td>UV Protection, Polarized, Mirrored Rectangular...</td>\n",
       "      <td>₹165</td>\n",
       "      <td>90% off</td>\n",
       "    </tr>\n",
       "    <tr>\n",
       "      <th>9</th>\n",
       "      <td>New Specs</td>\n",
       "      <td>Mirrored, UV Protection, Riding Glasses, Other...</td>\n",
       "      <td>₹262</td>\n",
       "      <td>83% off</td>\n",
       "    </tr>\n",
       "    <tr>\n",
       "      <th>10</th>\n",
       "      <td>SUNBEE</td>\n",
       "      <td>UV Protection, Polarized, Mirrored Round Sungl...</td>\n",
       "      <td>₹271</td>\n",
       "      <td>84% off</td>\n",
       "    </tr>\n",
       "    <tr>\n",
       "      <th>11</th>\n",
       "      <td>VINCENT CHASE</td>\n",
       "      <td>by Lenskart Polarized, UV Protection Wayfarer ...</td>\n",
       "      <td>₹999</td>\n",
       "      <td>50% off</td>\n",
       "    </tr>\n",
       "    <tr>\n",
       "      <th>12</th>\n",
       "      <td>PIRASO</td>\n",
       "      <td>UV Protection Aviator Sunglasses (54)</td>\n",
       "      <td>₹149</td>\n",
       "      <td>90% off</td>\n",
       "    </tr>\n",
       "    <tr>\n",
       "      <th>13</th>\n",
       "      <td>kingsunglasses</td>\n",
       "      <td>UV Protection Round Sunglasses (54)</td>\n",
       "      <td>₹189</td>\n",
       "      <td>82% off</td>\n",
       "    </tr>\n",
       "    <tr>\n",
       "      <th>14</th>\n",
       "      <td>New Specs</td>\n",
       "      <td>UV Protection Rectangular Sunglasses (Free Size)</td>\n",
       "      <td>₹259</td>\n",
       "      <td>87% off</td>\n",
       "    </tr>\n",
       "    <tr>\n",
       "      <th>15</th>\n",
       "      <td>ROZZETTA CRAFT</td>\n",
       "      <td>Gradient Round Sunglasses (Free Size)</td>\n",
       "      <td>₹426</td>\n",
       "      <td>88% off</td>\n",
       "    </tr>\n",
       "    <tr>\n",
       "      <th>16</th>\n",
       "      <td>kingsunglasses</td>\n",
       "      <td>UV Protection, Riding Glasses, Mirrored Wayfar...</td>\n",
       "      <td>₹189</td>\n",
       "      <td>84% off</td>\n",
       "    </tr>\n",
       "    <tr>\n",
       "      <th>17</th>\n",
       "      <td>Fastrack</td>\n",
       "      <td>UV Protection Aviator Sunglasses (58)</td>\n",
       "      <td>₹1,089</td>\n",
       "      <td>16% off</td>\n",
       "    </tr>\n",
       "    <tr>\n",
       "      <th>18</th>\n",
       "      <td>PHENOMENAL</td>\n",
       "      <td>UV Protection Retro Square Sunglasses (Free Size)</td>\n",
       "      <td>₹309</td>\n",
       "      <td>84% off</td>\n",
       "    </tr>\n",
       "    <tr>\n",
       "      <th>19</th>\n",
       "      <td>VINCENT CHASE</td>\n",
       "      <td>by Lenskart Polarized, UV Protection Aviator S...</td>\n",
       "      <td>₹999</td>\n",
       "      <td>60% off</td>\n",
       "    </tr>\n",
       "    <tr>\n",
       "      <th>20</th>\n",
       "      <td>ROZZETTA CRAFT</td>\n",
       "      <td>UV Protection, Gradient Rectangular Sunglasses...</td>\n",
       "      <td>₹348</td>\n",
       "      <td>84% off</td>\n",
       "    </tr>\n",
       "    <tr>\n",
       "      <th>21</th>\n",
       "      <td>PIRASO</td>\n",
       "      <td>UV Protection Wayfarer Sunglasses (32)</td>\n",
       "      <td>₹190</td>\n",
       "      <td>88% off</td>\n",
       "    </tr>\n",
       "    <tr>\n",
       "      <th>22</th>\n",
       "      <td>SHAAH COLLECTIONS</td>\n",
       "      <td>UV Protection, Polarized, Mirrored Rectangular...</td>\n",
       "      <td>₹181</td>\n",
       "      <td>81% off</td>\n",
       "    </tr>\n",
       "    <tr>\n",
       "      <th>23</th>\n",
       "      <td>Rich Club</td>\n",
       "      <td>UV Protection Cat-eye Sunglasses (48)</td>\n",
       "      <td>₹232</td>\n",
       "      <td>66% off</td>\n",
       "    </tr>\n",
       "    <tr>\n",
       "      <th>24</th>\n",
       "      <td>Fastrack</td>\n",
       "      <td>UV Protection Aviator Sunglasses (Free Size)</td>\n",
       "      <td>₹639</td>\n",
       "      <td>20% off</td>\n",
       "    </tr>\n",
       "    <tr>\n",
       "      <th>25</th>\n",
       "      <td>ROYAL SON</td>\n",
       "      <td>UV Protection Rectangular Sunglasses (58)</td>\n",
       "      <td>₹449</td>\n",
       "      <td>70% off</td>\n",
       "    </tr>\n",
       "    <tr>\n",
       "      <th>26</th>\n",
       "      <td>ROZZETTA CRAFT</td>\n",
       "      <td>UV Protection Retro Square Sunglasses (Free Size)</td>\n",
       "      <td>₹474</td>\n",
       "      <td>78% off</td>\n",
       "    </tr>\n",
       "    <tr>\n",
       "      <th>27</th>\n",
       "      <td>VINCENT CHASE</td>\n",
       "      <td>by Lenskart UV Protection Wayfarer Sunglasses ...</td>\n",
       "      <td>₹999</td>\n",
       "      <td>50% off</td>\n",
       "    </tr>\n",
       "    <tr>\n",
       "      <th>28</th>\n",
       "      <td>Fastrack</td>\n",
       "      <td>UV Protection Shield Sunglasses (Free Size)</td>\n",
       "      <td>₹789</td>\n",
       "      <td>12% off</td>\n",
       "    </tr>\n",
       "    <tr>\n",
       "      <th>29</th>\n",
       "      <td>kingsunglasses</td>\n",
       "      <td>Mirrored, UV Protection Wayfarer Sunglasses (53)</td>\n",
       "      <td>₹276</td>\n",
       "      <td>86% off</td>\n",
       "    </tr>\n",
       "    <tr>\n",
       "      <th>30</th>\n",
       "      <td>agera</td>\n",
       "      <td>Gradient Aviator Sunglasses (55)</td>\n",
       "      <td>₹196</td>\n",
       "      <td>82% off</td>\n",
       "    </tr>\n",
       "    <tr>\n",
       "      <th>31</th>\n",
       "      <td>ROZZETTA CRAFT</td>\n",
       "      <td>UV Protection, Gradient Round Sunglasses (Free...</td>\n",
       "      <td>₹426</td>\n",
       "      <td>84% off</td>\n",
       "    </tr>\n",
       "    <tr>\n",
       "      <th>32</th>\n",
       "      <td>PIRASO</td>\n",
       "      <td>UV Protection Aviator Sunglasses (54)</td>\n",
       "      <td>₹149</td>\n",
       "      <td>90% off</td>\n",
       "    </tr>\n",
       "    <tr>\n",
       "      <th>33</th>\n",
       "      <td>Lee Topper</td>\n",
       "      <td>Riding Glasses, Night Vision Wrap-around Sungl...</td>\n",
       "      <td>₹276</td>\n",
       "      <td>88% off</td>\n",
       "    </tr>\n",
       "    <tr>\n",
       "      <th>34</th>\n",
       "      <td>PHENOMENAL</td>\n",
       "      <td>UV Protection, Mirrored Clubmaster Sunglasses ...</td>\n",
       "      <td>₹287</td>\n",
       "      <td>85% off</td>\n",
       "    </tr>\n",
       "    <tr>\n",
       "      <th>35</th>\n",
       "      <td>Anemone</td>\n",
       "      <td>UV Protection, Others Rectangular Sunglasses (50)</td>\n",
       "      <td>₹499</td>\n",
       "      <td>75% off</td>\n",
       "    </tr>\n",
       "    <tr>\n",
       "      <th>36</th>\n",
       "      <td>Rich Club</td>\n",
       "      <td>Polarized Round Sunglasses (48)</td>\n",
       "      <td>₹165</td>\n",
       "      <td>66% off</td>\n",
       "    </tr>\n",
       "    <tr>\n",
       "      <th>37</th>\n",
       "      <td>Johaena</td>\n",
       "      <td>Riding Glasses, UV Protection Oval Sunglasses ...</td>\n",
       "      <td>₹156</td>\n",
       "      <td>86% off</td>\n",
       "    </tr>\n",
       "    <tr>\n",
       "      <th>38</th>\n",
       "      <td>Elligator</td>\n",
       "      <td>UV Protection Round Sunglasses (53)</td>\n",
       "      <td>₹179</td>\n",
       "      <td>88% off</td>\n",
       "    </tr>\n",
       "    <tr>\n",
       "      <th>39</th>\n",
       "      <td>VINCENT CHASE</td>\n",
       "      <td>by Lenskart UV Protection Aviator Sunglasses (53)</td>\n",
       "      <td>₹999</td>\n",
       "      <td>50% off</td>\n",
       "    </tr>\n",
       "  </tbody>\n",
       "</table>\n",
       "</div>"
      ],
      "text/plain": [
       "         Product Name                                        Description  \\\n",
       "0       VINCENT CHASE  by Lenskart UV Protection Aviator Sunglasses (53)   \n",
       "1       VINCENT CHASE  by Lenskart UV Protection Aviator Sunglasses (...   \n",
       "2            Fastrack      UV Protection Wayfarer Sunglasses (Free Size)   \n",
       "3                SRPM             UV Protection Wayfarer Sunglasses (56)   \n",
       "4              PIRASO              UV Protection Aviator Sunglasses (54)   \n",
       "5           Elligator                UV Protection Round Sunglasses (54)   \n",
       "6      ROZZETTA CRAFT  UV Protection, Gradient Rectangular Sunglasses...   \n",
       "7       VINCENT CHASE  by Lenskart Polarized, UV Protection Aviator S...   \n",
       "8   SHAAH COLLECTIONS  UV Protection, Polarized, Mirrored Rectangular...   \n",
       "9           New Specs  Mirrored, UV Protection, Riding Glasses, Other...   \n",
       "10             SUNBEE  UV Protection, Polarized, Mirrored Round Sungl...   \n",
       "11      VINCENT CHASE  by Lenskart Polarized, UV Protection Wayfarer ...   \n",
       "12             PIRASO              UV Protection Aviator Sunglasses (54)   \n",
       "13     kingsunglasses                UV Protection Round Sunglasses (54)   \n",
       "14          New Specs   UV Protection Rectangular Sunglasses (Free Size)   \n",
       "15     ROZZETTA CRAFT              Gradient Round Sunglasses (Free Size)   \n",
       "16     kingsunglasses  UV Protection, Riding Glasses, Mirrored Wayfar...   \n",
       "17           Fastrack              UV Protection Aviator Sunglasses (58)   \n",
       "18         PHENOMENAL  UV Protection Retro Square Sunglasses (Free Size)   \n",
       "19      VINCENT CHASE  by Lenskart Polarized, UV Protection Aviator S...   \n",
       "20     ROZZETTA CRAFT  UV Protection, Gradient Rectangular Sunglasses...   \n",
       "21             PIRASO             UV Protection Wayfarer Sunglasses (32)   \n",
       "22  SHAAH COLLECTIONS  UV Protection, Polarized, Mirrored Rectangular...   \n",
       "23          Rich Club              UV Protection Cat-eye Sunglasses (48)   \n",
       "24           Fastrack       UV Protection Aviator Sunglasses (Free Size)   \n",
       "25          ROYAL SON          UV Protection Rectangular Sunglasses (58)   \n",
       "26     ROZZETTA CRAFT  UV Protection Retro Square Sunglasses (Free Size)   \n",
       "27      VINCENT CHASE  by Lenskart UV Protection Wayfarer Sunglasses ...   \n",
       "28           Fastrack        UV Protection Shield Sunglasses (Free Size)   \n",
       "29     kingsunglasses   Mirrored, UV Protection Wayfarer Sunglasses (53)   \n",
       "30              agera                   Gradient Aviator Sunglasses (55)   \n",
       "31     ROZZETTA CRAFT  UV Protection, Gradient Round Sunglasses (Free...   \n",
       "32             PIRASO              UV Protection Aviator Sunglasses (54)   \n",
       "33         Lee Topper  Riding Glasses, Night Vision Wrap-around Sungl...   \n",
       "34         PHENOMENAL  UV Protection, Mirrored Clubmaster Sunglasses ...   \n",
       "35            Anemone  UV Protection, Others Rectangular Sunglasses (50)   \n",
       "36          Rich Club                    Polarized Round Sunglasses (48)   \n",
       "37            Johaena  Riding Glasses, UV Protection Oval Sunglasses ...   \n",
       "38          Elligator                UV Protection Round Sunglasses (53)   \n",
       "39      VINCENT CHASE  by Lenskart UV Protection Aviator Sunglasses (53)   \n",
       "\n",
       "     Price Discount  \n",
       "0     ₹999  50% off  \n",
       "1     ₹999  50% off  \n",
       "2     ₹759  15% off  \n",
       "3     ₹188  85% off  \n",
       "4     ₹149  90% off  \n",
       "5     ₹248  90% off  \n",
       "6     ₹383  80% off  \n",
       "7     ₹999  60% off  \n",
       "8     ₹165  90% off  \n",
       "9     ₹262  83% off  \n",
       "10    ₹271  84% off  \n",
       "11    ₹999  50% off  \n",
       "12    ₹149  90% off  \n",
       "13    ₹189  82% off  \n",
       "14    ₹259  87% off  \n",
       "15    ₹426  88% off  \n",
       "16    ₹189  84% off  \n",
       "17  ₹1,089  16% off  \n",
       "18    ₹309  84% off  \n",
       "19    ₹999  60% off  \n",
       "20    ₹348  84% off  \n",
       "21    ₹190  88% off  \n",
       "22    ₹181  81% off  \n",
       "23    ₹232  66% off  \n",
       "24    ₹639  20% off  \n",
       "25    ₹449  70% off  \n",
       "26    ₹474  78% off  \n",
       "27    ₹999  50% off  \n",
       "28    ₹789  12% off  \n",
       "29    ₹276  86% off  \n",
       "30    ₹196  82% off  \n",
       "31    ₹426  84% off  \n",
       "32    ₹149  90% off  \n",
       "33    ₹276  88% off  \n",
       "34    ₹287  85% off  \n",
       "35    ₹499  75% off  \n",
       "36    ₹165  66% off  \n",
       "37    ₹156  86% off  \n",
       "38    ₹179  88% off  \n",
       "39    ₹999  50% off  "
      ]
     },
     "execution_count": 28,
     "metadata": {},
     "output_type": "execute_result"
    }
   ],
   "source": [
    "df = pd.DataFrame({'Product Name':product_names1,'Description':product_descps1,'Price':prices1,'Discount':discounts1})\n",
    "df"
   ]
  },
  {
   "cell_type": "code",
   "execution_count": 29,
   "id": "a6d9669b",
   "metadata": {},
   "outputs": [
    {
     "data": {
      "text/plain": [
       "<selenium.webdriver.remote.webelement.WebElement (session=\"aff134b7c36826f21a4a27a7bf855009\", element=\"b44fc8e2-79d5-4830-a26c-c05502a9c578\")>"
      ]
     },
     "execution_count": 29,
     "metadata": {},
     "output_type": "execute_result"
    }
   ],
   "source": [
    "next_button = driver.find_element_by_xpath(\"/html/body/div[1]/div/div[3]/div[1]/div[2]/div[12]/div/div/nav/a[11]/span\")\n",
    "next_button"
   ]
  },
  {
   "cell_type": "code",
   "execution_count": 30,
   "id": "8e4e3697",
   "metadata": {},
   "outputs": [],
   "source": [
    "next_button.click()"
   ]
  },
  {
   "cell_type": "code",
   "execution_count": 31,
   "id": "d0327ed9",
   "metadata": {},
   "outputs": [
    {
     "data": {
      "text/plain": [
       "40"
      ]
     },
     "execution_count": 31,
     "metadata": {},
     "output_type": "execute_result"
    }
   ],
   "source": [
    "product_name2 = driver.find_elements_by_xpath('//div[@class=\"_2WkVRV\"]')\n",
    "len(product_name2)"
   ]
  },
  {
   "cell_type": "code",
   "execution_count": 33,
   "id": "d2a9bc8b",
   "metadata": {},
   "outputs": [
    {
     "data": {
      "text/plain": [
       "40"
      ]
     },
     "execution_count": 33,
     "metadata": {},
     "output_type": "execute_result"
    }
   ],
   "source": [
    "product_descp2 = driver.find_elements_by_xpath('//a[@class=\"IRpwTa\"]')\n",
    "len(product_descp2)"
   ]
  },
  {
   "cell_type": "code",
   "execution_count": 34,
   "id": "4c457555",
   "metadata": {},
   "outputs": [
    {
     "data": {
      "text/plain": [
       "40"
      ]
     },
     "execution_count": 34,
     "metadata": {},
     "output_type": "execute_result"
    }
   ],
   "source": [
    "price2 = driver.find_elements_by_xpath('//div[@class=\"_30jeq3\"]')\n",
    "len(price2)"
   ]
  },
  {
   "cell_type": "code",
   "execution_count": 36,
   "id": "e2e1d024",
   "metadata": {},
   "outputs": [
    {
     "data": {
      "text/plain": [
       "40"
      ]
     },
     "execution_count": 36,
     "metadata": {},
     "output_type": "execute_result"
    }
   ],
   "source": [
    "discount2 = driver.find_elements_by_xpath('//div[@class=\"_3Ay6Sb\"]')\n",
    "len(discount2)"
   ]
  },
  {
   "cell_type": "code",
   "execution_count": 37,
   "id": "19d1388f",
   "metadata": {},
   "outputs": [],
   "source": [
    "product_names2 = []\n",
    "product_descps2 = []\n",
    "prices2 = []\n",
    "discounts2 = []\n",
    "\n",
    "for i in product_name2:\n",
    "    product_names2.append(i.text)\n",
    "    \n",
    "for i in product_descp2:\n",
    "    product_descps2.append(i.text)\n",
    "    \n",
    "for i in price2:\n",
    "    prices2.append(i.text)\n",
    "    \n",
    "for i in discount2:\n",
    "    discounts2.append(i.text)"
   ]
  },
  {
   "cell_type": "code",
   "execution_count": 38,
   "id": "c1a20119",
   "metadata": {},
   "outputs": [
    {
     "data": {
      "text/html": [
       "<div>\n",
       "<style scoped>\n",
       "    .dataframe tbody tr th:only-of-type {\n",
       "        vertical-align: middle;\n",
       "    }\n",
       "\n",
       "    .dataframe tbody tr th {\n",
       "        vertical-align: top;\n",
       "    }\n",
       "\n",
       "    .dataframe thead th {\n",
       "        text-align: right;\n",
       "    }\n",
       "</style>\n",
       "<table border=\"1\" class=\"dataframe\">\n",
       "  <thead>\n",
       "    <tr style=\"text-align: right;\">\n",
       "      <th></th>\n",
       "      <th>Product Name</th>\n",
       "      <th>Description</th>\n",
       "      <th>Price</th>\n",
       "      <th>Discount</th>\n",
       "    </tr>\n",
       "  </thead>\n",
       "  <tbody>\n",
       "    <tr>\n",
       "      <th>0</th>\n",
       "      <td>PIRASO</td>\n",
       "      <td>UV Protection Aviator Sunglasses (58)</td>\n",
       "      <td>₹299</td>\n",
       "      <td>88% off</td>\n",
       "    </tr>\n",
       "    <tr>\n",
       "      <th>1</th>\n",
       "      <td>ROYAL SON</td>\n",
       "      <td>Mirrored Aviator Sunglasses (55)</td>\n",
       "      <td>₹359</td>\n",
       "      <td>76% off</td>\n",
       "    </tr>\n",
       "    <tr>\n",
       "      <th>2</th>\n",
       "      <td>kingsunglasses</td>\n",
       "      <td>UV Protection Round Sunglasses (Free Size)</td>\n",
       "      <td>₹289</td>\n",
       "      <td>81% off</td>\n",
       "    </tr>\n",
       "    <tr>\n",
       "      <th>3</th>\n",
       "      <td>VINCENT CHASE</td>\n",
       "      <td>by Lenskart UV Protection Aviator Sunglasses (53)</td>\n",
       "      <td>₹999</td>\n",
       "      <td>50% off</td>\n",
       "    </tr>\n",
       "    <tr>\n",
       "      <th>4</th>\n",
       "      <td>Singco India</td>\n",
       "      <td>Gradient, Toughened Glass Lens, UV Protection ...</td>\n",
       "      <td>₹599</td>\n",
       "      <td>80% off</td>\n",
       "    </tr>\n",
       "    <tr>\n",
       "      <th>5</th>\n",
       "      <td>hipe</td>\n",
       "      <td>Mirrored, Gradient, UV Protection Aviator Sung...</td>\n",
       "      <td>₹178</td>\n",
       "      <td>85% off</td>\n",
       "    </tr>\n",
       "    <tr>\n",
       "      <th>6</th>\n",
       "      <td>PHENOMENAL</td>\n",
       "      <td>UV Protection, Mirrored Retro Square Sunglasse...</td>\n",
       "      <td>₹299</td>\n",
       "      <td>85% off</td>\n",
       "    </tr>\n",
       "    <tr>\n",
       "      <th>7</th>\n",
       "      <td>VINCENT CHASE</td>\n",
       "      <td>by Lenskart UV Protection Aviator Sunglasses (...</td>\n",
       "      <td>₹999</td>\n",
       "      <td>50% off</td>\n",
       "    </tr>\n",
       "    <tr>\n",
       "      <th>8</th>\n",
       "      <td>Elligator</td>\n",
       "      <td>UV Protection Round Sunglasses (54)</td>\n",
       "      <td>₹265</td>\n",
       "      <td>79% off</td>\n",
       "    </tr>\n",
       "    <tr>\n",
       "      <th>9</th>\n",
       "      <td>Rich Club</td>\n",
       "      <td>UV Protection Round Sunglasses (48)</td>\n",
       "      <td>₹250</td>\n",
       "      <td>68% off</td>\n",
       "    </tr>\n",
       "    <tr>\n",
       "      <th>10</th>\n",
       "      <td>Singco India</td>\n",
       "      <td>Riding Glasses, UV Protection, Others Aviator ...</td>\n",
       "      <td>₹201</td>\n",
       "      <td>86% off</td>\n",
       "    </tr>\n",
       "    <tr>\n",
       "      <th>11</th>\n",
       "      <td>VINCENT CHASE</td>\n",
       "      <td>by Lenskart Polarized, UV Protection Aviator S...</td>\n",
       "      <td>₹999</td>\n",
       "      <td>60% off</td>\n",
       "    </tr>\n",
       "    <tr>\n",
       "      <th>12</th>\n",
       "      <td>ROYAL SON</td>\n",
       "      <td>Mirrored Aviator Sunglasses (55)</td>\n",
       "      <td>₹359</td>\n",
       "      <td>76% off</td>\n",
       "    </tr>\n",
       "    <tr>\n",
       "      <th>13</th>\n",
       "      <td>Silver Kartz</td>\n",
       "      <td>UV Protection Wayfarer Sunglasses (Free Size)</td>\n",
       "      <td>₹246</td>\n",
       "      <td>83% off</td>\n",
       "    </tr>\n",
       "    <tr>\n",
       "      <th>14</th>\n",
       "      <td>DEIXELS</td>\n",
       "      <td>UV Protection Aviator, Wayfarer Sunglasses (Fr...</td>\n",
       "      <td>₹229</td>\n",
       "      <td>80% off</td>\n",
       "    </tr>\n",
       "    <tr>\n",
       "      <th>15</th>\n",
       "      <td>VINCENT CHASE</td>\n",
       "      <td>by Lenskart Polarized, UV Protection Wayfarer ...</td>\n",
       "      <td>₹999</td>\n",
       "      <td>50% off</td>\n",
       "    </tr>\n",
       "    <tr>\n",
       "      <th>16</th>\n",
       "      <td>PIRASO</td>\n",
       "      <td>UV Protection Butterfly Sunglasses (65)</td>\n",
       "      <td>₹349</td>\n",
       "      <td>86% off</td>\n",
       "    </tr>\n",
       "    <tr>\n",
       "      <th>17</th>\n",
       "      <td>Singco India</td>\n",
       "      <td>UV Protection, Riding Glasses, Others Aviator,...</td>\n",
       "      <td>₹203</td>\n",
       "      <td>70% off</td>\n",
       "    </tr>\n",
       "    <tr>\n",
       "      <th>18</th>\n",
       "      <td>Fastrack</td>\n",
       "      <td>Gradient, UV Protection Wayfarer Sunglasses (F...</td>\n",
       "      <td>₹659</td>\n",
       "      <td>17% off</td>\n",
       "    </tr>\n",
       "    <tr>\n",
       "      <th>19</th>\n",
       "      <td>LOUIS KOUROS</td>\n",
       "      <td>UV Protection Round Sunglasses (Free Size)</td>\n",
       "      <td>₹1,899</td>\n",
       "      <td>73% off</td>\n",
       "    </tr>\n",
       "    <tr>\n",
       "      <th>20</th>\n",
       "      <td>Fastrack</td>\n",
       "      <td>Polarized Retro Square Sunglasses (Free Size)</td>\n",
       "      <td>₹639</td>\n",
       "      <td>20% off</td>\n",
       "    </tr>\n",
       "    <tr>\n",
       "      <th>21</th>\n",
       "      <td>SUNBEE</td>\n",
       "      <td>UV Protection, Polarized Wayfarer Sunglasses (...</td>\n",
       "      <td>₹243</td>\n",
       "      <td>81% off</td>\n",
       "    </tr>\n",
       "    <tr>\n",
       "      <th>22</th>\n",
       "      <td>Fastrack</td>\n",
       "      <td>UV Protection Aviator Sunglasses (Free Size)</td>\n",
       "      <td>₹615</td>\n",
       "      <td>23% off</td>\n",
       "    </tr>\n",
       "    <tr>\n",
       "      <th>23</th>\n",
       "      <td>ROZZETTA CRAFT</td>\n",
       "      <td>Gradient Round Sunglasses (Free Size)</td>\n",
       "      <td>₹426</td>\n",
       "      <td>88% off</td>\n",
       "    </tr>\n",
       "    <tr>\n",
       "      <th>24</th>\n",
       "      <td>Rich Club</td>\n",
       "      <td>UV Protection Round Sunglasses (50)</td>\n",
       "      <td>₹355</td>\n",
       "      <td>64% off</td>\n",
       "    </tr>\n",
       "    <tr>\n",
       "      <th>25</th>\n",
       "      <td>ROYAL SON</td>\n",
       "      <td>Mirrored Aviator Sunglasses (58)</td>\n",
       "      <td>₹359</td>\n",
       "      <td>76% off</td>\n",
       "    </tr>\n",
       "    <tr>\n",
       "      <th>26</th>\n",
       "      <td>GANSTA</td>\n",
       "      <td>UV Protection, Riding Glasses Wayfarer Sunglas...</td>\n",
       "      <td>₹209</td>\n",
       "      <td>88% off</td>\n",
       "    </tr>\n",
       "    <tr>\n",
       "      <th>27</th>\n",
       "      <td>Rich Club</td>\n",
       "      <td>UV Protection Cat-eye Sunglasses (48)</td>\n",
       "      <td>₹232</td>\n",
       "      <td>66% off</td>\n",
       "    </tr>\n",
       "    <tr>\n",
       "      <th>28</th>\n",
       "      <td>ROZZETTA CRAFT</td>\n",
       "      <td>UV Protection Round Sunglasses (Free Size)</td>\n",
       "      <td>₹426</td>\n",
       "      <td>84% off</td>\n",
       "    </tr>\n",
       "    <tr>\n",
       "      <th>29</th>\n",
       "      <td>Elligator</td>\n",
       "      <td>UV Protection Retro Square, Round Sunglasses (54)</td>\n",
       "      <td>₹291</td>\n",
       "      <td>85% off</td>\n",
       "    </tr>\n",
       "    <tr>\n",
       "      <th>30</th>\n",
       "      <td>ROZZETTA CRAFT</td>\n",
       "      <td>UV Protection, Gradient Round Sunglasses (Free...</td>\n",
       "      <td>₹360</td>\n",
       "      <td>81% off</td>\n",
       "    </tr>\n",
       "    <tr>\n",
       "      <th>31</th>\n",
       "      <td>VINCENT CHASE</td>\n",
       "      <td>by Lenskart Polarized, UV Protection Aviator S...</td>\n",
       "      <td>₹999</td>\n",
       "      <td>60% off</td>\n",
       "    </tr>\n",
       "    <tr>\n",
       "      <th>32</th>\n",
       "      <td>Fastrack</td>\n",
       "      <td>UV Protection Wayfarer Sunglasses (55)</td>\n",
       "      <td>₹549</td>\n",
       "      <td>31% off</td>\n",
       "    </tr>\n",
       "    <tr>\n",
       "      <th>33</th>\n",
       "      <td>Rich Club</td>\n",
       "      <td>Polarized Round Sunglasses (48)</td>\n",
       "      <td>₹163</td>\n",
       "      <td>67% off</td>\n",
       "    </tr>\n",
       "    <tr>\n",
       "      <th>34</th>\n",
       "      <td>hipe</td>\n",
       "      <td>UV Protection, Gradient, Mirrored, Riding Glas...</td>\n",
       "      <td>₹209</td>\n",
       "      <td>79% off</td>\n",
       "    </tr>\n",
       "    <tr>\n",
       "      <th>35</th>\n",
       "      <td>ROZZETTA CRAFT</td>\n",
       "      <td>UV Protection Retro Square Sunglasses (Free Size)</td>\n",
       "      <td>₹474</td>\n",
       "      <td>78% off</td>\n",
       "    </tr>\n",
       "    <tr>\n",
       "      <th>36</th>\n",
       "      <td>SUNBEE</td>\n",
       "      <td>UV Protection, Polarized, Mirrored Wayfarer Su...</td>\n",
       "      <td>₹276</td>\n",
       "      <td>78% off</td>\n",
       "    </tr>\n",
       "    <tr>\n",
       "      <th>37</th>\n",
       "      <td>ROYAL SON</td>\n",
       "      <td>UV Protection Retro Square Sunglasses (58)</td>\n",
       "      <td>₹449</td>\n",
       "      <td>70% off</td>\n",
       "    </tr>\n",
       "    <tr>\n",
       "      <th>38</th>\n",
       "      <td>ROYAL SON</td>\n",
       "      <td>Mirrored Aviator Sunglasses (Free Size)</td>\n",
       "      <td>₹359</td>\n",
       "      <td>76% off</td>\n",
       "    </tr>\n",
       "    <tr>\n",
       "      <th>39</th>\n",
       "      <td>Anemone</td>\n",
       "      <td>UV Protection, Others Rectangular Sunglasses (50)</td>\n",
       "      <td>₹499</td>\n",
       "      <td>75% off</td>\n",
       "    </tr>\n",
       "  </tbody>\n",
       "</table>\n",
       "</div>"
      ],
      "text/plain": [
       "      Product Name                                        Description   Price  \\\n",
       "0           PIRASO              UV Protection Aviator Sunglasses (58)    ₹299   \n",
       "1        ROYAL SON                   Mirrored Aviator Sunglasses (55)    ₹359   \n",
       "2   kingsunglasses         UV Protection Round Sunglasses (Free Size)    ₹289   \n",
       "3    VINCENT CHASE  by Lenskart UV Protection Aviator Sunglasses (53)    ₹999   \n",
       "4     Singco India  Gradient, Toughened Glass Lens, UV Protection ...    ₹599   \n",
       "5             hipe  Mirrored, Gradient, UV Protection Aviator Sung...    ₹178   \n",
       "6       PHENOMENAL  UV Protection, Mirrored Retro Square Sunglasse...    ₹299   \n",
       "7    VINCENT CHASE  by Lenskart UV Protection Aviator Sunglasses (...    ₹999   \n",
       "8        Elligator                UV Protection Round Sunglasses (54)    ₹265   \n",
       "9        Rich Club                UV Protection Round Sunglasses (48)    ₹250   \n",
       "10    Singco India  Riding Glasses, UV Protection, Others Aviator ...    ₹201   \n",
       "11   VINCENT CHASE  by Lenskart Polarized, UV Protection Aviator S...    ₹999   \n",
       "12       ROYAL SON                   Mirrored Aviator Sunglasses (55)    ₹359   \n",
       "13    Silver Kartz      UV Protection Wayfarer Sunglasses (Free Size)    ₹246   \n",
       "14         DEIXELS  UV Protection Aviator, Wayfarer Sunglasses (Fr...    ₹229   \n",
       "15   VINCENT CHASE  by Lenskart Polarized, UV Protection Wayfarer ...    ₹999   \n",
       "16          PIRASO            UV Protection Butterfly Sunglasses (65)    ₹349   \n",
       "17    Singco India  UV Protection, Riding Glasses, Others Aviator,...    ₹203   \n",
       "18        Fastrack  Gradient, UV Protection Wayfarer Sunglasses (F...    ₹659   \n",
       "19    LOUIS KOUROS         UV Protection Round Sunglasses (Free Size)  ₹1,899   \n",
       "20        Fastrack      Polarized Retro Square Sunglasses (Free Size)    ₹639   \n",
       "21          SUNBEE  UV Protection, Polarized Wayfarer Sunglasses (...    ₹243   \n",
       "22        Fastrack       UV Protection Aviator Sunglasses (Free Size)    ₹615   \n",
       "23  ROZZETTA CRAFT              Gradient Round Sunglasses (Free Size)    ₹426   \n",
       "24       Rich Club                UV Protection Round Sunglasses (50)    ₹355   \n",
       "25       ROYAL SON                   Mirrored Aviator Sunglasses (58)    ₹359   \n",
       "26          GANSTA  UV Protection, Riding Glasses Wayfarer Sunglas...    ₹209   \n",
       "27       Rich Club              UV Protection Cat-eye Sunglasses (48)    ₹232   \n",
       "28  ROZZETTA CRAFT         UV Protection Round Sunglasses (Free Size)    ₹426   \n",
       "29       Elligator  UV Protection Retro Square, Round Sunglasses (54)    ₹291   \n",
       "30  ROZZETTA CRAFT  UV Protection, Gradient Round Sunglasses (Free...    ₹360   \n",
       "31   VINCENT CHASE  by Lenskart Polarized, UV Protection Aviator S...    ₹999   \n",
       "32        Fastrack             UV Protection Wayfarer Sunglasses (55)    ₹549   \n",
       "33       Rich Club                    Polarized Round Sunglasses (48)    ₹163   \n",
       "34            hipe  UV Protection, Gradient, Mirrored, Riding Glas...    ₹209   \n",
       "35  ROZZETTA CRAFT  UV Protection Retro Square Sunglasses (Free Size)    ₹474   \n",
       "36          SUNBEE  UV Protection, Polarized, Mirrored Wayfarer Su...    ₹276   \n",
       "37       ROYAL SON         UV Protection Retro Square Sunglasses (58)    ₹449   \n",
       "38       ROYAL SON            Mirrored Aviator Sunglasses (Free Size)    ₹359   \n",
       "39         Anemone  UV Protection, Others Rectangular Sunglasses (50)    ₹499   \n",
       "\n",
       "   Discount  \n",
       "0   88% off  \n",
       "1   76% off  \n",
       "2   81% off  \n",
       "3   50% off  \n",
       "4   80% off  \n",
       "5   85% off  \n",
       "6   85% off  \n",
       "7   50% off  \n",
       "8   79% off  \n",
       "9   68% off  \n",
       "10  86% off  \n",
       "11  60% off  \n",
       "12  76% off  \n",
       "13  83% off  \n",
       "14  80% off  \n",
       "15  50% off  \n",
       "16  86% off  \n",
       "17  70% off  \n",
       "18  17% off  \n",
       "19  73% off  \n",
       "20  20% off  \n",
       "21  81% off  \n",
       "22  23% off  \n",
       "23  88% off  \n",
       "24  64% off  \n",
       "25  76% off  \n",
       "26  88% off  \n",
       "27  66% off  \n",
       "28  84% off  \n",
       "29  85% off  \n",
       "30  81% off  \n",
       "31  60% off  \n",
       "32  31% off  \n",
       "33  67% off  \n",
       "34  79% off  \n",
       "35  78% off  \n",
       "36  78% off  \n",
       "37  70% off  \n",
       "38  76% off  \n",
       "39  75% off  "
      ]
     },
     "execution_count": 38,
     "metadata": {},
     "output_type": "execute_result"
    }
   ],
   "source": [
    "df1 = pd.DataFrame({'Product Name':product_names2,'Description':product_descps2,'Price':prices2,'Discount':discounts2})\n",
    "df1"
   ]
  },
  {
   "cell_type": "code",
   "execution_count": 39,
   "id": "7c76d2a5",
   "metadata": {},
   "outputs": [],
   "source": [
    "next_button1 = driver.find_element_by_xpath(\"/html/body/div[1]/div/div[3]/div[1]/div[2]/div[12]/div/div/nav/a[12]/span\")"
   ]
  },
  {
   "cell_type": "code",
   "execution_count": 40,
   "id": "b3020b3c",
   "metadata": {},
   "outputs": [],
   "source": [
    "next_button.click()"
   ]
  },
  {
   "cell_type": "code",
   "execution_count": 41,
   "id": "63cc209f",
   "metadata": {},
   "outputs": [
    {
     "data": {
      "text/plain": [
       "40"
      ]
     },
     "execution_count": 41,
     "metadata": {},
     "output_type": "execute_result"
    }
   ],
   "source": [
    "product_name3 = driver.find_elements_by_xpath('//div[@class=\"_2WkVRV\"]')\n",
    "len(product_name3)"
   ]
  },
  {
   "cell_type": "code",
   "execution_count": 42,
   "id": "5fa0f393",
   "metadata": {},
   "outputs": [
    {
     "data": {
      "text/plain": [
       "40"
      ]
     },
     "execution_count": 42,
     "metadata": {},
     "output_type": "execute_result"
    }
   ],
   "source": [
    "product_descp3 = driver.find_elements_by_xpath('//a[@class=\"IRpwTa\"]')\n",
    "len(product_descp3)"
   ]
  },
  {
   "cell_type": "code",
   "execution_count": 43,
   "id": "93bd84a4",
   "metadata": {},
   "outputs": [
    {
     "data": {
      "text/plain": [
       "40"
      ]
     },
     "execution_count": 43,
     "metadata": {},
     "output_type": "execute_result"
    }
   ],
   "source": [
    "price3 = driver.find_elements_by_xpath('//div[@class=\"_30jeq3\"]')\n",
    "len(price3)"
   ]
  },
  {
   "cell_type": "code",
   "execution_count": 44,
   "id": "a1ba39dd",
   "metadata": {},
   "outputs": [
    {
     "data": {
      "text/plain": [
       "39"
      ]
     },
     "execution_count": 44,
     "metadata": {},
     "output_type": "execute_result"
    }
   ],
   "source": [
    "discount3 = driver.find_elements_by_xpath('//div[@class=\"_3Ay6Sb\"]')\n",
    "len(discount3)"
   ]
  },
  {
   "cell_type": "code",
   "execution_count": 45,
   "id": "51ca10c3",
   "metadata": {},
   "outputs": [],
   "source": [
    "product_names3 = []\n",
    "product_descps3 = []\n",
    "prices3 = []\n",
    "discounts3 = []\n",
    "\n",
    "for i in product_name3:\n",
    "    product_names3.append(i.text)\n",
    "    \n",
    "for i in product_descp3:\n",
    "    product_descps3.append(i.text)\n",
    "    \n",
    "for i in price3:\n",
    "    prices3.append(i.text)\n",
    "    \n",
    "for i in discount3:\n",
    "    discounts3.append(i.text)"
   ]
  },
  {
   "cell_type": "code",
   "execution_count": 49,
   "id": "a83fc50a",
   "metadata": {},
   "outputs": [
    {
     "data": {
      "text/html": [
       "<div>\n",
       "<style scoped>\n",
       "    .dataframe tbody tr th:only-of-type {\n",
       "        vertical-align: middle;\n",
       "    }\n",
       "\n",
       "    .dataframe tbody tr th {\n",
       "        vertical-align: top;\n",
       "    }\n",
       "\n",
       "    .dataframe thead th {\n",
       "        text-align: right;\n",
       "    }\n",
       "</style>\n",
       "<table border=\"1\" class=\"dataframe\">\n",
       "  <thead>\n",
       "    <tr style=\"text-align: right;\">\n",
       "      <th></th>\n",
       "      <th>Product Name</th>\n",
       "      <th>Description</th>\n",
       "      <th>Price</th>\n",
       "      <th>Discount</th>\n",
       "    </tr>\n",
       "  </thead>\n",
       "  <tbody>\n",
       "    <tr>\n",
       "      <th>0</th>\n",
       "      <td>kingsunglasses</td>\n",
       "      <td>UV Protection, Night Vision Wayfarer Sunglasse...</td>\n",
       "      <td>₹273</td>\n",
       "      <td>83% off</td>\n",
       "    </tr>\n",
       "    <tr>\n",
       "      <th>1</th>\n",
       "      <td>Lee Topper</td>\n",
       "      <td>UV Protection, Riding Glasses Retro Square, Sp...</td>\n",
       "      <td>₹375</td>\n",
       "      <td>71% off</td>\n",
       "    </tr>\n",
       "    <tr>\n",
       "      <th>2</th>\n",
       "      <td>PHENOMENAL</td>\n",
       "      <td>UV Protection, Mirrored Retro Square Sunglasse...</td>\n",
       "      <td>₹299</td>\n",
       "      <td>85% off</td>\n",
       "    </tr>\n",
       "    <tr>\n",
       "      <th>3</th>\n",
       "      <td>VINCENT CHASE</td>\n",
       "      <td>by Lenskart UV Protection Aviator Sunglasses (53)</td>\n",
       "      <td>₹999</td>\n",
       "      <td>50% off</td>\n",
       "    </tr>\n",
       "    <tr>\n",
       "      <th>4</th>\n",
       "      <td>SUNBEE</td>\n",
       "      <td>UV Protection, Polarized, Mirrored Wayfarer Su...</td>\n",
       "      <td>₹258</td>\n",
       "      <td>80% off</td>\n",
       "    </tr>\n",
       "    <tr>\n",
       "      <th>5</th>\n",
       "      <td>GANSTA</td>\n",
       "      <td>UV Protection, Gradient Wayfarer Sunglasses (53)</td>\n",
       "      <td>₹296</td>\n",
       "      <td>85% off</td>\n",
       "    </tr>\n",
       "    <tr>\n",
       "      <th>6</th>\n",
       "      <td>ROYAL SON</td>\n",
       "      <td>Mirrored Aviator Sunglasses (Free Size)</td>\n",
       "      <td>₹359</td>\n",
       "      <td>76% off</td>\n",
       "    </tr>\n",
       "    <tr>\n",
       "      <th>7</th>\n",
       "      <td>VINCENT CHASE</td>\n",
       "      <td>by Lenskart UV Protection Aviator Sunglasses (...</td>\n",
       "      <td>₹999</td>\n",
       "      <td>50% off</td>\n",
       "    </tr>\n",
       "    <tr>\n",
       "      <th>8</th>\n",
       "      <td>PIRASO</td>\n",
       "      <td>UV Protection Aviator Sunglasses (Free Size)</td>\n",
       "      <td>₹261</td>\n",
       "      <td>83% off</td>\n",
       "    </tr>\n",
       "    <tr>\n",
       "      <th>9</th>\n",
       "      <td>kingsunglasses</td>\n",
       "      <td>UV Protection, Mirrored Round Sunglasses (54)</td>\n",
       "      <td>₹211</td>\n",
       "      <td>82% off</td>\n",
       "    </tr>\n",
       "    <tr>\n",
       "      <th>10</th>\n",
       "      <td>kingsunglasses</td>\n",
       "      <td>UV Protection, Mirrored Aviator Sunglasses (Fr...</td>\n",
       "      <td>₹235</td>\n",
       "      <td>87% off</td>\n",
       "    </tr>\n",
       "    <tr>\n",
       "      <th>11</th>\n",
       "      <td>VINCENT CHASE</td>\n",
       "      <td>by Lenskart Polarized, UV Protection Aviator S...</td>\n",
       "      <td>₹999</td>\n",
       "      <td>60% off</td>\n",
       "    </tr>\n",
       "    <tr>\n",
       "      <th>12</th>\n",
       "      <td>ROZZETTA CRAFT</td>\n",
       "      <td>UV Protection, Riding Glasses Rectangular Sung...</td>\n",
       "      <td>₹426</td>\n",
       "      <td>80% off</td>\n",
       "    </tr>\n",
       "    <tr>\n",
       "      <th>13</th>\n",
       "      <td>kingsunglasses</td>\n",
       "      <td>Mirrored, UV Protection Aviator Sunglasses (56)</td>\n",
       "      <td>₹211</td>\n",
       "      <td>83% off</td>\n",
       "    </tr>\n",
       "    <tr>\n",
       "      <th>14</th>\n",
       "      <td>ROZZETTA CRAFT</td>\n",
       "      <td>Mirrored, UV Protection Round Sunglasses (Free...</td>\n",
       "      <td>₹360</td>\n",
       "      <td>75% off</td>\n",
       "    </tr>\n",
       "    <tr>\n",
       "      <th>15</th>\n",
       "      <td>VINCENT CHASE</td>\n",
       "      <td>by Lenskart Polarized, UV Protection Wayfarer ...</td>\n",
       "      <td>₹999</td>\n",
       "      <td>50% off</td>\n",
       "    </tr>\n",
       "    <tr>\n",
       "      <th>16</th>\n",
       "      <td>Urbanic</td>\n",
       "      <td>Others Oval Sunglasses (Free Size)</td>\n",
       "      <td>₹699</td>\n",
       "      <td>29% off</td>\n",
       "    </tr>\n",
       "    <tr>\n",
       "      <th>17</th>\n",
       "      <td>Elligator</td>\n",
       "      <td>UV Protection Round Sunglasses (55)</td>\n",
       "      <td>₹239</td>\n",
       "      <td>88% off</td>\n",
       "    </tr>\n",
       "    <tr>\n",
       "      <th>18</th>\n",
       "      <td>ROZZETTA CRAFT</td>\n",
       "      <td>UV Protection, Gradient Retro Square Sunglasse...</td>\n",
       "      <td>₹349</td>\n",
       "      <td>82% off</td>\n",
       "    </tr>\n",
       "    <tr>\n",
       "      <th>19</th>\n",
       "      <td>Rich Club</td>\n",
       "      <td>UV Protection Round Sunglasses (48)</td>\n",
       "      <td>₹250</td>\n",
       "      <td>68% off</td>\n",
       "    </tr>\n",
       "  </tbody>\n",
       "</table>\n",
       "</div>"
      ],
      "text/plain": [
       "      Product Name                                        Description Price  \\\n",
       "0   kingsunglasses  UV Protection, Night Vision Wayfarer Sunglasse...  ₹273   \n",
       "1       Lee Topper  UV Protection, Riding Glasses Retro Square, Sp...  ₹375   \n",
       "2       PHENOMENAL  UV Protection, Mirrored Retro Square Sunglasse...  ₹299   \n",
       "3    VINCENT CHASE  by Lenskart UV Protection Aviator Sunglasses (53)  ₹999   \n",
       "4           SUNBEE  UV Protection, Polarized, Mirrored Wayfarer Su...  ₹258   \n",
       "5           GANSTA   UV Protection, Gradient Wayfarer Sunglasses (53)  ₹296   \n",
       "6        ROYAL SON            Mirrored Aviator Sunglasses (Free Size)  ₹359   \n",
       "7    VINCENT CHASE  by Lenskart UV Protection Aviator Sunglasses (...  ₹999   \n",
       "8           PIRASO       UV Protection Aviator Sunglasses (Free Size)  ₹261   \n",
       "9   kingsunglasses      UV Protection, Mirrored Round Sunglasses (54)  ₹211   \n",
       "10  kingsunglasses  UV Protection, Mirrored Aviator Sunglasses (Fr...  ₹235   \n",
       "11   VINCENT CHASE  by Lenskart Polarized, UV Protection Aviator S...  ₹999   \n",
       "12  ROZZETTA CRAFT  UV Protection, Riding Glasses Rectangular Sung...  ₹426   \n",
       "13  kingsunglasses    Mirrored, UV Protection Aviator Sunglasses (56)  ₹211   \n",
       "14  ROZZETTA CRAFT  Mirrored, UV Protection Round Sunglasses (Free...  ₹360   \n",
       "15   VINCENT CHASE  by Lenskart Polarized, UV Protection Wayfarer ...  ₹999   \n",
       "16         Urbanic                 Others Oval Sunglasses (Free Size)  ₹699   \n",
       "17       Elligator                UV Protection Round Sunglasses (55)  ₹239   \n",
       "18  ROZZETTA CRAFT  UV Protection, Gradient Retro Square Sunglasse...  ₹349   \n",
       "19       Rich Club                UV Protection Round Sunglasses (48)  ₹250   \n",
       "\n",
       "   Discount  \n",
       "0   83% off  \n",
       "1   71% off  \n",
       "2   85% off  \n",
       "3   50% off  \n",
       "4   80% off  \n",
       "5   85% off  \n",
       "6   76% off  \n",
       "7   50% off  \n",
       "8   83% off  \n",
       "9   82% off  \n",
       "10  87% off  \n",
       "11  60% off  \n",
       "12  80% off  \n",
       "13  83% off  \n",
       "14  75% off  \n",
       "15  50% off  \n",
       "16  29% off  \n",
       "17  88% off  \n",
       "18  82% off  \n",
       "19  68% off  "
      ]
     },
     "execution_count": 49,
     "metadata": {},
     "output_type": "execute_result"
    }
   ],
   "source": [
    "df2 = pd.DataFrame({'Product Name':product_names3[:20],'Description':product_descps3[:20],'Price':prices3[:20],'Discount':discounts3[:20]})\n",
    "df2"
   ]
  },
  {
   "cell_type": "code",
   "execution_count": 50,
   "id": "a0473fce",
   "metadata": {},
   "outputs": [
    {
     "data": {
      "text/html": [
       "<div>\n",
       "<style scoped>\n",
       "    .dataframe tbody tr th:only-of-type {\n",
       "        vertical-align: middle;\n",
       "    }\n",
       "\n",
       "    .dataframe tbody tr th {\n",
       "        vertical-align: top;\n",
       "    }\n",
       "\n",
       "    .dataframe thead th {\n",
       "        text-align: right;\n",
       "    }\n",
       "</style>\n",
       "<table border=\"1\" class=\"dataframe\">\n",
       "  <thead>\n",
       "    <tr style=\"text-align: right;\">\n",
       "      <th></th>\n",
       "      <th>Product Name</th>\n",
       "      <th>Description</th>\n",
       "      <th>Price</th>\n",
       "      <th>Discount</th>\n",
       "    </tr>\n",
       "  </thead>\n",
       "  <tbody>\n",
       "    <tr>\n",
       "      <th>0</th>\n",
       "      <td>VINCENT CHASE</td>\n",
       "      <td>by Lenskart UV Protection Aviator Sunglasses (53)</td>\n",
       "      <td>₹999</td>\n",
       "      <td>50% off</td>\n",
       "    </tr>\n",
       "    <tr>\n",
       "      <th>1</th>\n",
       "      <td>VINCENT CHASE</td>\n",
       "      <td>by Lenskart UV Protection Aviator Sunglasses (...</td>\n",
       "      <td>₹999</td>\n",
       "      <td>50% off</td>\n",
       "    </tr>\n",
       "    <tr>\n",
       "      <th>2</th>\n",
       "      <td>Fastrack</td>\n",
       "      <td>UV Protection Wayfarer Sunglasses (Free Size)</td>\n",
       "      <td>₹759</td>\n",
       "      <td>15% off</td>\n",
       "    </tr>\n",
       "    <tr>\n",
       "      <th>3</th>\n",
       "      <td>SRPM</td>\n",
       "      <td>UV Protection Wayfarer Sunglasses (56)</td>\n",
       "      <td>₹188</td>\n",
       "      <td>85% off</td>\n",
       "    </tr>\n",
       "    <tr>\n",
       "      <th>4</th>\n",
       "      <td>PIRASO</td>\n",
       "      <td>UV Protection Aviator Sunglasses (54)</td>\n",
       "      <td>₹149</td>\n",
       "      <td>90% off</td>\n",
       "    </tr>\n",
       "    <tr>\n",
       "      <th>...</th>\n",
       "      <td>...</td>\n",
       "      <td>...</td>\n",
       "      <td>...</td>\n",
       "      <td>...</td>\n",
       "    </tr>\n",
       "    <tr>\n",
       "      <th>15</th>\n",
       "      <td>VINCENT CHASE</td>\n",
       "      <td>by Lenskart Polarized, UV Protection Wayfarer ...</td>\n",
       "      <td>₹999</td>\n",
       "      <td>50% off</td>\n",
       "    </tr>\n",
       "    <tr>\n",
       "      <th>16</th>\n",
       "      <td>Urbanic</td>\n",
       "      <td>Others Oval Sunglasses (Free Size)</td>\n",
       "      <td>₹699</td>\n",
       "      <td>29% off</td>\n",
       "    </tr>\n",
       "    <tr>\n",
       "      <th>17</th>\n",
       "      <td>Elligator</td>\n",
       "      <td>UV Protection Round Sunglasses (55)</td>\n",
       "      <td>₹239</td>\n",
       "      <td>88% off</td>\n",
       "    </tr>\n",
       "    <tr>\n",
       "      <th>18</th>\n",
       "      <td>ROZZETTA CRAFT</td>\n",
       "      <td>UV Protection, Gradient Retro Square Sunglasse...</td>\n",
       "      <td>₹349</td>\n",
       "      <td>82% off</td>\n",
       "    </tr>\n",
       "    <tr>\n",
       "      <th>19</th>\n",
       "      <td>Rich Club</td>\n",
       "      <td>UV Protection Round Sunglasses (48)</td>\n",
       "      <td>₹250</td>\n",
       "      <td>68% off</td>\n",
       "    </tr>\n",
       "  </tbody>\n",
       "</table>\n",
       "<p>100 rows × 4 columns</p>\n",
       "</div>"
      ],
      "text/plain": [
       "      Product Name                                        Description Price  \\\n",
       "0    VINCENT CHASE  by Lenskart UV Protection Aviator Sunglasses (53)  ₹999   \n",
       "1    VINCENT CHASE  by Lenskart UV Protection Aviator Sunglasses (...  ₹999   \n",
       "2         Fastrack      UV Protection Wayfarer Sunglasses (Free Size)  ₹759   \n",
       "3             SRPM             UV Protection Wayfarer Sunglasses (56)  ₹188   \n",
       "4           PIRASO              UV Protection Aviator Sunglasses (54)  ₹149   \n",
       "..             ...                                                ...   ...   \n",
       "15   VINCENT CHASE  by Lenskart Polarized, UV Protection Wayfarer ...  ₹999   \n",
       "16         Urbanic                 Others Oval Sunglasses (Free Size)  ₹699   \n",
       "17       Elligator                UV Protection Round Sunglasses (55)  ₹239   \n",
       "18  ROZZETTA CRAFT  UV Protection, Gradient Retro Square Sunglasse...  ₹349   \n",
       "19       Rich Club                UV Protection Round Sunglasses (48)  ₹250   \n",
       "\n",
       "   Discount  \n",
       "0   50% off  \n",
       "1   50% off  \n",
       "2   15% off  \n",
       "3   85% off  \n",
       "4   90% off  \n",
       "..      ...  \n",
       "15  50% off  \n",
       "16  29% off  \n",
       "17  88% off  \n",
       "18  82% off  \n",
       "19  68% off  \n",
       "\n",
       "[100 rows x 4 columns]"
      ]
     },
     "execution_count": 50,
     "metadata": {},
     "output_type": "execute_result"
    }
   ],
   "source": [
    "main_list = pd.concat([df,df1,df2],axis=0)\n",
    "main_list"
   ]
  },
  {
   "cell_type": "markdown",
   "id": "6bc153ef",
   "metadata": {},
   "source": [
    "### Q5: Scrape 100 reviews data from flipkart.com for iphone11 phone. You have to go the link:\n",
    "#### https://www.flipkart.com/apple-iphone-11-black-64-gb-includes- earpods-power\u0002adapter/p/itm0f37c2240b217?pid=MOBFKCTSVZAXUHGR&lid=LSTMOBFKCTSVZAXUHGREPBFGI&marketplace.\n",
    "#### As shown in the above page you have to scrape the tick marked attributes.These are:\n",
    "#### 1. Rating\n",
    "#### 2. Review summary\n",
    "#### 3. Full review\n",
    "#### 4. You have to scrape this data for first 100 reviews"
   ]
  },
  {
   "cell_type": "code",
   "execution_count": 17,
   "id": "6b8f371d",
   "metadata": {},
   "outputs": [],
   "source": [
    "url = \"https://www.flipkart.com/apple-iphone-11-green-64-gb-includes-earpods-power-adapter/p/itmfdb5266c6e904?pid=MOBFKCTSKZQCYCWE&lid=LSTMOBFKCTSKZQCYCWEVUJMID&marketplace=FLIPKART&q=iphone+11&store=tyy%2F4io&srno=s_1_4&otracker=search&otracker1=search&fm=SEARCH&iid=d20359e2-9fc9-4faa-8a9e-c1e3e474b14d.MOBFKCTSKZQCYCWE.SEARCH&ppt=hp&ppn=homepage&ssid=cl1razkdfk0000001642010965835&qH=f6cdfdaa9f3c23f3\"\n",
    "driver.get(url)"
   ]
  },
  {
   "cell_type": "code",
   "execution_count": 18,
   "id": "1814d5e3",
   "metadata": {},
   "outputs": [],
   "source": [
    "all_review = driver.find_element_by_xpath('//div[@class=\"_3UAT2v _16PBlm\"]')"
   ]
  },
  {
   "cell_type": "code",
   "execution_count": 19,
   "id": "0096e0b7",
   "metadata": {},
   "outputs": [],
   "source": [
    "all_review.click()"
   ]
  },
  {
   "cell_type": "code",
   "execution_count": 26,
   "id": "4da9187b",
   "metadata": {},
   "outputs": [
    {
     "data": {
      "text/plain": [
       "10"
      ]
     },
     "execution_count": 26,
     "metadata": {},
     "output_type": "execute_result"
    }
   ],
   "source": [
    "rating1 = driver.find_elements_by_xpath('//div[@class=\"_3LWZlK _1BLPMq\"]')\n",
    "len(rating1)"
   ]
  },
  {
   "cell_type": "code",
   "execution_count": 21,
   "id": "9d61d109",
   "metadata": {},
   "outputs": [
    {
     "data": {
      "text/plain": [
       "10"
      ]
     },
     "execution_count": 21,
     "metadata": {},
     "output_type": "execute_result"
    }
   ],
   "source": [
    "review_sum1 = driver.find_elements_by_xpath('//p[@class=\"_2-N8zT\"]')\n",
    "len(review_sum1)"
   ]
  },
  {
   "cell_type": "code",
   "execution_count": 22,
   "id": "1b37138f",
   "metadata": {},
   "outputs": [
    {
     "data": {
      "text/plain": [
       "10"
      ]
     },
     "execution_count": 22,
     "metadata": {},
     "output_type": "execute_result"
    }
   ],
   "source": [
    "full_review1 = driver.find_elements_by_xpath('//div[@class=\"t-ZTKy\"]')\n",
    "len(full_review1)"
   ]
  },
  {
   "cell_type": "code",
   "execution_count": 29,
   "id": "b52465f0",
   "metadata": {},
   "outputs": [],
   "source": [
    "ratings_1 = []\n",
    "reviews_sum1 = []\n",
    "full_reviews1 = []\n",
    "\n",
    "for i in rating1:\n",
    "    ratings_1.append(i.text)\n",
    "    \n",
    "for i in review_sum1:\n",
    "    reviews_sum1.append(i.text)\n",
    "    \n",
    "for i in full_review1:\n",
    "    full_reviews1.append(i.text.replace('\\n',''))"
   ]
  },
  {
   "cell_type": "code",
   "execution_count": 30,
   "id": "3331e0c6",
   "metadata": {},
   "outputs": [
    {
     "data": {
      "text/html": [
       "<div>\n",
       "<style scoped>\n",
       "    .dataframe tbody tr th:only-of-type {\n",
       "        vertical-align: middle;\n",
       "    }\n",
       "\n",
       "    .dataframe tbody tr th {\n",
       "        vertical-align: top;\n",
       "    }\n",
       "\n",
       "    .dataframe thead th {\n",
       "        text-align: right;\n",
       "    }\n",
       "</style>\n",
       "<table border=\"1\" class=\"dataframe\">\n",
       "  <thead>\n",
       "    <tr style=\"text-align: right;\">\n",
       "      <th></th>\n",
       "      <th>Rating</th>\n",
       "      <th>Review Summary</th>\n",
       "      <th>Full review</th>\n",
       "    </tr>\n",
       "  </thead>\n",
       "  <tbody>\n",
       "    <tr>\n",
       "      <th>0</th>\n",
       "      <td>5</td>\n",
       "      <td>Brilliant</td>\n",
       "      <td>The Best Phone for the MoneyThe iPhone 11 offe...</td>\n",
       "    </tr>\n",
       "    <tr>\n",
       "      <th>1</th>\n",
       "      <td>5</td>\n",
       "      <td>Simply awesome</td>\n",
       "      <td>Really satisfied with the Product I received.....</td>\n",
       "    </tr>\n",
       "    <tr>\n",
       "      <th>2</th>\n",
       "      <td>5</td>\n",
       "      <td>Perfect product!</td>\n",
       "      <td>Amazing phone with great cameras and better ba...</td>\n",
       "    </tr>\n",
       "    <tr>\n",
       "      <th>3</th>\n",
       "      <td>5</td>\n",
       "      <td>Best in the market!</td>\n",
       "      <td>Great iPhone very snappy experience as apple k...</td>\n",
       "    </tr>\n",
       "    <tr>\n",
       "      <th>4</th>\n",
       "      <td>5</td>\n",
       "      <td>Worth every penny</td>\n",
       "      <td>Previously I was using one plus 3t it was a gr...</td>\n",
       "    </tr>\n",
       "    <tr>\n",
       "      <th>5</th>\n",
       "      <td>5</td>\n",
       "      <td>Fabulous!</td>\n",
       "      <td>This is my first iOS phone. I am very happy wi...</td>\n",
       "    </tr>\n",
       "    <tr>\n",
       "      <th>6</th>\n",
       "      <td>5</td>\n",
       "      <td>Great product</td>\n",
       "      <td>Amazing Powerful and Durable Gadget.I’m am ver...</td>\n",
       "    </tr>\n",
       "    <tr>\n",
       "      <th>7</th>\n",
       "      <td>4</td>\n",
       "      <td>Good choice</td>\n",
       "      <td>So far it’s been an AMAZING experience coming ...</td>\n",
       "    </tr>\n",
       "    <tr>\n",
       "      <th>8</th>\n",
       "      <td>5</td>\n",
       "      <td>Highly recommended</td>\n",
       "      <td>What a camera .....just awesome ..you can feel...</td>\n",
       "    </tr>\n",
       "    <tr>\n",
       "      <th>9</th>\n",
       "      <td>5</td>\n",
       "      <td>Worth every penny</td>\n",
       "      <td>i11 is worthy to buy, too much happy with the ...</td>\n",
       "    </tr>\n",
       "  </tbody>\n",
       "</table>\n",
       "</div>"
      ],
      "text/plain": [
       "  Rating       Review Summary  \\\n",
       "0      5            Brilliant   \n",
       "1      5       Simply awesome   \n",
       "2      5     Perfect product!   \n",
       "3      5  Best in the market!   \n",
       "4      5    Worth every penny   \n",
       "5      5            Fabulous!   \n",
       "6      5        Great product   \n",
       "7      4          Good choice   \n",
       "8      5   Highly recommended   \n",
       "9      5    Worth every penny   \n",
       "\n",
       "                                         Full review  \n",
       "0  The Best Phone for the MoneyThe iPhone 11 offe...  \n",
       "1  Really satisfied with the Product I received.....  \n",
       "2  Amazing phone with great cameras and better ba...  \n",
       "3  Great iPhone very snappy experience as apple k...  \n",
       "4  Previously I was using one plus 3t it was a gr...  \n",
       "5  This is my first iOS phone. I am very happy wi...  \n",
       "6  Amazing Powerful and Durable Gadget.I’m am ver...  \n",
       "7  So far it’s been an AMAZING experience coming ...  \n",
       "8  What a camera .....just awesome ..you can feel...  \n",
       "9  i11 is worthy to buy, too much happy with the ...  "
      ]
     },
     "execution_count": 30,
     "metadata": {},
     "output_type": "execute_result"
    }
   ],
   "source": [
    "df = pd.DataFrame({'Rating':ratings_1,'Review Summary':reviews_sum1,'Full review':full_reviews1})\n",
    "df"
   ]
  },
  {
   "cell_type": "code",
   "execution_count": 31,
   "id": "bb224f6a",
   "metadata": {},
   "outputs": [],
   "source": [
    "next_btn = driver.find_element_by_xpath('//a[@class=\"_1LKTO3\"]')"
   ]
  },
  {
   "cell_type": "code",
   "execution_count": 32,
   "id": "c557d5c1",
   "metadata": {},
   "outputs": [],
   "source": [
    "next_btn.click()"
   ]
  },
  {
   "cell_type": "code",
   "execution_count": 34,
   "id": "e02db2b4",
   "metadata": {},
   "outputs": [
    {
     "data": {
      "text/plain": [
       "10"
      ]
     },
     "execution_count": 34,
     "metadata": {},
     "output_type": "execute_result"
    }
   ],
   "source": [
    "rating2 = driver.find_elements_by_xpath('//div[@class=\"_3LWZlK _1BLPMq\"]')\n",
    "len(rating2)"
   ]
  },
  {
   "cell_type": "code",
   "execution_count": 35,
   "id": "38ba9d1b",
   "metadata": {},
   "outputs": [
    {
     "data": {
      "text/plain": [
       "10"
      ]
     },
     "execution_count": 35,
     "metadata": {},
     "output_type": "execute_result"
    }
   ],
   "source": [
    "review_sum2 = driver.find_elements_by_xpath('//p[@class=\"_2-N8zT\"]')\n",
    "len(review_sum2)"
   ]
  },
  {
   "cell_type": "code",
   "execution_count": 36,
   "id": "4a6cdb59",
   "metadata": {},
   "outputs": [
    {
     "data": {
      "text/plain": [
       "10"
      ]
     },
     "execution_count": 36,
     "metadata": {},
     "output_type": "execute_result"
    }
   ],
   "source": [
    "full_review2 = driver.find_elements_by_xpath('//div[@class=\"t-ZTKy\"]')\n",
    "len(full_review2)"
   ]
  },
  {
   "cell_type": "code",
   "execution_count": 37,
   "id": "e0c30e05",
   "metadata": {},
   "outputs": [],
   "source": [
    "ratings_2 = []\n",
    "reviews_sum2 = []\n",
    "full_reviews2 = []\n",
    "\n",
    "for i in rating2:\n",
    "    ratings_2.append(i.text)\n",
    "    \n",
    "for i in review_sum2:\n",
    "    reviews_sum2.append(i.text)\n",
    "    \n",
    "for i in full_review2:\n",
    "    full_reviews2.append(i.text.replace('\\n',''))"
   ]
  },
  {
   "cell_type": "code",
   "execution_count": 39,
   "id": "e5d9246e",
   "metadata": {},
   "outputs": [
    {
     "data": {
      "text/html": [
       "<div>\n",
       "<style scoped>\n",
       "    .dataframe tbody tr th:only-of-type {\n",
       "        vertical-align: middle;\n",
       "    }\n",
       "\n",
       "    .dataframe tbody tr th {\n",
       "        vertical-align: top;\n",
       "    }\n",
       "\n",
       "    .dataframe thead th {\n",
       "        text-align: right;\n",
       "    }\n",
       "</style>\n",
       "<table border=\"1\" class=\"dataframe\">\n",
       "  <thead>\n",
       "    <tr style=\"text-align: right;\">\n",
       "      <th></th>\n",
       "      <th>Rating</th>\n",
       "      <th>Review Summary</th>\n",
       "      <th>Full review</th>\n",
       "    </tr>\n",
       "  </thead>\n",
       "  <tbody>\n",
       "    <tr>\n",
       "      <th>0</th>\n",
       "      <td>5</td>\n",
       "      <td>Highly recommended</td>\n",
       "      <td>iphone 11 is a very good phone to buy only if ...</td>\n",
       "    </tr>\n",
       "    <tr>\n",
       "      <th>1</th>\n",
       "      <td>5</td>\n",
       "      <td>Perfect product!</td>\n",
       "      <td>It’s a must buy who is looking for an upgrade ...</td>\n",
       "    </tr>\n",
       "    <tr>\n",
       "      <th>2</th>\n",
       "      <td>5</td>\n",
       "      <td>Perfect product!</td>\n",
       "      <td>Value for money❤️❤️Its awesome mobile phone in...</td>\n",
       "    </tr>\n",
       "    <tr>\n",
       "      <th>3</th>\n",
       "      <td>5</td>\n",
       "      <td>Perfect product!</td>\n",
       "      <td>Iphone is just awesome.. battery backup is ver...</td>\n",
       "    </tr>\n",
       "    <tr>\n",
       "      <th>4</th>\n",
       "      <td>5</td>\n",
       "      <td>Highly recommended</td>\n",
       "      <td>It's my first time to use iOS phone and I am l...</td>\n",
       "    </tr>\n",
       "    <tr>\n",
       "      <th>5</th>\n",
       "      <td>5</td>\n",
       "      <td>Worth every penny</td>\n",
       "      <td>Best budget Iphone till date ❤️ go for it guys...</td>\n",
       "    </tr>\n",
       "    <tr>\n",
       "      <th>6</th>\n",
       "      <td>5</td>\n",
       "      <td>Classy product</td>\n",
       "      <td>Totally in love with this ❤ the camera quality...</td>\n",
       "    </tr>\n",
       "    <tr>\n",
       "      <th>7</th>\n",
       "      <td>5</td>\n",
       "      <td>Simply awesome</td>\n",
       "      <td>Excellent camera, good performance, no lag. Th...</td>\n",
       "    </tr>\n",
       "    <tr>\n",
       "      <th>8</th>\n",
       "      <td>5</td>\n",
       "      <td>Worth every penny</td>\n",
       "      <td>Smooth like butter, camera like fantabulous, s...</td>\n",
       "    </tr>\n",
       "    <tr>\n",
       "      <th>9</th>\n",
       "      <td>5</td>\n",
       "      <td>Worth every penny</td>\n",
       "      <td>It’s been almost a month since I have been usi...</td>\n",
       "    </tr>\n",
       "  </tbody>\n",
       "</table>\n",
       "</div>"
      ],
      "text/plain": [
       "  Rating      Review Summary  \\\n",
       "0      5  Highly recommended   \n",
       "1      5    Perfect product!   \n",
       "2      5    Perfect product!   \n",
       "3      5    Perfect product!   \n",
       "4      5  Highly recommended   \n",
       "5      5   Worth every penny   \n",
       "6      5      Classy product   \n",
       "7      5      Simply awesome   \n",
       "8      5   Worth every penny   \n",
       "9      5   Worth every penny   \n",
       "\n",
       "                                         Full review  \n",
       "0  iphone 11 is a very good phone to buy only if ...  \n",
       "1  It’s a must buy who is looking for an upgrade ...  \n",
       "2  Value for money❤️❤️Its awesome mobile phone in...  \n",
       "3  Iphone is just awesome.. battery backup is ver...  \n",
       "4  It's my first time to use iOS phone and I am l...  \n",
       "5  Best budget Iphone till date ❤️ go for it guys...  \n",
       "6  Totally in love with this ❤ the camera quality...  \n",
       "7  Excellent camera, good performance, no lag. Th...  \n",
       "8  Smooth like butter, camera like fantabulous, s...  \n",
       "9  It’s been almost a month since I have been usi...  "
      ]
     },
     "execution_count": 39,
     "metadata": {},
     "output_type": "execute_result"
    }
   ],
   "source": [
    "df1 = pd.DataFrame({'Rating':ratings_2,'Review Summary':reviews_sum2,'Full review':full_reviews2})\n",
    "df1"
   ]
  },
  {
   "cell_type": "code",
   "execution_count": 56,
   "id": "7c6566d3",
   "metadata": {},
   "outputs": [],
   "source": [
    "next_btn1 = driver.find_element_by_xpath('//nav[@class=\"yFHi8N\"]/a[4]')\n",
    "next_btn1.click()"
   ]
  },
  {
   "cell_type": "code",
   "execution_count": 57,
   "id": "738fc6e9",
   "metadata": {},
   "outputs": [
    {
     "data": {
      "text/plain": [
       "10"
      ]
     },
     "execution_count": 57,
     "metadata": {},
     "output_type": "execute_result"
    }
   ],
   "source": [
    "rating3 = driver.find_elements_by_xpath('//div[@class=\"_3LWZlK _1BLPMq\"]')\n",
    "len(rating3)"
   ]
  },
  {
   "cell_type": "code",
   "execution_count": 58,
   "id": "82cc4586",
   "metadata": {},
   "outputs": [
    {
     "data": {
      "text/plain": [
       "10"
      ]
     },
     "execution_count": 58,
     "metadata": {},
     "output_type": "execute_result"
    }
   ],
   "source": [
    "review_sum3 = driver.find_elements_by_xpath('//p[@class=\"_2-N8zT\"]')\n",
    "len(review_sum3)"
   ]
  },
  {
   "cell_type": "code",
   "execution_count": 59,
   "id": "a0a3c4d3",
   "metadata": {},
   "outputs": [
    {
     "data": {
      "text/plain": [
       "10"
      ]
     },
     "execution_count": 59,
     "metadata": {},
     "output_type": "execute_result"
    }
   ],
   "source": [
    "full_review3 = driver.find_elements_by_xpath('//div[@class=\"t-ZTKy\"]')\n",
    "len(full_review3)"
   ]
  },
  {
   "cell_type": "code",
   "execution_count": 60,
   "id": "a3d45c45",
   "metadata": {},
   "outputs": [],
   "source": [
    "ratings_3 = []\n",
    "reviews_sum3 = []\n",
    "full_reviews3 = []\n",
    "\n",
    "for i in rating3:\n",
    "    ratings_3.append(i.text)\n",
    "    \n",
    "for i in review_sum3:\n",
    "    reviews_sum3.append(i.text)\n",
    "    \n",
    "for i in full_review3:\n",
    "    full_reviews3.append(i.text.replace('\\n',''))"
   ]
  },
  {
   "cell_type": "code",
   "execution_count": 61,
   "id": "80664188",
   "metadata": {},
   "outputs": [
    {
     "data": {
      "text/html": [
       "<div>\n",
       "<style scoped>\n",
       "    .dataframe tbody tr th:only-of-type {\n",
       "        vertical-align: middle;\n",
       "    }\n",
       "\n",
       "    .dataframe tbody tr th {\n",
       "        vertical-align: top;\n",
       "    }\n",
       "\n",
       "    .dataframe thead th {\n",
       "        text-align: right;\n",
       "    }\n",
       "</style>\n",
       "<table border=\"1\" class=\"dataframe\">\n",
       "  <thead>\n",
       "    <tr style=\"text-align: right;\">\n",
       "      <th></th>\n",
       "      <th>Rating</th>\n",
       "      <th>Review Summary</th>\n",
       "      <th>Full review</th>\n",
       "    </tr>\n",
       "  </thead>\n",
       "  <tbody>\n",
       "    <tr>\n",
       "      <th>0</th>\n",
       "      <td>5</td>\n",
       "      <td>Wonderful</td>\n",
       "      <td>This is my first ever I phone. Before this I w...</td>\n",
       "    </tr>\n",
       "    <tr>\n",
       "      <th>1</th>\n",
       "      <td>5</td>\n",
       "      <td>Terrific</td>\n",
       "      <td>Really worth of money. i just love it. It is t...</td>\n",
       "    </tr>\n",
       "    <tr>\n",
       "      <th>2</th>\n",
       "      <td>4</td>\n",
       "      <td>Nice product</td>\n",
       "      <td>Awesome Phone. Slightly high price but worth. ...</td>\n",
       "    </tr>\n",
       "    <tr>\n",
       "      <th>3</th>\n",
       "      <td>5</td>\n",
       "      <td>Perfect product!</td>\n",
       "      <td>Battery backup is extraordinary, camera is dec...</td>\n",
       "    </tr>\n",
       "    <tr>\n",
       "      <th>4</th>\n",
       "      <td>5</td>\n",
       "      <td>Classy product</td>\n",
       "      <td>Superb Product !!!A big and worthy upgrade fro...</td>\n",
       "    </tr>\n",
       "    <tr>\n",
       "      <th>5</th>\n",
       "      <td>5</td>\n",
       "      <td>Brilliant</td>\n",
       "      <td>I have migrated from OP 7pro... and trust me, ...</td>\n",
       "    </tr>\n",
       "    <tr>\n",
       "      <th>6</th>\n",
       "      <td>4</td>\n",
       "      <td>Good choice</td>\n",
       "      <td>Looking so good 👍 😍 super 👌 stylish 😎 phoneCle...</td>\n",
       "    </tr>\n",
       "    <tr>\n",
       "      <th>7</th>\n",
       "      <td>5</td>\n",
       "      <td>Must buy!</td>\n",
       "      <td>It’s an amazing product from apple and the cam...</td>\n",
       "    </tr>\n",
       "    <tr>\n",
       "      <th>8</th>\n",
       "      <td>5</td>\n",
       "      <td>Wonderful</td>\n",
       "      <td>I just directly switch from iphone 6s to iphon...</td>\n",
       "    </tr>\n",
       "    <tr>\n",
       "      <th>9</th>\n",
       "      <td>5</td>\n",
       "      <td>Perfect product!</td>\n",
       "      <td>After 1 month use I found camera quality best ...</td>\n",
       "    </tr>\n",
       "  </tbody>\n",
       "</table>\n",
       "</div>"
      ],
      "text/plain": [
       "  Rating    Review Summary                                        Full review\n",
       "0      5         Wonderful  This is my first ever I phone. Before this I w...\n",
       "1      5          Terrific  Really worth of money. i just love it. It is t...\n",
       "2      4      Nice product  Awesome Phone. Slightly high price but worth. ...\n",
       "3      5  Perfect product!  Battery backup is extraordinary, camera is dec...\n",
       "4      5    Classy product  Superb Product !!!A big and worthy upgrade fro...\n",
       "5      5         Brilliant  I have migrated from OP 7pro... and trust me, ...\n",
       "6      4       Good choice  Looking so good 👍 😍 super 👌 stylish 😎 phoneCle...\n",
       "7      5         Must buy!  It’s an amazing product from apple and the cam...\n",
       "8      5         Wonderful  I just directly switch from iphone 6s to iphon...\n",
       "9      5  Perfect product!  After 1 month use I found camera quality best ..."
      ]
     },
     "execution_count": 61,
     "metadata": {},
     "output_type": "execute_result"
    }
   ],
   "source": [
    "df2 = pd.DataFrame({'Rating':ratings_3,'Review Summary':reviews_sum3,'Full review':full_reviews3})\n",
    "df2"
   ]
  },
  {
   "cell_type": "code",
   "execution_count": 62,
   "id": "69784896",
   "metadata": {},
   "outputs": [],
   "source": [
    "next_btn2 = driver.find_element_by_xpath('//nav[@class=\"yFHi8N\"]/a[5]')\n",
    "next_btn2.click()"
   ]
  },
  {
   "cell_type": "code",
   "execution_count": 63,
   "id": "a0329402",
   "metadata": {},
   "outputs": [
    {
     "data": {
      "text/plain": [
       "9"
      ]
     },
     "execution_count": 63,
     "metadata": {},
     "output_type": "execute_result"
    }
   ],
   "source": [
    "rating4 = driver.find_elements_by_xpath('//div[@class=\"_3LWZlK _1BLPMq\"]')\n",
    "len(rating4)"
   ]
  },
  {
   "cell_type": "code",
   "execution_count": 64,
   "id": "0421b0c1",
   "metadata": {},
   "outputs": [
    {
     "data": {
      "text/plain": [
       "10"
      ]
     },
     "execution_count": 64,
     "metadata": {},
     "output_type": "execute_result"
    }
   ],
   "source": [
    "review_sum4 = driver.find_elements_by_xpath('//p[@class=\"_2-N8zT\"]')\n",
    "len(review_sum4)"
   ]
  },
  {
   "cell_type": "code",
   "execution_count": 65,
   "id": "292b6eaf",
   "metadata": {},
   "outputs": [
    {
     "data": {
      "text/plain": [
       "10"
      ]
     },
     "execution_count": 65,
     "metadata": {},
     "output_type": "execute_result"
    }
   ],
   "source": [
    "full_review4 = driver.find_elements_by_xpath('//div[@class=\"t-ZTKy\"]')\n",
    "len(full_review4)"
   ]
  },
  {
   "cell_type": "code",
   "execution_count": 68,
   "id": "6c93ae5d",
   "metadata": {},
   "outputs": [],
   "source": [
    "ratings_4 = []\n",
    "reviews_sum4 = []\n",
    "full_reviews4 = []\n",
    "\n",
    "for i in rating4:\n",
    "    ratings_4.append(i.text)\n",
    "    \n",
    "ratings_4.insert(8,None)    \n",
    "    \n",
    "for i in review_sum4:\n",
    "    reviews_sum4.append(i.text)\n",
    "    \n",
    "for i in full_review4:\n",
    "    full_reviews4.append(i.text.replace('\\n',''))"
   ]
  },
  {
   "cell_type": "code",
   "execution_count": 69,
   "id": "5a50a5c2",
   "metadata": {},
   "outputs": [
    {
     "data": {
      "text/html": [
       "<div>\n",
       "<style scoped>\n",
       "    .dataframe tbody tr th:only-of-type {\n",
       "        vertical-align: middle;\n",
       "    }\n",
       "\n",
       "    .dataframe tbody tr th {\n",
       "        vertical-align: top;\n",
       "    }\n",
       "\n",
       "    .dataframe thead th {\n",
       "        text-align: right;\n",
       "    }\n",
       "</style>\n",
       "<table border=\"1\" class=\"dataframe\">\n",
       "  <thead>\n",
       "    <tr style=\"text-align: right;\">\n",
       "      <th></th>\n",
       "      <th>Rating</th>\n",
       "      <th>Review Summary</th>\n",
       "      <th>Full review</th>\n",
       "    </tr>\n",
       "  </thead>\n",
       "  <tbody>\n",
       "    <tr>\n",
       "      <th>0</th>\n",
       "      <td>5</td>\n",
       "      <td>Simply awesome</td>\n",
       "      <td>It's very high performances devise i am like t...</td>\n",
       "    </tr>\n",
       "    <tr>\n",
       "      <th>1</th>\n",
       "      <td>5</td>\n",
       "      <td>Terrific purchase</td>\n",
       "      <td>Upgraded from iphone 6 to 11 best phone for ip...</td>\n",
       "    </tr>\n",
       "    <tr>\n",
       "      <th>2</th>\n",
       "      <td>5</td>\n",
       "      <td>Great product</td>\n",
       "      <td>Well you all know the specifications . One of ...</td>\n",
       "    </tr>\n",
       "    <tr>\n",
       "      <th>3</th>\n",
       "      <td>5</td>\n",
       "      <td>Terrific purchase</td>\n",
       "      <td>The built quality is not very premium.The batt...</td>\n",
       "    </tr>\n",
       "    <tr>\n",
       "      <th>4</th>\n",
       "      <td>5</td>\n",
       "      <td>Mind-blowing purchase</td>\n",
       "      <td>This will help you more. See if you are planni...</td>\n",
       "    </tr>\n",
       "    <tr>\n",
       "      <th>5</th>\n",
       "      <td>5</td>\n",
       "      <td>Excellent</td>\n",
       "      <td>Amazing camera and feel super machine I am not...</td>\n",
       "    </tr>\n",
       "    <tr>\n",
       "      <th>6</th>\n",
       "      <td>5</td>\n",
       "      <td>Simply awesome</td>\n",
       "      <td>Really good actually this is my first apple pr...</td>\n",
       "    </tr>\n",
       "    <tr>\n",
       "      <th>7</th>\n",
       "      <td>4</td>\n",
       "      <td>Good quality product</td>\n",
       "      <td>it is very good at performance. Camera is best...</td>\n",
       "    </tr>\n",
       "    <tr>\n",
       "      <th>8</th>\n",
       "      <td>None</td>\n",
       "      <td>Very poor</td>\n",
       "      <td>Reviewing again after 5 months. At the beginni...</td>\n",
       "    </tr>\n",
       "    <tr>\n",
       "      <th>9</th>\n",
       "      <td>5</td>\n",
       "      <td>Classy product</td>\n",
       "      <td>We are on apple ecosystem for almost eight yea...</td>\n",
       "    </tr>\n",
       "  </tbody>\n",
       "</table>\n",
       "</div>"
      ],
      "text/plain": [
       "  Rating         Review Summary  \\\n",
       "0      5         Simply awesome   \n",
       "1      5      Terrific purchase   \n",
       "2      5          Great product   \n",
       "3      5      Terrific purchase   \n",
       "4      5  Mind-blowing purchase   \n",
       "5      5              Excellent   \n",
       "6      5         Simply awesome   \n",
       "7      4   Good quality product   \n",
       "8   None              Very poor   \n",
       "9      5         Classy product   \n",
       "\n",
       "                                         Full review  \n",
       "0  It's very high performances devise i am like t...  \n",
       "1  Upgraded from iphone 6 to 11 best phone for ip...  \n",
       "2  Well you all know the specifications . One of ...  \n",
       "3  The built quality is not very premium.The batt...  \n",
       "4  This will help you more. See if you are planni...  \n",
       "5  Amazing camera and feel super machine I am not...  \n",
       "6  Really good actually this is my first apple pr...  \n",
       "7  it is very good at performance. Camera is best...  \n",
       "8  Reviewing again after 5 months. At the beginni...  \n",
       "9  We are on apple ecosystem for almost eight yea...  "
      ]
     },
     "execution_count": 69,
     "metadata": {},
     "output_type": "execute_result"
    }
   ],
   "source": [
    "df3 = pd.DataFrame({'Rating':ratings_4,'Review Summary':reviews_sum4,'Full review':full_reviews4})\n",
    "df3"
   ]
  },
  {
   "cell_type": "code",
   "execution_count": 70,
   "id": "eee55373",
   "metadata": {},
   "outputs": [],
   "source": [
    "next_btn3 = driver.find_element_by_xpath('//nav[@class=\"yFHi8N\"]/a[6]')\n",
    "next_btn3.click()"
   ]
  },
  {
   "cell_type": "code",
   "execution_count": 71,
   "id": "bd4503b5",
   "metadata": {},
   "outputs": [
    {
     "data": {
      "text/plain": [
       "10"
      ]
     },
     "execution_count": 71,
     "metadata": {},
     "output_type": "execute_result"
    }
   ],
   "source": [
    "rating5 = driver.find_elements_by_xpath('//div[@class=\"_3LWZlK _1BLPMq\"]')\n",
    "len(rating5)"
   ]
  },
  {
   "cell_type": "code",
   "execution_count": 72,
   "id": "8eec6dc9",
   "metadata": {},
   "outputs": [
    {
     "data": {
      "text/plain": [
       "10"
      ]
     },
     "execution_count": 72,
     "metadata": {},
     "output_type": "execute_result"
    }
   ],
   "source": [
    "review_sum5 = driver.find_elements_by_xpath('//p[@class=\"_2-N8zT\"]')\n",
    "len(review_sum5)"
   ]
  },
  {
   "cell_type": "code",
   "execution_count": 74,
   "id": "c55f5fc4",
   "metadata": {},
   "outputs": [
    {
     "data": {
      "text/plain": [
       "10"
      ]
     },
     "execution_count": 74,
     "metadata": {},
     "output_type": "execute_result"
    }
   ],
   "source": [
    "full_review5 = driver.find_elements_by_xpath('//div[@class=\"t-ZTKy\"]')\n",
    "len(full_review5)"
   ]
  },
  {
   "cell_type": "code",
   "execution_count": 76,
   "id": "2582a799",
   "metadata": {},
   "outputs": [],
   "source": [
    "ratings_5 = []\n",
    "reviews_sum5 = []\n",
    "full_reviews5 = []\n",
    "\n",
    "for i in rating5:\n",
    "    ratings_5.append(i.text)    \n",
    "    \n",
    "for i in review_sum5:\n",
    "    reviews_sum5.append(i.text)\n",
    "    \n",
    "for i in full_review5:\n",
    "    full_reviews5.append(i.text.replace('\\n',''))"
   ]
  },
  {
   "cell_type": "code",
   "execution_count": 77,
   "id": "31beb9e4",
   "metadata": {},
   "outputs": [
    {
     "data": {
      "text/html": [
       "<div>\n",
       "<style scoped>\n",
       "    .dataframe tbody tr th:only-of-type {\n",
       "        vertical-align: middle;\n",
       "    }\n",
       "\n",
       "    .dataframe tbody tr th {\n",
       "        vertical-align: top;\n",
       "    }\n",
       "\n",
       "    .dataframe thead th {\n",
       "        text-align: right;\n",
       "    }\n",
       "</style>\n",
       "<table border=\"1\" class=\"dataframe\">\n",
       "  <thead>\n",
       "    <tr style=\"text-align: right;\">\n",
       "      <th></th>\n",
       "      <th>Rating</th>\n",
       "      <th>Review Summary</th>\n",
       "      <th>Full review</th>\n",
       "    </tr>\n",
       "  </thead>\n",
       "  <tbody>\n",
       "    <tr>\n",
       "      <th>0</th>\n",
       "      <td>5</td>\n",
       "      <td>Perfect product!</td>\n",
       "      <td>It is just awesome mobile for this price from ...</td>\n",
       "    </tr>\n",
       "    <tr>\n",
       "      <th>1</th>\n",
       "      <td>5</td>\n",
       "      <td>Must buy!</td>\n",
       "      <td>Best Apple iPhone that i have bought at a very...</td>\n",
       "    </tr>\n",
       "    <tr>\n",
       "      <th>2</th>\n",
       "      <td>5</td>\n",
       "      <td>Fabulous!</td>\n",
       "      <td>I can say I'm damn impressed with iPhone 11. A...</td>\n",
       "    </tr>\n",
       "    <tr>\n",
       "      <th>3</th>\n",
       "      <td>5</td>\n",
       "      <td>Mind-blowing purchase</td>\n",
       "      <td>Best Quality Product OF iPhone Series , Sound ...</td>\n",
       "    </tr>\n",
       "    <tr>\n",
       "      <th>4</th>\n",
       "      <td>5</td>\n",
       "      <td>Mind-blowing purchase</td>\n",
       "      <td>First thanks to Flipkart for this amazing deal...</td>\n",
       "    </tr>\n",
       "    <tr>\n",
       "      <th>5</th>\n",
       "      <td>5</td>\n",
       "      <td>Wonderful</td>\n",
       "      <td>Superfast delivery by Flipkart. Thanks.1. iPho...</td>\n",
       "    </tr>\n",
       "    <tr>\n",
       "      <th>6</th>\n",
       "      <td>5</td>\n",
       "      <td>Must buy!</td>\n",
       "      <td>I rate this product 5* as it has got amazing u...</td>\n",
       "    </tr>\n",
       "    <tr>\n",
       "      <th>7</th>\n",
       "      <td>5</td>\n",
       "      <td>Great product</td>\n",
       "      <td>Again back to apple iphone after a gap of 2-3 ...</td>\n",
       "    </tr>\n",
       "    <tr>\n",
       "      <th>8</th>\n",
       "      <td>4</td>\n",
       "      <td>Very Good</td>\n",
       "      <td>impressive super phone and best in class camer...</td>\n",
       "    </tr>\n",
       "    <tr>\n",
       "      <th>9</th>\n",
       "      <td>5</td>\n",
       "      <td>Classy product</td>\n",
       "      <td>Well while switching from android to iOS the f...</td>\n",
       "    </tr>\n",
       "  </tbody>\n",
       "</table>\n",
       "</div>"
      ],
      "text/plain": [
       "  Rating         Review Summary  \\\n",
       "0      5       Perfect product!   \n",
       "1      5              Must buy!   \n",
       "2      5              Fabulous!   \n",
       "3      5  Mind-blowing purchase   \n",
       "4      5  Mind-blowing purchase   \n",
       "5      5              Wonderful   \n",
       "6      5              Must buy!   \n",
       "7      5          Great product   \n",
       "8      4              Very Good   \n",
       "9      5         Classy product   \n",
       "\n",
       "                                         Full review  \n",
       "0  It is just awesome mobile for this price from ...  \n",
       "1  Best Apple iPhone that i have bought at a very...  \n",
       "2  I can say I'm damn impressed with iPhone 11. A...  \n",
       "3  Best Quality Product OF iPhone Series , Sound ...  \n",
       "4  First thanks to Flipkart for this amazing deal...  \n",
       "5  Superfast delivery by Flipkart. Thanks.1. iPho...  \n",
       "6  I rate this product 5* as it has got amazing u...  \n",
       "7  Again back to apple iphone after a gap of 2-3 ...  \n",
       "8  impressive super phone and best in class camer...  \n",
       "9  Well while switching from android to iOS the f...  "
      ]
     },
     "execution_count": 77,
     "metadata": {},
     "output_type": "execute_result"
    }
   ],
   "source": [
    "df4 = pd.DataFrame({'Rating':ratings_5,'Review Summary':reviews_sum5,'Full review':full_reviews5})\n",
    "df4"
   ]
  },
  {
   "cell_type": "code",
   "execution_count": 78,
   "id": "fb876b94",
   "metadata": {},
   "outputs": [],
   "source": [
    "next_btn4 = driver.find_element_by_xpath('//nav[@class=\"yFHi8N\"]/a[7]')\n",
    "next_btn4.click()"
   ]
  },
  {
   "cell_type": "code",
   "execution_count": 79,
   "id": "31ddb2fa",
   "metadata": {},
   "outputs": [
    {
     "data": {
      "text/plain": [
       "10"
      ]
     },
     "execution_count": 79,
     "metadata": {},
     "output_type": "execute_result"
    }
   ],
   "source": [
    "rating6 = driver.find_elements_by_xpath('//div[@class=\"_3LWZlK _1BLPMq\"]')\n",
    "len(rating6)"
   ]
  },
  {
   "cell_type": "code",
   "execution_count": 80,
   "id": "e685a93f",
   "metadata": {},
   "outputs": [
    {
     "data": {
      "text/plain": [
       "10"
      ]
     },
     "execution_count": 80,
     "metadata": {},
     "output_type": "execute_result"
    }
   ],
   "source": [
    "review_sum6 = driver.find_elements_by_xpath('//p[@class=\"_2-N8zT\"]')\n",
    "len(review_sum6)"
   ]
  },
  {
   "cell_type": "code",
   "execution_count": 81,
   "id": "d526b38d",
   "metadata": {},
   "outputs": [
    {
     "data": {
      "text/plain": [
       "10"
      ]
     },
     "execution_count": 81,
     "metadata": {},
     "output_type": "execute_result"
    }
   ],
   "source": [
    "full_review6 = driver.find_elements_by_xpath('//div[@class=\"t-ZTKy\"]')\n",
    "len(full_review6)"
   ]
  },
  {
   "cell_type": "code",
   "execution_count": 82,
   "id": "abb95198",
   "metadata": {},
   "outputs": [],
   "source": [
    "ratings_6 = []\n",
    "reviews_sum6 = []\n",
    "full_reviews6 = []\n",
    "\n",
    "for i in rating6:\n",
    "    ratings_6.append(i.text)    \n",
    "    \n",
    "for i in review_sum6:\n",
    "    reviews_sum6.append(i.text)\n",
    "    \n",
    "for i in full_review6:\n",
    "    full_reviews6.append(i.text.replace('\\n',''))"
   ]
  },
  {
   "cell_type": "code",
   "execution_count": 83,
   "id": "11c87160",
   "metadata": {},
   "outputs": [
    {
     "data": {
      "text/html": [
       "<div>\n",
       "<style scoped>\n",
       "    .dataframe tbody tr th:only-of-type {\n",
       "        vertical-align: middle;\n",
       "    }\n",
       "\n",
       "    .dataframe tbody tr th {\n",
       "        vertical-align: top;\n",
       "    }\n",
       "\n",
       "    .dataframe thead th {\n",
       "        text-align: right;\n",
       "    }\n",
       "</style>\n",
       "<table border=\"1\" class=\"dataframe\">\n",
       "  <thead>\n",
       "    <tr style=\"text-align: right;\">\n",
       "      <th></th>\n",
       "      <th>Rating</th>\n",
       "      <th>Review Summary</th>\n",
       "      <th>Full review</th>\n",
       "    </tr>\n",
       "  </thead>\n",
       "  <tbody>\n",
       "    <tr>\n",
       "      <th>0</th>\n",
       "      <td>5</td>\n",
       "      <td>Perfect product!</td>\n",
       "      <td>In love with this iphone great performance,cam...</td>\n",
       "    </tr>\n",
       "    <tr>\n",
       "      <th>1</th>\n",
       "      <td>5</td>\n",
       "      <td>Just wow!</td>\n",
       "      <td>Best in class. Battery backup is good especial...</td>\n",
       "    </tr>\n",
       "    <tr>\n",
       "      <th>2</th>\n",
       "      <td>5</td>\n",
       "      <td>Awesome</td>\n",
       "      <td>Very excited to have this phone. This phone ha...</td>\n",
       "    </tr>\n",
       "    <tr>\n",
       "      <th>3</th>\n",
       "      <td>4</td>\n",
       "      <td>Pretty good</td>\n",
       "      <td>I was using Iphone 6s and also Oneplus 6t. Bot...</td>\n",
       "    </tr>\n",
       "    <tr>\n",
       "      <th>4</th>\n",
       "      <td>5</td>\n",
       "      <td>Terrific purchase</td>\n",
       "      <td>Its Very awesome product working and good came...</td>\n",
       "    </tr>\n",
       "    <tr>\n",
       "      <th>5</th>\n",
       "      <td>5</td>\n",
       "      <td>Awesome</td>\n",
       "      <td>I am using this phone for 5 days and its one o...</td>\n",
       "    </tr>\n",
       "    <tr>\n",
       "      <th>6</th>\n",
       "      <td>5</td>\n",
       "      <td>Classy product</td>\n",
       "      <td>Best and amazing product.....phone looks so pr...</td>\n",
       "    </tr>\n",
       "    <tr>\n",
       "      <th>7</th>\n",
       "      <td>5</td>\n",
       "      <td>Brilliant</td>\n",
       "      <td>Excellent camera and display touching very nic...</td>\n",
       "    </tr>\n",
       "    <tr>\n",
       "      <th>8</th>\n",
       "      <td>5</td>\n",
       "      <td>Terrific</td>\n",
       "      <td>I got this beast today. And I must say the pic...</td>\n",
       "    </tr>\n",
       "    <tr>\n",
       "      <th>9</th>\n",
       "      <td>5</td>\n",
       "      <td>Perfect product!</td>\n",
       "      <td>Awesome purchase. Amazing phone with good batt...</td>\n",
       "    </tr>\n",
       "  </tbody>\n",
       "</table>\n",
       "</div>"
      ],
      "text/plain": [
       "  Rating     Review Summary                                        Full review\n",
       "0      5   Perfect product!  In love with this iphone great performance,cam...\n",
       "1      5          Just wow!  Best in class. Battery backup is good especial...\n",
       "2      5            Awesome  Very excited to have this phone. This phone ha...\n",
       "3      4        Pretty good  I was using Iphone 6s and also Oneplus 6t. Bot...\n",
       "4      5  Terrific purchase  Its Very awesome product working and good came...\n",
       "5      5            Awesome  I am using this phone for 5 days and its one o...\n",
       "6      5     Classy product  Best and amazing product.....phone looks so pr...\n",
       "7      5          Brilliant  Excellent camera and display touching very nic...\n",
       "8      5           Terrific  I got this beast today. And I must say the pic...\n",
       "9      5   Perfect product!  Awesome purchase. Amazing phone with good batt..."
      ]
     },
     "execution_count": 83,
     "metadata": {},
     "output_type": "execute_result"
    }
   ],
   "source": [
    "df5 = pd.DataFrame({'Rating':ratings_6,'Review Summary':reviews_sum6,'Full review':full_reviews6})\n",
    "df5"
   ]
  },
  {
   "cell_type": "code",
   "execution_count": 84,
   "id": "614ef6db",
   "metadata": {},
   "outputs": [],
   "source": [
    "next_btn5 = driver.find_element_by_xpath('//nav[@class=\"yFHi8N\"]/a[8]')\n",
    "next_btn5.click()"
   ]
  },
  {
   "cell_type": "code",
   "execution_count": 85,
   "id": "96ca7ecc",
   "metadata": {},
   "outputs": [
    {
     "data": {
      "text/plain": [
       "9"
      ]
     },
     "execution_count": 85,
     "metadata": {},
     "output_type": "execute_result"
    }
   ],
   "source": [
    "rating7 = driver.find_elements_by_xpath('//div[@class=\"_3LWZlK _1BLPMq\"]')\n",
    "len(rating7)"
   ]
  },
  {
   "cell_type": "code",
   "execution_count": 86,
   "id": "17139c48",
   "metadata": {},
   "outputs": [
    {
     "data": {
      "text/plain": [
       "10"
      ]
     },
     "execution_count": 86,
     "metadata": {},
     "output_type": "execute_result"
    }
   ],
   "source": [
    "review_sum7 = driver.find_elements_by_xpath('//p[@class=\"_2-N8zT\"]')\n",
    "len(review_sum7)"
   ]
  },
  {
   "cell_type": "code",
   "execution_count": 87,
   "id": "e14a5c21",
   "metadata": {},
   "outputs": [
    {
     "data": {
      "text/plain": [
       "10"
      ]
     },
     "execution_count": 87,
     "metadata": {},
     "output_type": "execute_result"
    }
   ],
   "source": [
    "full_review7 = driver.find_elements_by_xpath('//div[@class=\"t-ZTKy\"]')\n",
    "len(full_review7)"
   ]
  },
  {
   "cell_type": "code",
   "execution_count": 88,
   "id": "497a2a03",
   "metadata": {},
   "outputs": [],
   "source": [
    "ratings_7 = []\n",
    "reviews_sum7 = []\n",
    "full_reviews7 = []\n",
    "\n",
    "for i in rating7:\n",
    "    ratings_7.append(i.text)\n",
    "    \n",
    "ratings_7.insert(7,None)    \n",
    "    \n",
    "for i in review_sum7:\n",
    "    reviews_sum7.append(i.text)\n",
    "    \n",
    "for i in full_review7:\n",
    "    full_reviews7.append(i.text.replace('\\n',''))"
   ]
  },
  {
   "cell_type": "code",
   "execution_count": 89,
   "id": "67b21be4",
   "metadata": {},
   "outputs": [
    {
     "data": {
      "text/html": [
       "<div>\n",
       "<style scoped>\n",
       "    .dataframe tbody tr th:only-of-type {\n",
       "        vertical-align: middle;\n",
       "    }\n",
       "\n",
       "    .dataframe tbody tr th {\n",
       "        vertical-align: top;\n",
       "    }\n",
       "\n",
       "    .dataframe thead th {\n",
       "        text-align: right;\n",
       "    }\n",
       "</style>\n",
       "<table border=\"1\" class=\"dataframe\">\n",
       "  <thead>\n",
       "    <tr style=\"text-align: right;\">\n",
       "      <th></th>\n",
       "      <th>Rating</th>\n",
       "      <th>Review Summary</th>\n",
       "      <th>Full review</th>\n",
       "    </tr>\n",
       "  </thead>\n",
       "  <tbody>\n",
       "    <tr>\n",
       "      <th>0</th>\n",
       "      <td>4</td>\n",
       "      <td>Good quality product</td>\n",
       "      <td>I'm switching this phone to oppo reno 10x zoom...</td>\n",
       "    </tr>\n",
       "    <tr>\n",
       "      <th>1</th>\n",
       "      <td>5</td>\n",
       "      <td>Terrific</td>\n",
       "      <td>Simply AwesomeI have upgraded from iPhone 7 to...</td>\n",
       "    </tr>\n",
       "    <tr>\n",
       "      <th>2</th>\n",
       "      <td>5</td>\n",
       "      <td>Best in the market!</td>\n",
       "      <td>Damn this phone is a blast . Upgraded from and...</td>\n",
       "    </tr>\n",
       "    <tr>\n",
       "      <th>3</th>\n",
       "      <td>5</td>\n",
       "      <td>Perfect product!</td>\n",
       "      <td>Worth the money’ starting first from its perfo...</td>\n",
       "    </tr>\n",
       "    <tr>\n",
       "      <th>4</th>\n",
       "      <td>5</td>\n",
       "      <td>Awesome</td>\n",
       "      <td>I dreamt about this day from a long time.... G...</td>\n",
       "    </tr>\n",
       "    <tr>\n",
       "      <th>5</th>\n",
       "      <td>4</td>\n",
       "      <td>Value-for-money</td>\n",
       "      <td>I'm Really happy with the productDelivery was ...</td>\n",
       "    </tr>\n",
       "    <tr>\n",
       "      <th>6</th>\n",
       "      <td>5</td>\n",
       "      <td>Just wow!</td>\n",
       "      <td>Great iphone.I am writing this review after 2 ...</td>\n",
       "    </tr>\n",
       "    <tr>\n",
       "      <th>7</th>\n",
       "      <td>None</td>\n",
       "      <td>Worthless</td>\n",
       "      <td>Phone is awesome no doubt. But Camera &amp; Displa...</td>\n",
       "    </tr>\n",
       "    <tr>\n",
       "      <th>8</th>\n",
       "      <td>5</td>\n",
       "      <td>Super!</td>\n",
       "      <td>Did an upgrade from 6s plus to iphone 11.Ao fa...</td>\n",
       "    </tr>\n",
       "    <tr>\n",
       "      <th>9</th>\n",
       "      <td>5</td>\n",
       "      <td>Excellent</td>\n",
       "      <td>It was amazing experience for me. Honestly i a...</td>\n",
       "    </tr>\n",
       "  </tbody>\n",
       "</table>\n",
       "</div>"
      ],
      "text/plain": [
       "  Rating        Review Summary  \\\n",
       "0      4  Good quality product   \n",
       "1      5              Terrific   \n",
       "2      5   Best in the market!   \n",
       "3      5      Perfect product!   \n",
       "4      5               Awesome   \n",
       "5      4       Value-for-money   \n",
       "6      5             Just wow!   \n",
       "7   None             Worthless   \n",
       "8      5                Super!   \n",
       "9      5             Excellent   \n",
       "\n",
       "                                         Full review  \n",
       "0  I'm switching this phone to oppo reno 10x zoom...  \n",
       "1  Simply AwesomeI have upgraded from iPhone 7 to...  \n",
       "2  Damn this phone is a blast . Upgraded from and...  \n",
       "3  Worth the money’ starting first from its perfo...  \n",
       "4  I dreamt about this day from a long time.... G...  \n",
       "5  I'm Really happy with the productDelivery was ...  \n",
       "6  Great iphone.I am writing this review after 2 ...  \n",
       "7  Phone is awesome no doubt. But Camera & Displa...  \n",
       "8  Did an upgrade from 6s plus to iphone 11.Ao fa...  \n",
       "9  It was amazing experience for me. Honestly i a...  "
      ]
     },
     "execution_count": 89,
     "metadata": {},
     "output_type": "execute_result"
    }
   ],
   "source": [
    "df6 = pd.DataFrame({'Rating':ratings_7,'Review Summary':reviews_sum7,'Full review':full_reviews7})\n",
    "df6"
   ]
  },
  {
   "cell_type": "code",
   "execution_count": 91,
   "id": "fa4d0058",
   "metadata": {},
   "outputs": [],
   "source": [
    "next_btn6 = driver.find_element_by_xpath('//nav[@class=\"yFHi8N\"]/a[7]')\n",
    "next_btn6.click()"
   ]
  },
  {
   "cell_type": "code",
   "execution_count": 92,
   "id": "290be342",
   "metadata": {},
   "outputs": [
    {
     "data": {
      "text/plain": [
       "9"
      ]
     },
     "execution_count": 92,
     "metadata": {},
     "output_type": "execute_result"
    }
   ],
   "source": [
    "rating8 = driver.find_elements_by_xpath('//div[@class=\"_3LWZlK _1BLPMq\"]')\n",
    "len(rating8)"
   ]
  },
  {
   "cell_type": "code",
   "execution_count": 93,
   "id": "f5113b2f",
   "metadata": {},
   "outputs": [
    {
     "data": {
      "text/plain": [
       "10"
      ]
     },
     "execution_count": 93,
     "metadata": {},
     "output_type": "execute_result"
    }
   ],
   "source": [
    "review_sum8 = driver.find_elements_by_xpath('//p[@class=\"_2-N8zT\"]')\n",
    "len(review_sum8)"
   ]
  },
  {
   "cell_type": "code",
   "execution_count": 94,
   "id": "7de2c19d",
   "metadata": {},
   "outputs": [
    {
     "data": {
      "text/plain": [
       "10"
      ]
     },
     "execution_count": 94,
     "metadata": {},
     "output_type": "execute_result"
    }
   ],
   "source": [
    "full_review8 = driver.find_elements_by_xpath('//div[@class=\"t-ZTKy\"]')\n",
    "len(full_review8)"
   ]
  },
  {
   "cell_type": "code",
   "execution_count": 95,
   "id": "98070ab9",
   "metadata": {},
   "outputs": [],
   "source": [
    "ratings_8 = []\n",
    "reviews_sum8 = []\n",
    "full_reviews8 = []\n",
    "\n",
    "for i in rating8:\n",
    "    ratings_8.append(i.text)\n",
    "    \n",
    "ratings_8.insert(2,None)    \n",
    "    \n",
    "for i in review_sum8:\n",
    "    reviews_sum8.append(i.text)\n",
    "    \n",
    "for i in full_review8:\n",
    "    full_reviews8.append(i.text.replace('\\n',''))"
   ]
  },
  {
   "cell_type": "code",
   "execution_count": 96,
   "id": "ee9692b7",
   "metadata": {},
   "outputs": [
    {
     "data": {
      "text/html": [
       "<div>\n",
       "<style scoped>\n",
       "    .dataframe tbody tr th:only-of-type {\n",
       "        vertical-align: middle;\n",
       "    }\n",
       "\n",
       "    .dataframe tbody tr th {\n",
       "        vertical-align: top;\n",
       "    }\n",
       "\n",
       "    .dataframe thead th {\n",
       "        text-align: right;\n",
       "    }\n",
       "</style>\n",
       "<table border=\"1\" class=\"dataframe\">\n",
       "  <thead>\n",
       "    <tr style=\"text-align: right;\">\n",
       "      <th></th>\n",
       "      <th>Rating</th>\n",
       "      <th>Review Summary</th>\n",
       "      <th>Full review</th>\n",
       "    </tr>\n",
       "  </thead>\n",
       "  <tbody>\n",
       "    <tr>\n",
       "      <th>0</th>\n",
       "      <td>5</td>\n",
       "      <td>Awesome</td>\n",
       "      <td>Always love the apple products, upgraded from ...</td>\n",
       "    </tr>\n",
       "    <tr>\n",
       "      <th>1</th>\n",
       "      <td>5</td>\n",
       "      <td>Perfect product!</td>\n",
       "      <td>Value for money5 star ratingExcellent cameraBa...</td>\n",
       "    </tr>\n",
       "    <tr>\n",
       "      <th>2</th>\n",
       "      <td>None</td>\n",
       "      <td>Very poor</td>\n",
       "      <td>Please DONT buy from here,I purchased Apple iP...</td>\n",
       "    </tr>\n",
       "    <tr>\n",
       "      <th>3</th>\n",
       "      <td>5</td>\n",
       "      <td>Fabulous!</td>\n",
       "      <td>awesome phone to have. it has got many smart f...</td>\n",
       "    </tr>\n",
       "    <tr>\n",
       "      <th>4</th>\n",
       "      <td>5</td>\n",
       "      <td>Excellent</td>\n",
       "      <td>Its a fabulous mobile look awesome performance...</td>\n",
       "    </tr>\n",
       "    <tr>\n",
       "      <th>5</th>\n",
       "      <td>5</td>\n",
       "      <td>Must buy!</td>\n",
       "      <td>Dear friends... I want to share my experience ...</td>\n",
       "    </tr>\n",
       "    <tr>\n",
       "      <th>6</th>\n",
       "      <td>4</td>\n",
       "      <td>Value-for-money</td>\n",
       "      <td>Just got this iphone 11And it is most powerful...</td>\n",
       "    </tr>\n",
       "    <tr>\n",
       "      <th>7</th>\n",
       "      <td>5</td>\n",
       "      <td>Best in the market!</td>\n",
       "      <td>The best all rounder iphone. Flipkart is doing...</td>\n",
       "    </tr>\n",
       "    <tr>\n",
       "      <th>8</th>\n",
       "      <td>5</td>\n",
       "      <td>Brilliant</td>\n",
       "      <td>Amazing phone and on great deal I received wit...</td>\n",
       "    </tr>\n",
       "    <tr>\n",
       "      <th>9</th>\n",
       "      <td>5</td>\n",
       "      <td>Terrific purchase</td>\n",
       "      <td>finally an iPhone with very nice battery backu...</td>\n",
       "    </tr>\n",
       "  </tbody>\n",
       "</table>\n",
       "</div>"
      ],
      "text/plain": [
       "  Rating       Review Summary  \\\n",
       "0      5              Awesome   \n",
       "1      5     Perfect product!   \n",
       "2   None            Very poor   \n",
       "3      5            Fabulous!   \n",
       "4      5            Excellent   \n",
       "5      5            Must buy!   \n",
       "6      4      Value-for-money   \n",
       "7      5  Best in the market!   \n",
       "8      5            Brilliant   \n",
       "9      5    Terrific purchase   \n",
       "\n",
       "                                         Full review  \n",
       "0  Always love the apple products, upgraded from ...  \n",
       "1  Value for money5 star ratingExcellent cameraBa...  \n",
       "2  Please DONT buy from here,I purchased Apple iP...  \n",
       "3  awesome phone to have. it has got many smart f...  \n",
       "4  Its a fabulous mobile look awesome performance...  \n",
       "5  Dear friends... I want to share my experience ...  \n",
       "6  Just got this iphone 11And it is most powerful...  \n",
       "7  The best all rounder iphone. Flipkart is doing...  \n",
       "8  Amazing phone and on great deal I received wit...  \n",
       "9  finally an iPhone with very nice battery backu...  "
      ]
     },
     "execution_count": 96,
     "metadata": {},
     "output_type": "execute_result"
    }
   ],
   "source": [
    "df7 = pd.DataFrame({'Rating':ratings_8,'Review Summary':reviews_sum8,'Full review':full_reviews8})\n",
    "df7"
   ]
  },
  {
   "cell_type": "code",
   "execution_count": 101,
   "id": "45a6d442",
   "metadata": {},
   "outputs": [],
   "source": [
    "next_btn7 = driver.find_element_by_xpath('//nav[@class=\"yFHi8N\"]/a[9]')\n",
    "next_btn7.click()"
   ]
  },
  {
   "cell_type": "code",
   "execution_count": 102,
   "id": "3f50dff7",
   "metadata": {},
   "outputs": [
    {
     "data": {
      "text/plain": [
       "10"
      ]
     },
     "execution_count": 102,
     "metadata": {},
     "output_type": "execute_result"
    }
   ],
   "source": [
    "rating9 = driver.find_elements_by_xpath('//div[@class=\"_3LWZlK _1BLPMq\"]')\n",
    "len(rating9)"
   ]
  },
  {
   "cell_type": "code",
   "execution_count": 103,
   "id": "3318bf04",
   "metadata": {},
   "outputs": [
    {
     "data": {
      "text/plain": [
       "10"
      ]
     },
     "execution_count": 103,
     "metadata": {},
     "output_type": "execute_result"
    }
   ],
   "source": [
    "review_sum9 = driver.find_elements_by_xpath('//p[@class=\"_2-N8zT\"]')\n",
    "len(review_sum9)"
   ]
  },
  {
   "cell_type": "code",
   "execution_count": 104,
   "id": "c49c4b53",
   "metadata": {},
   "outputs": [
    {
     "data": {
      "text/plain": [
       "10"
      ]
     },
     "execution_count": 104,
     "metadata": {},
     "output_type": "execute_result"
    }
   ],
   "source": [
    "full_review9 = driver.find_elements_by_xpath('//div[@class=\"t-ZTKy\"]')\n",
    "len(full_review9)"
   ]
  },
  {
   "cell_type": "code",
   "execution_count": 105,
   "id": "15d4e8f4",
   "metadata": {},
   "outputs": [],
   "source": [
    "ratings_9 = []\n",
    "reviews_sum9 = []\n",
    "full_reviews9 = []\n",
    "\n",
    "for i in rating9:\n",
    "    ratings_9.append(i.text)    \n",
    "    \n",
    "for i in review_sum9:\n",
    "    reviews_sum9.append(i.text)\n",
    "    \n",
    "for i in full_review9:\n",
    "    full_reviews9.append(i.text.replace('\\n',''))"
   ]
  },
  {
   "cell_type": "code",
   "execution_count": 106,
   "id": "a3ffabb4",
   "metadata": {},
   "outputs": [
    {
     "data": {
      "text/html": [
       "<div>\n",
       "<style scoped>\n",
       "    .dataframe tbody tr th:only-of-type {\n",
       "        vertical-align: middle;\n",
       "    }\n",
       "\n",
       "    .dataframe tbody tr th {\n",
       "        vertical-align: top;\n",
       "    }\n",
       "\n",
       "    .dataframe thead th {\n",
       "        text-align: right;\n",
       "    }\n",
       "</style>\n",
       "<table border=\"1\" class=\"dataframe\">\n",
       "  <thead>\n",
       "    <tr style=\"text-align: right;\">\n",
       "      <th></th>\n",
       "      <th>Rating</th>\n",
       "      <th>Review Summary</th>\n",
       "      <th>Full review</th>\n",
       "    </tr>\n",
       "  </thead>\n",
       "  <tbody>\n",
       "    <tr>\n",
       "      <th>0</th>\n",
       "      <td>5</td>\n",
       "      <td>Worth every penny</td>\n",
       "      <td>iPhone is delivered on time. Display is great ...</td>\n",
       "    </tr>\n",
       "    <tr>\n",
       "      <th>1</th>\n",
       "      <td>5</td>\n",
       "      <td>Wonderful</td>\n",
       "      <td>Nice value for money good and best price I pho...</td>\n",
       "    </tr>\n",
       "    <tr>\n",
       "      <th>2</th>\n",
       "      <td>5</td>\n",
       "      <td>Super!</td>\n",
       "      <td>This is my first ever iPhone.And I truly don’t...</td>\n",
       "    </tr>\n",
       "    <tr>\n",
       "      <th>3</th>\n",
       "      <td>5</td>\n",
       "      <td>Classy product</td>\n",
       "      <td>I got this phone for good price hence 5 star f...</td>\n",
       "    </tr>\n",
       "    <tr>\n",
       "      <th>4</th>\n",
       "      <td>5</td>\n",
       "      <td>Must buy!</td>\n",
       "      <td>Camera is excellent just lack of telephoto mod...</td>\n",
       "    </tr>\n",
       "    <tr>\n",
       "      <th>5</th>\n",
       "      <td>4</td>\n",
       "      <td>Wonderful</td>\n",
       "      <td>I genuinely liked it. One of the best mobile p...</td>\n",
       "    </tr>\n",
       "    <tr>\n",
       "      <th>6</th>\n",
       "      <td>5</td>\n",
       "      <td>Mind-blowing purchase</td>\n",
       "      <td>Flipkart honoured on time delivery, I have use...</td>\n",
       "    </tr>\n",
       "    <tr>\n",
       "      <th>7</th>\n",
       "      <td>4</td>\n",
       "      <td>Good quality product</td>\n",
       "      <td>Awesome camera, smooth and fast UI, display is...</td>\n",
       "    </tr>\n",
       "    <tr>\n",
       "      <th>8</th>\n",
       "      <td>5</td>\n",
       "      <td>Fabulous!</td>\n",
       "      <td>Good product nice experience with Flipkart but...</td>\n",
       "    </tr>\n",
       "    <tr>\n",
       "      <th>9</th>\n",
       "      <td>5</td>\n",
       "      <td>Worth every penny</td>\n",
       "      <td>Here is the thingThe only reason why you shoul...</td>\n",
       "    </tr>\n",
       "  </tbody>\n",
       "</table>\n",
       "</div>"
      ],
      "text/plain": [
       "  Rating         Review Summary  \\\n",
       "0      5      Worth every penny   \n",
       "1      5              Wonderful   \n",
       "2      5                 Super!   \n",
       "3      5         Classy product   \n",
       "4      5              Must buy!   \n",
       "5      4              Wonderful   \n",
       "6      5  Mind-blowing purchase   \n",
       "7      4   Good quality product   \n",
       "8      5              Fabulous!   \n",
       "9      5      Worth every penny   \n",
       "\n",
       "                                         Full review  \n",
       "0  iPhone is delivered on time. Display is great ...  \n",
       "1  Nice value for money good and best price I pho...  \n",
       "2  This is my first ever iPhone.And I truly don’t...  \n",
       "3  I got this phone for good price hence 5 star f...  \n",
       "4  Camera is excellent just lack of telephoto mod...  \n",
       "5  I genuinely liked it. One of the best mobile p...  \n",
       "6  Flipkart honoured on time delivery, I have use...  \n",
       "7  Awesome camera, smooth and fast UI, display is...  \n",
       "8  Good product nice experience with Flipkart but...  \n",
       "9  Here is the thingThe only reason why you shoul...  "
      ]
     },
     "execution_count": 106,
     "metadata": {},
     "output_type": "execute_result"
    }
   ],
   "source": [
    "df8 = pd.DataFrame({'Rating':ratings_9,'Review Summary':reviews_sum9,'Full review':full_reviews9})\n",
    "df8"
   ]
  },
  {
   "cell_type": "code",
   "execution_count": 108,
   "id": "74f745b5",
   "metadata": {},
   "outputs": [],
   "source": [
    "next_btn8 = driver.find_element_by_xpath('//nav[@class=\"yFHi8N\"]/a[10]')\n",
    "next_btn8.click()"
   ]
  },
  {
   "cell_type": "code",
   "execution_count": 109,
   "id": "da55a49e",
   "metadata": {},
   "outputs": [
    {
     "data": {
      "text/plain": [
       "10"
      ]
     },
     "execution_count": 109,
     "metadata": {},
     "output_type": "execute_result"
    }
   ],
   "source": [
    "rating10 = driver.find_elements_by_xpath('//div[@class=\"_3LWZlK _1BLPMq\"]')\n",
    "len(rating10)"
   ]
  },
  {
   "cell_type": "code",
   "execution_count": 110,
   "id": "b022463c",
   "metadata": {},
   "outputs": [
    {
     "data": {
      "text/plain": [
       "10"
      ]
     },
     "execution_count": 110,
     "metadata": {},
     "output_type": "execute_result"
    }
   ],
   "source": [
    "review_sum10 = driver.find_elements_by_xpath('//p[@class=\"_2-N8zT\"]')\n",
    "len(review_sum10)"
   ]
  },
  {
   "cell_type": "code",
   "execution_count": 111,
   "id": "a068d1da",
   "metadata": {},
   "outputs": [
    {
     "data": {
      "text/plain": [
       "10"
      ]
     },
     "execution_count": 111,
     "metadata": {},
     "output_type": "execute_result"
    }
   ],
   "source": [
    "full_review10 = driver.find_elements_by_xpath('//div[@class=\"t-ZTKy\"]')\n",
    "len(full_review10)"
   ]
  },
  {
   "cell_type": "code",
   "execution_count": 112,
   "id": "0881afd6",
   "metadata": {},
   "outputs": [],
   "source": [
    "ratings_10 = []\n",
    "reviews_sum10 = []\n",
    "full_reviews10 = []\n",
    "\n",
    "for i in rating10:\n",
    "    ratings_10.append(i.text)    \n",
    "    \n",
    "for i in review_sum10:\n",
    "    reviews_sum10.append(i.text)\n",
    "    \n",
    "for i in full_review10:\n",
    "    full_reviews10.append(i.text.replace('\\n',''))"
   ]
  },
  {
   "cell_type": "code",
   "execution_count": 113,
   "id": "904fd08c",
   "metadata": {},
   "outputs": [
    {
     "data": {
      "text/html": [
       "<div>\n",
       "<style scoped>\n",
       "    .dataframe tbody tr th:only-of-type {\n",
       "        vertical-align: middle;\n",
       "    }\n",
       "\n",
       "    .dataframe tbody tr th {\n",
       "        vertical-align: top;\n",
       "    }\n",
       "\n",
       "    .dataframe thead th {\n",
       "        text-align: right;\n",
       "    }\n",
       "</style>\n",
       "<table border=\"1\" class=\"dataframe\">\n",
       "  <thead>\n",
       "    <tr style=\"text-align: right;\">\n",
       "      <th></th>\n",
       "      <th>Rating</th>\n",
       "      <th>Review Summary</th>\n",
       "      <th>Full review</th>\n",
       "    </tr>\n",
       "  </thead>\n",
       "  <tbody>\n",
       "    <tr>\n",
       "      <th>0</th>\n",
       "      <td>5</td>\n",
       "      <td>Excellent</td>\n",
       "      <td>Value for money product. This iphone 11 is rea...</td>\n",
       "    </tr>\n",
       "    <tr>\n",
       "      <th>1</th>\n",
       "      <td>5</td>\n",
       "      <td>Terrific purchase</td>\n",
       "      <td>Well , as we all know if its not an Iphone , i...</td>\n",
       "    </tr>\n",
       "    <tr>\n",
       "      <th>2</th>\n",
       "      <td>5</td>\n",
       "      <td>Fabulous!</td>\n",
       "      <td>Just an awesome phone...upgraded from 6s to 11...</td>\n",
       "    </tr>\n",
       "    <tr>\n",
       "      <th>3</th>\n",
       "      <td>4</td>\n",
       "      <td>Value-for-money</td>\n",
       "      <td>As usual a great product from Apple. but the l...</td>\n",
       "    </tr>\n",
       "    <tr>\n",
       "      <th>4</th>\n",
       "      <td>5</td>\n",
       "      <td>Highly recommended</td>\n",
       "      <td>Amazing camera quality as expected, battery al...</td>\n",
       "    </tr>\n",
       "    <tr>\n",
       "      <th>5</th>\n",
       "      <td>5</td>\n",
       "      <td>Excellent</td>\n",
       "      <td>🤩🤩🤩🤩🤩🤩I loved the Phone.. Every time I pick up...</td>\n",
       "    </tr>\n",
       "    <tr>\n",
       "      <th>6</th>\n",
       "      <td>5</td>\n",
       "      <td>Worth every penny</td>\n",
       "      <td>I upgraded from one plus 6 to iPhone 11 and it...</td>\n",
       "    </tr>\n",
       "    <tr>\n",
       "      <th>7</th>\n",
       "      <td>4</td>\n",
       "      <td>Really Nice</td>\n",
       "      <td>Great phone and camera and timely delivery by ...</td>\n",
       "    </tr>\n",
       "    <tr>\n",
       "      <th>8</th>\n",
       "      <td>5</td>\n",
       "      <td>Great product</td>\n",
       "      <td>Great quality at not so great price, But worth...</td>\n",
       "    </tr>\n",
       "    <tr>\n",
       "      <th>9</th>\n",
       "      <td>5</td>\n",
       "      <td>Mind-blowing purchase</td>\n",
       "      <td>After using more than a year of using iPhone11...</td>\n",
       "    </tr>\n",
       "  </tbody>\n",
       "</table>\n",
       "</div>"
      ],
      "text/plain": [
       "  Rating         Review Summary  \\\n",
       "0      5              Excellent   \n",
       "1      5      Terrific purchase   \n",
       "2      5              Fabulous!   \n",
       "3      4        Value-for-money   \n",
       "4      5     Highly recommended   \n",
       "5      5              Excellent   \n",
       "6      5      Worth every penny   \n",
       "7      4            Really Nice   \n",
       "8      5          Great product   \n",
       "9      5  Mind-blowing purchase   \n",
       "\n",
       "                                         Full review  \n",
       "0  Value for money product. This iphone 11 is rea...  \n",
       "1  Well , as we all know if its not an Iphone , i...  \n",
       "2  Just an awesome phone...upgraded from 6s to 11...  \n",
       "3  As usual a great product from Apple. but the l...  \n",
       "4  Amazing camera quality as expected, battery al...  \n",
       "5  🤩🤩🤩🤩🤩🤩I loved the Phone.. Every time I pick up...  \n",
       "6  I upgraded from one plus 6 to iPhone 11 and it...  \n",
       "7  Great phone and camera and timely delivery by ...  \n",
       "8  Great quality at not so great price, But worth...  \n",
       "9  After using more than a year of using iPhone11...  "
      ]
     },
     "execution_count": 113,
     "metadata": {},
     "output_type": "execute_result"
    }
   ],
   "source": [
    "df9 = pd.DataFrame({'Rating':ratings_10,'Review Summary':reviews_sum10,'Full review':full_reviews10})\n",
    "df9"
   ]
  },
  {
   "cell_type": "code",
   "execution_count": 114,
   "id": "fe5e9ec0",
   "metadata": {},
   "outputs": [
    {
     "data": {
      "text/html": [
       "<div>\n",
       "<style scoped>\n",
       "    .dataframe tbody tr th:only-of-type {\n",
       "        vertical-align: middle;\n",
       "    }\n",
       "\n",
       "    .dataframe tbody tr th {\n",
       "        vertical-align: top;\n",
       "    }\n",
       "\n",
       "    .dataframe thead th {\n",
       "        text-align: right;\n",
       "    }\n",
       "</style>\n",
       "<table border=\"1\" class=\"dataframe\">\n",
       "  <thead>\n",
       "    <tr style=\"text-align: right;\">\n",
       "      <th></th>\n",
       "      <th>Rating</th>\n",
       "      <th>Review Summary</th>\n",
       "      <th>Full review</th>\n",
       "    </tr>\n",
       "  </thead>\n",
       "  <tbody>\n",
       "    <tr>\n",
       "      <th>0</th>\n",
       "      <td>5</td>\n",
       "      <td>Brilliant</td>\n",
       "      <td>The Best Phone for the MoneyThe iPhone 11 offe...</td>\n",
       "    </tr>\n",
       "    <tr>\n",
       "      <th>1</th>\n",
       "      <td>5</td>\n",
       "      <td>Simply awesome</td>\n",
       "      <td>Really satisfied with the Product I received.....</td>\n",
       "    </tr>\n",
       "    <tr>\n",
       "      <th>2</th>\n",
       "      <td>5</td>\n",
       "      <td>Perfect product!</td>\n",
       "      <td>Amazing phone with great cameras and better ba...</td>\n",
       "    </tr>\n",
       "    <tr>\n",
       "      <th>3</th>\n",
       "      <td>5</td>\n",
       "      <td>Best in the market!</td>\n",
       "      <td>Great iPhone very snappy experience as apple k...</td>\n",
       "    </tr>\n",
       "    <tr>\n",
       "      <th>4</th>\n",
       "      <td>5</td>\n",
       "      <td>Worth every penny</td>\n",
       "      <td>Previously I was using one plus 3t it was a gr...</td>\n",
       "    </tr>\n",
       "    <tr>\n",
       "      <th>...</th>\n",
       "      <td>...</td>\n",
       "      <td>...</td>\n",
       "      <td>...</td>\n",
       "    </tr>\n",
       "    <tr>\n",
       "      <th>5</th>\n",
       "      <td>5</td>\n",
       "      <td>Excellent</td>\n",
       "      <td>🤩🤩🤩🤩🤩🤩I loved the Phone.. Every time I pick up...</td>\n",
       "    </tr>\n",
       "    <tr>\n",
       "      <th>6</th>\n",
       "      <td>5</td>\n",
       "      <td>Worth every penny</td>\n",
       "      <td>I upgraded from one plus 6 to iPhone 11 and it...</td>\n",
       "    </tr>\n",
       "    <tr>\n",
       "      <th>7</th>\n",
       "      <td>4</td>\n",
       "      <td>Really Nice</td>\n",
       "      <td>Great phone and camera and timely delivery by ...</td>\n",
       "    </tr>\n",
       "    <tr>\n",
       "      <th>8</th>\n",
       "      <td>5</td>\n",
       "      <td>Great product</td>\n",
       "      <td>Great quality at not so great price, But worth...</td>\n",
       "    </tr>\n",
       "    <tr>\n",
       "      <th>9</th>\n",
       "      <td>5</td>\n",
       "      <td>Mind-blowing purchase</td>\n",
       "      <td>After using more than a year of using iPhone11...</td>\n",
       "    </tr>\n",
       "  </tbody>\n",
       "</table>\n",
       "<p>100 rows × 3 columns</p>\n",
       "</div>"
      ],
      "text/plain": [
       "   Rating         Review Summary  \\\n",
       "0       5              Brilliant   \n",
       "1       5         Simply awesome   \n",
       "2       5       Perfect product!   \n",
       "3       5    Best in the market!   \n",
       "4       5      Worth every penny   \n",
       "..    ...                    ...   \n",
       "5       5              Excellent   \n",
       "6       5      Worth every penny   \n",
       "7       4            Really Nice   \n",
       "8       5          Great product   \n",
       "9       5  Mind-blowing purchase   \n",
       "\n",
       "                                          Full review  \n",
       "0   The Best Phone for the MoneyThe iPhone 11 offe...  \n",
       "1   Really satisfied with the Product I received.....  \n",
       "2   Amazing phone with great cameras and better ba...  \n",
       "3   Great iPhone very snappy experience as apple k...  \n",
       "4   Previously I was using one plus 3t it was a gr...  \n",
       "..                                                ...  \n",
       "5   🤩🤩🤩🤩🤩🤩I loved the Phone.. Every time I pick up...  \n",
       "6   I upgraded from one plus 6 to iPhone 11 and it...  \n",
       "7   Great phone and camera and timely delivery by ...  \n",
       "8   Great quality at not so great price, But worth...  \n",
       "9   After using more than a year of using iPhone11...  \n",
       "\n",
       "[100 rows x 3 columns]"
      ]
     },
     "execution_count": 114,
     "metadata": {},
     "output_type": "execute_result"
    }
   ],
   "source": [
    "full_list = pd.concat([df,df1,df2,df3,df4,df5,df6,df7,df8,df9],axis=0)\n",
    "full_list"
   ]
  },
  {
   "cell_type": "markdown",
   "id": "38a4cae8",
   "metadata": {},
   "source": [
    "### Q6: Scrape data for first 100 sneakers you find when you visit flipkart.com andsearch for “sneakers” in the search field.\n",
    "#### You have to scrape 4 attributes of each sneaker:\n",
    "#### 1. Brand\n",
    "#### 2. Product Description\n",
    "#### 3. Price"
   ]
  },
  {
   "cell_type": "code",
   "execution_count": 3,
   "id": "70c96019",
   "metadata": {},
   "outputs": [],
   "source": [
    "url = \"https://www.flipkart.com/\"\n",
    "driver.get(url)"
   ]
  },
  {
   "cell_type": "code",
   "execution_count": 4,
   "id": "9e4db6d6",
   "metadata": {},
   "outputs": [],
   "source": [
    "search = driver.find_element_by_xpath('//div[@class=\"_3OO5Xc\"]/input')"
   ]
  },
  {
   "cell_type": "code",
   "execution_count": 5,
   "id": "b5269798",
   "metadata": {},
   "outputs": [],
   "source": [
    "search.send_keys(\"sneakers\")"
   ]
  },
  {
   "cell_type": "code",
   "execution_count": 7,
   "id": "6e2c54ce",
   "metadata": {},
   "outputs": [],
   "source": [
    "search_btn = driver.find_element_by_xpath('//button[@class=\"L0Z3Pu\"]')"
   ]
  },
  {
   "cell_type": "code",
   "execution_count": 8,
   "id": "c65b037e",
   "metadata": {},
   "outputs": [],
   "source": [
    "search_btn.click()"
   ]
  },
  {
   "cell_type": "code",
   "execution_count": 13,
   "id": "2f2c60f1",
   "metadata": {},
   "outputs": [
    {
     "data": {
      "text/plain": [
       "40"
      ]
     },
     "execution_count": 13,
     "metadata": {},
     "output_type": "execute_result"
    }
   ],
   "source": [
    "brand = driver.find_elements_by_xpath('//div[@class=\"_2WkVRV\"]')\n",
    "len(brand)"
   ]
  },
  {
   "cell_type": "code",
   "execution_count": 18,
   "id": "0d3f9d34",
   "metadata": {},
   "outputs": [
    {
     "data": {
      "text/plain": [
       "31"
      ]
     },
     "execution_count": 18,
     "metadata": {},
     "output_type": "execute_result"
    }
   ],
   "source": [
    "product_description = driver.find_elements_by_xpath('//a[@class=\"IRpwTa\"]')\n",
    "len(product_description)"
   ]
  },
  {
   "cell_type": "code",
   "execution_count": 15,
   "id": "d83de1e8",
   "metadata": {},
   "outputs": [
    {
     "data": {
      "text/plain": [
       "40"
      ]
     },
     "execution_count": 15,
     "metadata": {},
     "output_type": "execute_result"
    }
   ],
   "source": [
    "price = driver.find_elements_by_xpath('//div[@class=\"_30jeq3\"]')\n",
    "len(price)"
   ]
  },
  {
   "cell_type": "code",
   "execution_count": 16,
   "id": "9346fc29",
   "metadata": {},
   "outputs": [
    {
     "data": {
      "text/plain": [
       "39"
      ]
     },
     "execution_count": 16,
     "metadata": {},
     "output_type": "execute_result"
    }
   ],
   "source": [
    "discount = driver.find_elements_by_xpath('//div[@class=\"_3Ay6Sb\"]')\n",
    "len(discount)"
   ]
  },
  {
   "cell_type": "code",
   "execution_count": 19,
   "id": "7c79ad6a",
   "metadata": {},
   "outputs": [],
   "source": [
    "brands1 = []\n",
    "product_description1 = []\n",
    "price1 = []\n",
    "discount1 = []\n",
    "\n",
    "for i in brand:\n",
    "    brands1.append(i.text)\n",
    "    \n",
    "for i in product_description:\n",
    "    product_description1.append(i.text)\n",
    "    \n",
    "for i in price:\n",
    "    price1.append(i.text)\n",
    "    \n",
    "for i in discount:\n",
    "    discount1.append(i.text)"
   ]
  },
  {
   "cell_type": "code",
   "execution_count": 21,
   "id": "8f77a882",
   "metadata": {},
   "outputs": [
    {
     "data": {
      "text/html": [
       "<div>\n",
       "<style scoped>\n",
       "    .dataframe tbody tr th:only-of-type {\n",
       "        vertical-align: middle;\n",
       "    }\n",
       "\n",
       "    .dataframe tbody tr th {\n",
       "        vertical-align: top;\n",
       "    }\n",
       "\n",
       "    .dataframe thead th {\n",
       "        text-align: right;\n",
       "    }\n",
       "</style>\n",
       "<table border=\"1\" class=\"dataframe\">\n",
       "  <thead>\n",
       "    <tr style=\"text-align: right;\">\n",
       "      <th></th>\n",
       "      <th>Brand</th>\n",
       "      <th>Product Description</th>\n",
       "      <th>Price</th>\n",
       "      <th>Discount</th>\n",
       "    </tr>\n",
       "  </thead>\n",
       "  <tbody>\n",
       "    <tr>\n",
       "      <th>0</th>\n",
       "      <td>Magnolia</td>\n",
       "      <td>Sneakers For Men</td>\n",
       "      <td>₹398</td>\n",
       "      <td>60% off</td>\n",
       "    </tr>\n",
       "    <tr>\n",
       "      <th>1</th>\n",
       "      <td>luxury fashion</td>\n",
       "      <td>Luxury Fashionable casual sneaker shoes Sneake...</td>\n",
       "      <td>₹449</td>\n",
       "      <td>65% off</td>\n",
       "    </tr>\n",
       "    <tr>\n",
       "      <th>2</th>\n",
       "      <td>URBANBOX</td>\n",
       "      <td>Sneakers For Men</td>\n",
       "      <td>₹220</td>\n",
       "      <td>77% off</td>\n",
       "    </tr>\n",
       "    <tr>\n",
       "      <th>3</th>\n",
       "      <td>Labbin</td>\n",
       "      <td>Modern Trendy Shoes Combo pack of 4 Sneakers F...</td>\n",
       "      <td>₹499</td>\n",
       "      <td>50% off</td>\n",
       "    </tr>\n",
       "    <tr>\n",
       "      <th>4</th>\n",
       "      <td>Stefano Rads</td>\n",
       "      <td>Casual , Partywear Sneakers Shoes For Men's An...</td>\n",
       "      <td>₹242</td>\n",
       "      <td>65% off</td>\n",
       "    </tr>\n",
       "    <tr>\n",
       "      <th>5</th>\n",
       "      <td>Extoes</td>\n",
       "      <td>Perfect Combo Sport Shoes for Running Training...</td>\n",
       "      <td>₹948</td>\n",
       "      <td>36% off</td>\n",
       "    </tr>\n",
       "    <tr>\n",
       "      <th>6</th>\n",
       "      <td>D-SNEAKERZ</td>\n",
       "      <td>Sneakers For Men</td>\n",
       "      <td>₹348</td>\n",
       "      <td>47% off</td>\n",
       "    </tr>\n",
       "    <tr>\n",
       "      <th>7</th>\n",
       "      <td>Jabra</td>\n",
       "      <td>Sneakers Sneakers For Men</td>\n",
       "      <td>₹499</td>\n",
       "      <td>61% off</td>\n",
       "    </tr>\n",
       "    <tr>\n",
       "      <th>8</th>\n",
       "      <td>Trendmode</td>\n",
       "      <td>White Sneaker For Men's/Boy's Sneakers For Men</td>\n",
       "      <td>₹259</td>\n",
       "      <td>74% off</td>\n",
       "    </tr>\n",
       "    <tr>\n",
       "      <th>9</th>\n",
       "      <td>SCATCHITE</td>\n",
       "      <td>Original Luxury Branded Fashionable Men's Casu...</td>\n",
       "      <td>₹398</td>\n",
       "      <td>60% off</td>\n",
       "    </tr>\n",
       "    <tr>\n",
       "      <th>10</th>\n",
       "      <td>Shoes Bank</td>\n",
       "      <td>Sneakers For Men</td>\n",
       "      <td>₹345</td>\n",
       "      <td>65% off</td>\n",
       "    </tr>\n",
       "    <tr>\n",
       "      <th>11</th>\n",
       "      <td>ASTEROID</td>\n",
       "      <td>411 Casual Sneakers For Men</td>\n",
       "      <td>₹499</td>\n",
       "      <td>50% off</td>\n",
       "    </tr>\n",
       "    <tr>\n",
       "      <th>12</th>\n",
       "      <td>HOTSTYLE</td>\n",
       "      <td>Series 7 Sneakers For Men</td>\n",
       "      <td>₹298</td>\n",
       "      <td>70% off</td>\n",
       "    </tr>\n",
       "    <tr>\n",
       "      <th>13</th>\n",
       "      <td>Pieds</td>\n",
       "      <td>Men's Sneakers Fashion Lightweight Running Sho...</td>\n",
       "      <td>₹449</td>\n",
       "      <td>55% off</td>\n",
       "    </tr>\n",
       "    <tr>\n",
       "      <th>14</th>\n",
       "      <td>Numenzo</td>\n",
       "      <td>Sports Running Shoes Sneakers For Men</td>\n",
       "      <td>₹499</td>\n",
       "      <td>75% off</td>\n",
       "    </tr>\n",
       "    <tr>\n",
       "      <th>15</th>\n",
       "      <td>Kraasa</td>\n",
       "      <td>Modern Trendy Shoes Sneakers For Men</td>\n",
       "      <td>₹499</td>\n",
       "      <td>50% off</td>\n",
       "    </tr>\n",
       "    <tr>\n",
       "      <th>16</th>\n",
       "      <td>ganpati traders</td>\n",
       "      <td>Sneakers For Men</td>\n",
       "      <td>₹189</td>\n",
       "      <td>62% off</td>\n",
       "    </tr>\n",
       "    <tr>\n",
       "      <th>17</th>\n",
       "      <td>Echor</td>\n",
       "      <td>White Sneaker For Men Sneakers For Men</td>\n",
       "      <td>₹499</td>\n",
       "      <td>50% off</td>\n",
       "    </tr>\n",
       "    <tr>\n",
       "      <th>18</th>\n",
       "      <td>BIRDE</td>\n",
       "      <td>Sneakers For Men</td>\n",
       "      <td>₹299</td>\n",
       "      <td>40% off</td>\n",
       "    </tr>\n",
       "    <tr>\n",
       "      <th>19</th>\n",
       "      <td>BRUTON</td>\n",
       "      <td>Glory Sneakers For Men</td>\n",
       "      <td>₹379</td>\n",
       "      <td>70% off</td>\n",
       "    </tr>\n",
       "    <tr>\n",
       "      <th>20</th>\n",
       "      <td>Robbie jones</td>\n",
       "      <td>Casuals Sneakers For Women</td>\n",
       "      <td>₹499</td>\n",
       "      <td>50% off</td>\n",
       "    </tr>\n",
       "    <tr>\n",
       "      <th>21</th>\n",
       "      <td>Arohi</td>\n",
       "      <td>Sneakers For Men</td>\n",
       "      <td>₹398</td>\n",
       "      <td>60% off</td>\n",
       "    </tr>\n",
       "    <tr>\n",
       "      <th>22</th>\n",
       "      <td>Numenzo</td>\n",
       "      <td>Luxury Fashionable casual sneaker shoes Sneake...</td>\n",
       "      <td>₹429</td>\n",
       "      <td>66% off</td>\n",
       "    </tr>\n",
       "    <tr>\n",
       "      <th>23</th>\n",
       "      <td>TR</td>\n",
       "      <td>Shark-41 Sneakers For Men</td>\n",
       "      <td>₹599</td>\n",
       "      <td>70% off</td>\n",
       "    </tr>\n",
       "    <tr>\n",
       "      <th>24</th>\n",
       "      <td>PUMA</td>\n",
       "      <td>Sneakers For Men</td>\n",
       "      <td>₹2,998</td>\n",
       "      <td>60% off</td>\n",
       "    </tr>\n",
       "    <tr>\n",
       "      <th>25</th>\n",
       "      <td>ESSENCE</td>\n",
       "      <td>Latest Collection-1216 Stylish Casual Sports S...</td>\n",
       "      <td>₹399</td>\n",
       "      <td>42% off</td>\n",
       "    </tr>\n",
       "    <tr>\n",
       "      <th>26</th>\n",
       "      <td>Rzisbo</td>\n",
       "      <td>Original Luxury Branded Fashionable Men's Casu...</td>\n",
       "      <td>₹574</td>\n",
       "      <td>61% off</td>\n",
       "    </tr>\n",
       "    <tr>\n",
       "      <th>27</th>\n",
       "      <td>India hub</td>\n",
       "      <td>Casual Sneakers Black Shoes For Men Sneakers F...</td>\n",
       "      <td>₹499</td>\n",
       "      <td>50% off</td>\n",
       "    </tr>\n",
       "    <tr>\n",
       "      <th>28</th>\n",
       "      <td>Kraasa</td>\n",
       "      <td>Perfect Stylish Casual Shoes For Girls &amp; Women...</td>\n",
       "      <td>₹499</td>\n",
       "      <td>40% off</td>\n",
       "    </tr>\n",
       "    <tr>\n",
       "      <th>29</th>\n",
       "      <td>Lee Won</td>\n",
       "      <td>Sneakers For Women</td>\n",
       "      <td>₹299</td>\n",
       "      <td>56% off</td>\n",
       "    </tr>\n",
       "    <tr>\n",
       "      <th>30</th>\n",
       "      <td>CLYMB</td>\n",
       "      <td>Sneakers For Men</td>\n",
       "      <td>₹649</td>\n",
       "      <td>31% off</td>\n",
       "    </tr>\n",
       "  </tbody>\n",
       "</table>\n",
       "</div>"
      ],
      "text/plain": [
       "              Brand                                Product Description  \\\n",
       "0          Magnolia                                   Sneakers For Men   \n",
       "1    luxury fashion  Luxury Fashionable casual sneaker shoes Sneake...   \n",
       "2          URBANBOX                                   Sneakers For Men   \n",
       "3            Labbin  Modern Trendy Shoes Combo pack of 4 Sneakers F...   \n",
       "4      Stefano Rads  Casual , Partywear Sneakers Shoes For Men's An...   \n",
       "5            Extoes  Perfect Combo Sport Shoes for Running Training...   \n",
       "6        D-SNEAKERZ                                   Sneakers For Men   \n",
       "7             Jabra                          Sneakers Sneakers For Men   \n",
       "8         Trendmode     White Sneaker For Men's/Boy's Sneakers For Men   \n",
       "9         SCATCHITE  Original Luxury Branded Fashionable Men's Casu...   \n",
       "10       Shoes Bank                                   Sneakers For Men   \n",
       "11         ASTEROID                        411 Casual Sneakers For Men   \n",
       "12         HOTSTYLE                          Series 7 Sneakers For Men   \n",
       "13            Pieds  Men's Sneakers Fashion Lightweight Running Sho...   \n",
       "14          Numenzo              Sports Running Shoes Sneakers For Men   \n",
       "15           Kraasa               Modern Trendy Shoes Sneakers For Men   \n",
       "16  ganpati traders                                   Sneakers For Men   \n",
       "17            Echor             White Sneaker For Men Sneakers For Men   \n",
       "18            BIRDE                                   Sneakers For Men   \n",
       "19           BRUTON                             Glory Sneakers For Men   \n",
       "20     Robbie jones                         Casuals Sneakers For Women   \n",
       "21            Arohi                                   Sneakers For Men   \n",
       "22          Numenzo  Luxury Fashionable casual sneaker shoes Sneake...   \n",
       "23               TR                          Shark-41 Sneakers For Men   \n",
       "24             PUMA                                   Sneakers For Men   \n",
       "25          ESSENCE  Latest Collection-1216 Stylish Casual Sports S...   \n",
       "26           Rzisbo  Original Luxury Branded Fashionable Men's Casu...   \n",
       "27        India hub  Casual Sneakers Black Shoes For Men Sneakers F...   \n",
       "28           Kraasa  Perfect Stylish Casual Shoes For Girls & Women...   \n",
       "29          Lee Won                                 Sneakers For Women   \n",
       "30            CLYMB                                   Sneakers For Men   \n",
       "\n",
       "     Price Discount  \n",
       "0     ₹398  60% off  \n",
       "1     ₹449  65% off  \n",
       "2     ₹220  77% off  \n",
       "3     ₹499  50% off  \n",
       "4     ₹242  65% off  \n",
       "5     ₹948  36% off  \n",
       "6     ₹348  47% off  \n",
       "7     ₹499  61% off  \n",
       "8     ₹259  74% off  \n",
       "9     ₹398  60% off  \n",
       "10    ₹345  65% off  \n",
       "11    ₹499  50% off  \n",
       "12    ₹298  70% off  \n",
       "13    ₹449  55% off  \n",
       "14    ₹499  75% off  \n",
       "15    ₹499  50% off  \n",
       "16    ₹189  62% off  \n",
       "17    ₹499  50% off  \n",
       "18    ₹299  40% off  \n",
       "19    ₹379  70% off  \n",
       "20    ₹499  50% off  \n",
       "21    ₹398  60% off  \n",
       "22    ₹429  66% off  \n",
       "23    ₹599  70% off  \n",
       "24  ₹2,998  60% off  \n",
       "25    ₹399  42% off  \n",
       "26    ₹574  61% off  \n",
       "27    ₹499  50% off  \n",
       "28    ₹499  40% off  \n",
       "29    ₹299  56% off  \n",
       "30    ₹649  31% off  "
      ]
     },
     "execution_count": 21,
     "metadata": {},
     "output_type": "execute_result"
    }
   ],
   "source": [
    "df = pd.DataFrame({'Brand':brands1[:31],'Product Description':product_description1[:31],'Price':price1[:31],'Discount':discount1[:31]})\n",
    "df"
   ]
  },
  {
   "cell_type": "code",
   "execution_count": 22,
   "id": "143c9b45",
   "metadata": {},
   "outputs": [],
   "source": [
    "page_2 = driver.find_element_by_xpath('//nav[@class=\"yFHi8N\"]/a[2]')\n",
    "page_2.click()"
   ]
  },
  {
   "cell_type": "code",
   "execution_count": 23,
   "id": "92c6f60e",
   "metadata": {},
   "outputs": [
    {
     "data": {
      "text/plain": [
       "40"
      ]
     },
     "execution_count": 23,
     "metadata": {},
     "output_type": "execute_result"
    }
   ],
   "source": [
    "brand1 = driver.find_elements_by_xpath('//div[@class=\"_2WkVRV\"]')\n",
    "len(brand1)"
   ]
  },
  {
   "cell_type": "code",
   "execution_count": 24,
   "id": "c23ad27a",
   "metadata": {},
   "outputs": [
    {
     "data": {
      "text/plain": [
       "34"
      ]
     },
     "execution_count": 24,
     "metadata": {},
     "output_type": "execute_result"
    }
   ],
   "source": [
    "product_description1 = driver.find_elements_by_xpath('//a[@class=\"IRpwTa\"]')\n",
    "len(product_description1)"
   ]
  },
  {
   "cell_type": "code",
   "execution_count": 25,
   "id": "30ab7ba3",
   "metadata": {},
   "outputs": [
    {
     "data": {
      "text/plain": [
       "40"
      ]
     },
     "execution_count": 25,
     "metadata": {},
     "output_type": "execute_result"
    }
   ],
   "source": [
    "price1 = driver.find_elements_by_xpath('//div[@class=\"_30jeq3\"]')\n",
    "len(price1)"
   ]
  },
  {
   "cell_type": "code",
   "execution_count": 26,
   "id": "d2b203bc",
   "metadata": {},
   "outputs": [
    {
     "data": {
      "text/plain": [
       "39"
      ]
     },
     "execution_count": 26,
     "metadata": {},
     "output_type": "execute_result"
    }
   ],
   "source": [
    "discount1 = driver.find_elements_by_xpath('//div[@class=\"_3Ay6Sb\"]')\n",
    "len(discount1)"
   ]
  },
  {
   "cell_type": "code",
   "execution_count": 27,
   "id": "638243e8",
   "metadata": {},
   "outputs": [],
   "source": [
    "brands2 = []\n",
    "product_description2 = []\n",
    "price2 = []\n",
    "discount2 = []\n",
    "\n",
    "for i in brand1:\n",
    "    brands2.append(i.text)\n",
    "    \n",
    "for i in product_description1:\n",
    "    product_description2.append(i.text)\n",
    "    \n",
    "for i in price1:\n",
    "    price2.append(i.text)\n",
    "    \n",
    "for i in discount1:\n",
    "    discount2.append(i.text)"
   ]
  },
  {
   "cell_type": "code",
   "execution_count": 28,
   "id": "fa7db436",
   "metadata": {},
   "outputs": [
    {
     "data": {
      "text/html": [
       "<div>\n",
       "<style scoped>\n",
       "    .dataframe tbody tr th:only-of-type {\n",
       "        vertical-align: middle;\n",
       "    }\n",
       "\n",
       "    .dataframe tbody tr th {\n",
       "        vertical-align: top;\n",
       "    }\n",
       "\n",
       "    .dataframe thead th {\n",
       "        text-align: right;\n",
       "    }\n",
       "</style>\n",
       "<table border=\"1\" class=\"dataframe\">\n",
       "  <thead>\n",
       "    <tr style=\"text-align: right;\">\n",
       "      <th></th>\n",
       "      <th>Brand</th>\n",
       "      <th>Product Description</th>\n",
       "      <th>Price</th>\n",
       "      <th>Discount</th>\n",
       "    </tr>\n",
       "  </thead>\n",
       "  <tbody>\n",
       "    <tr>\n",
       "      <th>0</th>\n",
       "      <td>PUMA</td>\n",
       "      <td>Glory Sneakers For Men</td>\n",
       "      <td>₹2,998</td>\n",
       "      <td>80% off</td>\n",
       "    </tr>\n",
       "    <tr>\n",
       "      <th>1</th>\n",
       "      <td>aadi</td>\n",
       "      <td>Sneakers For Men</td>\n",
       "      <td>₹399</td>\n",
       "      <td>52% off</td>\n",
       "    </tr>\n",
       "    <tr>\n",
       "      <th>2</th>\n",
       "      <td>believe</td>\n",
       "      <td>Sneakers for men(black_6) Sneakers For Men</td>\n",
       "      <td>₹474</td>\n",
       "      <td>44% off</td>\n",
       "    </tr>\n",
       "    <tr>\n",
       "      <th>3</th>\n",
       "      <td>Kraasa</td>\n",
       "      <td>Shark-41 Sneakers For Men</td>\n",
       "      <td>₹555</td>\n",
       "      <td>35% off</td>\n",
       "    </tr>\n",
       "    <tr>\n",
       "      <th>4</th>\n",
       "      <td>RapidBox</td>\n",
       "      <td>Sneakers For Men</td>\n",
       "      <td>₹640</td>\n",
       "      <td>70% off</td>\n",
       "    </tr>\n",
       "    <tr>\n",
       "      <th>5</th>\n",
       "      <td>DUNKASTON</td>\n",
       "      <td>Luxury Fashionable casual sneaker shoes Sneake...</td>\n",
       "      <td>₹449</td>\n",
       "      <td>78% off</td>\n",
       "    </tr>\n",
       "    <tr>\n",
       "      <th>6</th>\n",
       "      <td>India hub</td>\n",
       "      <td>Lattest Sneakers Shoe Sneakers For Men</td>\n",
       "      <td>₹429</td>\n",
       "      <td>73% off</td>\n",
       "    </tr>\n",
       "    <tr>\n",
       "      <th>7</th>\n",
       "      <td>BRUTON</td>\n",
       "      <td>SM-322 Sneakers For Men</td>\n",
       "      <td>₹341</td>\n",
       "      <td>14% off</td>\n",
       "    </tr>\n",
       "    <tr>\n",
       "      <th>8</th>\n",
       "      <td>SPARX</td>\n",
       "      <td>Sneakers For Men</td>\n",
       "      <td>₹892</td>\n",
       "      <td>50% off</td>\n",
       "    </tr>\n",
       "    <tr>\n",
       "      <th>9</th>\n",
       "      <td>Zorth</td>\n",
       "      <td>Sneakers For Men</td>\n",
       "      <td>₹498</td>\n",
       "      <td>50% off</td>\n",
       "    </tr>\n",
       "    <tr>\n",
       "      <th>10</th>\n",
       "      <td>Mintscope</td>\n",
       "      <td>Stylish Casual Sports Shoe Sneakers For Women ...</td>\n",
       "      <td>₹499</td>\n",
       "      <td>50% off</td>\n",
       "    </tr>\n",
       "    <tr>\n",
       "      <th>11</th>\n",
       "      <td>Robbie jones</td>\n",
       "      <td>Combo Pack of 4 Latest Collection Stylish Casu...</td>\n",
       "      <td>₹499</td>\n",
       "      <td>55% off</td>\n",
       "    </tr>\n",
       "    <tr>\n",
       "      <th>12</th>\n",
       "      <td>MILESWALKER</td>\n",
       "      <td>Sneakers For Men</td>\n",
       "      <td>₹448</td>\n",
       "      <td>73% off</td>\n",
       "    </tr>\n",
       "    <tr>\n",
       "      <th>13</th>\n",
       "      <td>World Wear Footwear</td>\n",
       "      <td>Sneakers For Men</td>\n",
       "      <td>₹599</td>\n",
       "      <td>36% off</td>\n",
       "    </tr>\n",
       "    <tr>\n",
       "      <th>14</th>\n",
       "      <td>RapidBox</td>\n",
       "      <td>Combo Pack of 2 Casual shoes Sneakers For Men</td>\n",
       "      <td>₹630</td>\n",
       "      <td>50% off</td>\n",
       "    </tr>\n",
       "    <tr>\n",
       "      <th>15</th>\n",
       "      <td>Zorth</td>\n",
       "      <td>white Casual shoes,Sneakers for men's Sneakers...</td>\n",
       "      <td>₹499</td>\n",
       "      <td>75% off</td>\n",
       "    </tr>\n",
       "    <tr>\n",
       "      <th>16</th>\n",
       "      <td>Kreverse</td>\n",
       "      <td>Men White Sneakers Sneakers For Men</td>\n",
       "      <td>₹245</td>\n",
       "      <td>60% off</td>\n",
       "    </tr>\n",
       "    <tr>\n",
       "      <th>17</th>\n",
       "      <td>BIRDE</td>\n",
       "      <td>Echor Men's Sneakers Fashion Lightweight Runni...</td>\n",
       "      <td>₹599</td>\n",
       "      <td>66% off</td>\n",
       "    </tr>\n",
       "    <tr>\n",
       "      <th>18</th>\n",
       "      <td>Xtoon</td>\n",
       "      <td>Combo Pack of 5 Casual Sneakers With Sneakers ...</td>\n",
       "      <td>₹499</td>\n",
       "      <td>10% off</td>\n",
       "    </tr>\n",
       "    <tr>\n",
       "      <th>19</th>\n",
       "      <td>SPARX</td>\n",
       "      <td>Casual Sneakrs For Men Sneakers For Men</td>\n",
       "      <td>₹764</td>\n",
       "      <td>66% off</td>\n",
       "    </tr>\n",
       "    <tr>\n",
       "      <th>20</th>\n",
       "      <td>Echor</td>\n",
       "      <td>Casual , Partywear Sneakers Shoes For Men's An...</td>\n",
       "      <td>₹499</td>\n",
       "      <td>77% off</td>\n",
       "    </tr>\n",
       "    <tr>\n",
       "      <th>21</th>\n",
       "      <td>BRUTON</td>\n",
       "      <td>Fashion Outdoor Canvas Casual Light Weight Lac...</td>\n",
       "      <td>₹888</td>\n",
       "      <td>11% off</td>\n",
       "    </tr>\n",
       "    <tr>\n",
       "      <th>22</th>\n",
       "      <td>SPARX</td>\n",
       "      <td>Sneakers For Men</td>\n",
       "      <td>₹839</td>\n",
       "      <td>42% off</td>\n",
       "    </tr>\n",
       "    <tr>\n",
       "      <th>23</th>\n",
       "      <td>Vellinto</td>\n",
       "      <td>Puma Smash v2 L Perf Puma White-Puma Whi Sneak...</td>\n",
       "      <td>₹749</td>\n",
       "      <td>61% off</td>\n",
       "    </tr>\n",
       "    <tr>\n",
       "      <th>24</th>\n",
       "      <td>D-SNEAKERZ</td>\n",
       "      <td>Sneakers For Men</td>\n",
       "      <td>₹384</td>\n",
       "      <td>50% off</td>\n",
       "    </tr>\n",
       "    <tr>\n",
       "      <th>25</th>\n",
       "      <td>RODDICK SHOES</td>\n",
       "      <td>Combo Pack of 5 Casual Shoes Sneakers For Men</td>\n",
       "      <td>₹499</td>\n",
       "      <td>63% off</td>\n",
       "    </tr>\n",
       "    <tr>\n",
       "      <th>26</th>\n",
       "      <td>HRDK</td>\n",
       "      <td>Sneakers For Men</td>\n",
       "      <td>₹367</td>\n",
       "      <td>45% off</td>\n",
       "    </tr>\n",
       "    <tr>\n",
       "      <th>27</th>\n",
       "      <td>PUMA</td>\n",
       "      <td>Sneakers For Women</td>\n",
       "      <td>₹2,199</td>\n",
       "      <td>60% off</td>\n",
       "    </tr>\n",
       "    <tr>\n",
       "      <th>28</th>\n",
       "      <td>SCATCHITE</td>\n",
       "      <td>Girls Stylish Casual Sports Shoe Sneakers For ...</td>\n",
       "      <td>₹398</td>\n",
       "      <td>64% off</td>\n",
       "    </tr>\n",
       "    <tr>\n",
       "      <th>29</th>\n",
       "      <td>BIRDE</td>\n",
       "      <td>Casual Sneakers White Shoes For Men Sneakers F...</td>\n",
       "      <td>₹892</td>\n",
       "      <td>56% off</td>\n",
       "    </tr>\n",
       "    <tr>\n",
       "      <th>30</th>\n",
       "      <td>KNIGHT WALKERS</td>\n",
       "      <td>Men's Canvas Low Top Sneakers Lace-up Classic ...</td>\n",
       "      <td>₹649</td>\n",
       "      <td>20% off</td>\n",
       "    </tr>\n",
       "    <tr>\n",
       "      <th>31</th>\n",
       "      <td>KANEGGYE</td>\n",
       "      <td>Modern &amp; Trendy Collection Combo Pack of 02 Sh...</td>\n",
       "      <td>₹399</td>\n",
       "      <td>57% off</td>\n",
       "    </tr>\n",
       "    <tr>\n",
       "      <th>32</th>\n",
       "      <td>Deals4you</td>\n",
       "      <td>Trendy Fashion Combo Pack of 2 Sneakers For Men</td>\n",
       "      <td>₹427</td>\n",
       "      <td>50% off</td>\n",
       "    </tr>\n",
       "    <tr>\n",
       "      <th>33</th>\n",
       "      <td>VENDOZ</td>\n",
       "      <td>Sneakers For Men</td>\n",
       "      <td>₹499</td>\n",
       "      <td>52% off</td>\n",
       "    </tr>\n",
       "  </tbody>\n",
       "</table>\n",
       "</div>"
      ],
      "text/plain": [
       "                  Brand                                Product Description  \\\n",
       "0                  PUMA                             Glory Sneakers For Men   \n",
       "1                  aadi                                   Sneakers For Men   \n",
       "2               believe         Sneakers for men(black_6) Sneakers For Men   \n",
       "3                Kraasa                          Shark-41 Sneakers For Men   \n",
       "4              RapidBox                                   Sneakers For Men   \n",
       "5             DUNKASTON  Luxury Fashionable casual sneaker shoes Sneake...   \n",
       "6             India hub             Lattest Sneakers Shoe Sneakers For Men   \n",
       "7                BRUTON                            SM-322 Sneakers For Men   \n",
       "8                 SPARX                                   Sneakers For Men   \n",
       "9                 Zorth                                   Sneakers For Men   \n",
       "10            Mintscope  Stylish Casual Sports Shoe Sneakers For Women ...   \n",
       "11         Robbie jones  Combo Pack of 4 Latest Collection Stylish Casu...   \n",
       "12          MILESWALKER                                   Sneakers For Men   \n",
       "13  World Wear Footwear                                   Sneakers For Men   \n",
       "14             RapidBox      Combo Pack of 2 Casual shoes Sneakers For Men   \n",
       "15                Zorth  white Casual shoes,Sneakers for men's Sneakers...   \n",
       "16             Kreverse                Men White Sneakers Sneakers For Men   \n",
       "17                BIRDE  Echor Men's Sneakers Fashion Lightweight Runni...   \n",
       "18                Xtoon  Combo Pack of 5 Casual Sneakers With Sneakers ...   \n",
       "19                SPARX            Casual Sneakrs For Men Sneakers For Men   \n",
       "20                Echor  Casual , Partywear Sneakers Shoes For Men's An...   \n",
       "21               BRUTON  Fashion Outdoor Canvas Casual Light Weight Lac...   \n",
       "22                SPARX                                   Sneakers For Men   \n",
       "23             Vellinto  Puma Smash v2 L Perf Puma White-Puma Whi Sneak...   \n",
       "24           D-SNEAKERZ                                   Sneakers For Men   \n",
       "25        RODDICK SHOES      Combo Pack of 5 Casual Shoes Sneakers For Men   \n",
       "26                 HRDK                                   Sneakers For Men   \n",
       "27                 PUMA                                 Sneakers For Women   \n",
       "28            SCATCHITE  Girls Stylish Casual Sports Shoe Sneakers For ...   \n",
       "29                BIRDE  Casual Sneakers White Shoes For Men Sneakers F...   \n",
       "30       KNIGHT WALKERS  Men's Canvas Low Top Sneakers Lace-up Classic ...   \n",
       "31             KANEGGYE  Modern & Trendy Collection Combo Pack of 02 Sh...   \n",
       "32            Deals4you    Trendy Fashion Combo Pack of 2 Sneakers For Men   \n",
       "33               VENDOZ                                   Sneakers For Men   \n",
       "\n",
       "     Price Discount  \n",
       "0   ₹2,998  80% off  \n",
       "1     ₹399  52% off  \n",
       "2     ₹474  44% off  \n",
       "3     ₹555  35% off  \n",
       "4     ₹640  70% off  \n",
       "5     ₹449  78% off  \n",
       "6     ₹429  73% off  \n",
       "7     ₹341  14% off  \n",
       "8     ₹892  50% off  \n",
       "9     ₹498  50% off  \n",
       "10    ₹499  50% off  \n",
       "11    ₹499  55% off  \n",
       "12    ₹448  73% off  \n",
       "13    ₹599  36% off  \n",
       "14    ₹630  50% off  \n",
       "15    ₹499  75% off  \n",
       "16    ₹245  60% off  \n",
       "17    ₹599  66% off  \n",
       "18    ₹499  10% off  \n",
       "19    ₹764  66% off  \n",
       "20    ₹499  77% off  \n",
       "21    ₹888  11% off  \n",
       "22    ₹839  42% off  \n",
       "23    ₹749  61% off  \n",
       "24    ₹384  50% off  \n",
       "25    ₹499  63% off  \n",
       "26    ₹367  45% off  \n",
       "27  ₹2,199  60% off  \n",
       "28    ₹398  64% off  \n",
       "29    ₹892  56% off  \n",
       "30    ₹649  20% off  \n",
       "31    ₹399  57% off  \n",
       "32    ₹427  50% off  \n",
       "33    ₹499  52% off  "
      ]
     },
     "execution_count": 28,
     "metadata": {},
     "output_type": "execute_result"
    }
   ],
   "source": [
    "df1 = pd.DataFrame({'Brand':brands2[:34],'Product Description':product_description2[:34],'Price':price2[:34],'Discount':discount2[:34]})\n",
    "df1"
   ]
  },
  {
   "cell_type": "code",
   "execution_count": 31,
   "id": "dba454aa",
   "metadata": {},
   "outputs": [],
   "source": [
    "page_3 = driver.find_element_by_xpath('//nav[@class=\"yFHi8N\"]/a[4]')\n",
    "page_3.click()"
   ]
  },
  {
   "cell_type": "code",
   "execution_count": 32,
   "id": "537a22be",
   "metadata": {},
   "outputs": [
    {
     "data": {
      "text/plain": [
       "40"
      ]
     },
     "execution_count": 32,
     "metadata": {},
     "output_type": "execute_result"
    }
   ],
   "source": [
    "brand2 = driver.find_elements_by_xpath('//div[@class=\"_2WkVRV\"]')\n",
    "len(brand2)"
   ]
  },
  {
   "cell_type": "code",
   "execution_count": 33,
   "id": "581ccc80",
   "metadata": {},
   "outputs": [
    {
     "data": {
      "text/plain": [
       "32"
      ]
     },
     "execution_count": 33,
     "metadata": {},
     "output_type": "execute_result"
    }
   ],
   "source": [
    "product_description2 = driver.find_elements_by_xpath('//a[@class=\"IRpwTa\"]')\n",
    "len(product_description2)"
   ]
  },
  {
   "cell_type": "code",
   "execution_count": 34,
   "id": "e95054cc",
   "metadata": {},
   "outputs": [
    {
     "data": {
      "text/plain": [
       "40"
      ]
     },
     "execution_count": 34,
     "metadata": {},
     "output_type": "execute_result"
    }
   ],
   "source": [
    "price2 = driver.find_elements_by_xpath('//div[@class=\"_30jeq3\"]')\n",
    "len(price2)"
   ]
  },
  {
   "cell_type": "code",
   "execution_count": 35,
   "id": "27ccd1bb",
   "metadata": {},
   "outputs": [
    {
     "data": {
      "text/plain": [
       "40"
      ]
     },
     "execution_count": 35,
     "metadata": {},
     "output_type": "execute_result"
    }
   ],
   "source": [
    "discount2 = driver.find_elements_by_xpath('//div[@class=\"_3Ay6Sb\"]')\n",
    "len(discount2)"
   ]
  },
  {
   "cell_type": "code",
   "execution_count": 36,
   "id": "3bdd8cd2",
   "metadata": {},
   "outputs": [],
   "source": [
    "brands3 = []\n",
    "product_description3 = []\n",
    "price3 = []\n",
    "discount3 = []\n",
    "\n",
    "for i in brand2:\n",
    "    brands3.append(i.text)\n",
    "    \n",
    "for i in product_description2:\n",
    "    product_description3.append(i.text)\n",
    "    \n",
    "for i in price2:\n",
    "    price3.append(i.text)\n",
    "    \n",
    "for i in discount2:\n",
    "    discount3.append(i.text)"
   ]
  },
  {
   "cell_type": "code",
   "execution_count": 37,
   "id": "c8082900",
   "metadata": {},
   "outputs": [
    {
     "data": {
      "text/html": [
       "<div>\n",
       "<style scoped>\n",
       "    .dataframe tbody tr th:only-of-type {\n",
       "        vertical-align: middle;\n",
       "    }\n",
       "\n",
       "    .dataframe tbody tr th {\n",
       "        vertical-align: top;\n",
       "    }\n",
       "\n",
       "    .dataframe thead th {\n",
       "        text-align: right;\n",
       "    }\n",
       "</style>\n",
       "<table border=\"1\" class=\"dataframe\">\n",
       "  <thead>\n",
       "    <tr style=\"text-align: right;\">\n",
       "      <th></th>\n",
       "      <th>Brand</th>\n",
       "      <th>Product Description</th>\n",
       "      <th>Price</th>\n",
       "      <th>Discount</th>\n",
       "    </tr>\n",
       "  </thead>\n",
       "  <tbody>\n",
       "    <tr>\n",
       "      <th>0</th>\n",
       "      <td>ASIAN</td>\n",
       "      <td>Skypy-31 Walking Shoes,Training Shoes,Sneakers...</td>\n",
       "      <td>₹499</td>\n",
       "      <td>37% off</td>\n",
       "    </tr>\n",
       "    <tr>\n",
       "      <th>1</th>\n",
       "      <td>PUMA</td>\n",
       "      <td>MAPF1 X-Ray Lite Pro Sneakers For Men</td>\n",
       "      <td>₹3,599</td>\n",
       "      <td>55% off</td>\n",
       "    </tr>\n",
       "    <tr>\n",
       "      <th>2</th>\n",
       "      <td>LE GREEM</td>\n",
       "      <td>Comfortable &amp; Ultra Light Weight Sneaker Sneak...</td>\n",
       "      <td>₹449</td>\n",
       "      <td>55% off</td>\n",
       "    </tr>\n",
       "    <tr>\n",
       "      <th>3</th>\n",
       "      <td>BIRDE</td>\n",
       "      <td>Combo Pack of 2 Casual Shoes Sneakers For Men</td>\n",
       "      <td>₹630</td>\n",
       "      <td>57% off</td>\n",
       "    </tr>\n",
       "    <tr>\n",
       "      <th>4</th>\n",
       "      <td>Robbie jones</td>\n",
       "      <td>Sneakers For Men</td>\n",
       "      <td>₹499</td>\n",
       "      <td>50% off</td>\n",
       "    </tr>\n",
       "    <tr>\n",
       "      <th>5</th>\n",
       "      <td>BRUTON</td>\n",
       "      <td>Combo Pack Of 2 Latest Stylish Casual Shoes fo...</td>\n",
       "      <td>₹592</td>\n",
       "      <td>76% off</td>\n",
       "    </tr>\n",
       "    <tr>\n",
       "      <th>6</th>\n",
       "      <td>Ktiz</td>\n",
       "      <td>Sneakers For Men</td>\n",
       "      <td>₹499</td>\n",
       "      <td>50% off</td>\n",
       "    </tr>\n",
       "    <tr>\n",
       "      <th>7</th>\n",
       "      <td>SPADE CLUB</td>\n",
       "      <td>New Fashion Outdoor Trendy Lightweight Casual,...</td>\n",
       "      <td>₹665</td>\n",
       "      <td>33% off</td>\n",
       "    </tr>\n",
       "    <tr>\n",
       "      <th>8</th>\n",
       "      <td>Zorth</td>\n",
       "      <td>Sneakers Shoes For Men Black Sneakers For Men</td>\n",
       "      <td>₹499</td>\n",
       "      <td>50% off</td>\n",
       "    </tr>\n",
       "    <tr>\n",
       "      <th>9</th>\n",
       "      <td>Airland</td>\n",
       "      <td>Sneakers For Women</td>\n",
       "      <td>₹190</td>\n",
       "      <td>61% off</td>\n",
       "    </tr>\n",
       "    <tr>\n",
       "      <th>10</th>\n",
       "      <td>WHITE WALKERS</td>\n",
       "      <td>Luxury Branded Fashionable Men's Casual Walkin...</td>\n",
       "      <td>₹599</td>\n",
       "      <td>50% off</td>\n",
       "    </tr>\n",
       "    <tr>\n",
       "      <th>11</th>\n",
       "      <td>PREKANZO</td>\n",
       "      <td>Sneakers For Men</td>\n",
       "      <td>₹398</td>\n",
       "      <td>60% off</td>\n",
       "    </tr>\n",
       "    <tr>\n",
       "      <th>12</th>\n",
       "      <td>Edoeviv</td>\n",
       "      <td>0001 red Sneakers For Men</td>\n",
       "      <td>₹499</td>\n",
       "      <td>37% off</td>\n",
       "    </tr>\n",
       "    <tr>\n",
       "      <th>13</th>\n",
       "      <td>aadi</td>\n",
       "      <td>Tying Fabulous Comfortable Collections Of Comb...</td>\n",
       "      <td>₹549</td>\n",
       "      <td>72% off</td>\n",
       "    </tr>\n",
       "    <tr>\n",
       "      <th>14</th>\n",
       "      <td>Kirjak</td>\n",
       "      <td>Sneakers For Men</td>\n",
       "      <td>₹459</td>\n",
       "      <td>54% off</td>\n",
       "    </tr>\n",
       "    <tr>\n",
       "      <th>15</th>\n",
       "      <td>Tying</td>\n",
       "      <td>Casual Sneakers Shoes For Men Sneakers For Men</td>\n",
       "      <td>₹749</td>\n",
       "      <td>62% off</td>\n",
       "    </tr>\n",
       "    <tr>\n",
       "      <th>16</th>\n",
       "      <td>CLYMB</td>\n",
       "      <td>Blue Synthetic Leather Casual Shoes Sneakers F...</td>\n",
       "      <td>₹699</td>\n",
       "      <td>53% off</td>\n",
       "    </tr>\n",
       "    <tr>\n",
       "      <th>17</th>\n",
       "      <td>HOC</td>\n",
       "      <td>Girls Stylish Casual Sports Shoe Sneakers For ...</td>\n",
       "      <td>₹429</td>\n",
       "      <td>66% off</td>\n",
       "    </tr>\n",
       "    <tr>\n",
       "      <th>18</th>\n",
       "      <td>Xentex</td>\n",
       "      <td>Combo Pack of 4 Casual Shoes Sneakers For Men</td>\n",
       "      <td>₹494</td>\n",
       "      <td>67% off</td>\n",
       "    </tr>\n",
       "    <tr>\n",
       "      <th>19</th>\n",
       "      <td>aadi</td>\n",
       "      <td>Casual Sneakers Shoes For Men And Boys Sneaker...</td>\n",
       "      <td>₹290</td>\n",
       "      <td>41% off</td>\n",
       "    </tr>\n",
       "    <tr>\n",
       "      <th>20</th>\n",
       "      <td>VENDOZ</td>\n",
       "      <td>Sneakers For Men</td>\n",
       "      <td>₹498</td>\n",
       "      <td>50% off</td>\n",
       "    </tr>\n",
       "    <tr>\n",
       "      <th>21</th>\n",
       "      <td>3SIX5</td>\n",
       "      <td>Sneakers For Women</td>\n",
       "      <td>₹842</td>\n",
       "      <td>57% off</td>\n",
       "    </tr>\n",
       "    <tr>\n",
       "      <th>22</th>\n",
       "      <td>Robbie jones</td>\n",
       "      <td>Casual Sneakers Shoes For Men Sneakers For Men</td>\n",
       "      <td>₹499</td>\n",
       "      <td>50% off</td>\n",
       "    </tr>\n",
       "    <tr>\n",
       "      <th>23</th>\n",
       "      <td>Bonexy</td>\n",
       "      <td>SM-322 Sneakers For Men</td>\n",
       "      <td>₹474</td>\n",
       "      <td>52% off</td>\n",
       "    </tr>\n",
       "    <tr>\n",
       "      <th>24</th>\n",
       "      <td>ESSENCE</td>\n",
       "      <td>Girls &amp; Women Stylish, Comfortable Comfort Foa...</td>\n",
       "      <td>₹399</td>\n",
       "      <td>60% off</td>\n",
       "    </tr>\n",
       "    <tr>\n",
       "      <th>25</th>\n",
       "      <td>RapidBox</td>\n",
       "      <td>Combo Pack of 2 Casual Shoes Sneakers For Men</td>\n",
       "      <td>₹630</td>\n",
       "      <td>36% off</td>\n",
       "    </tr>\n",
       "    <tr>\n",
       "      <th>26</th>\n",
       "      <td>Robbie jones</td>\n",
       "      <td>CUBIC_1 Sneakers For Men</td>\n",
       "      <td>₹449</td>\n",
       "      <td>55% off</td>\n",
       "    </tr>\n",
       "    <tr>\n",
       "      <th>27</th>\n",
       "      <td>SPARX</td>\n",
       "      <td>Boys &amp; Men Stylish, Comfortable Comfort Foam S...</td>\n",
       "      <td>₹845</td>\n",
       "      <td>15% off</td>\n",
       "    </tr>\n",
       "    <tr>\n",
       "      <th>28</th>\n",
       "      <td>OMIKA</td>\n",
       "      <td>Synthetic Leather Casual Partywear Wedding Sne...</td>\n",
       "      <td>₹399</td>\n",
       "      <td>60% off</td>\n",
       "    </tr>\n",
       "    <tr>\n",
       "      <th>29</th>\n",
       "      <td>BIRDE</td>\n",
       "      <td>Multicolor Running Shoes,Gym Shoes,Walking Sho...</td>\n",
       "      <td>₹524</td>\n",
       "      <td>47% off</td>\n",
       "    </tr>\n",
       "    <tr>\n",
       "      <th>30</th>\n",
       "      <td>Dizzler</td>\n",
       "      <td>Sneakers For Men</td>\n",
       "      <td>₹495</td>\n",
       "      <td>31% off</td>\n",
       "    </tr>\n",
       "    <tr>\n",
       "      <th>31</th>\n",
       "      <td>apash merchandises</td>\n",
       "      <td>Sneakers For Men</td>\n",
       "      <td>₹424</td>\n",
       "      <td>76% off</td>\n",
       "    </tr>\n",
       "  </tbody>\n",
       "</table>\n",
       "</div>"
      ],
      "text/plain": [
       "                 Brand                                Product Description  \\\n",
       "0                ASIAN  Skypy-31 Walking Shoes,Training Shoes,Sneakers...   \n",
       "1                 PUMA              MAPF1 X-Ray Lite Pro Sneakers For Men   \n",
       "2             LE GREEM  Comfortable & Ultra Light Weight Sneaker Sneak...   \n",
       "3                BIRDE      Combo Pack of 2 Casual Shoes Sneakers For Men   \n",
       "4         Robbie jones                                   Sneakers For Men   \n",
       "5               BRUTON  Combo Pack Of 2 Latest Stylish Casual Shoes fo...   \n",
       "6                 Ktiz                                   Sneakers For Men   \n",
       "7           SPADE CLUB  New Fashion Outdoor Trendy Lightweight Casual,...   \n",
       "8                Zorth      Sneakers Shoes For Men Black Sneakers For Men   \n",
       "9              Airland                                 Sneakers For Women   \n",
       "10       WHITE WALKERS  Luxury Branded Fashionable Men's Casual Walkin...   \n",
       "11            PREKANZO                                   Sneakers For Men   \n",
       "12             Edoeviv                          0001 red Sneakers For Men   \n",
       "13                aadi  Tying Fabulous Comfortable Collections Of Comb...   \n",
       "14              Kirjak                                   Sneakers For Men   \n",
       "15               Tying     Casual Sneakers Shoes For Men Sneakers For Men   \n",
       "16               CLYMB  Blue Synthetic Leather Casual Shoes Sneakers F...   \n",
       "17                 HOC  Girls Stylish Casual Sports Shoe Sneakers For ...   \n",
       "18              Xentex      Combo Pack of 4 Casual Shoes Sneakers For Men   \n",
       "19                aadi  Casual Sneakers Shoes For Men And Boys Sneaker...   \n",
       "20              VENDOZ                                   Sneakers For Men   \n",
       "21               3SIX5                                 Sneakers For Women   \n",
       "22        Robbie jones     Casual Sneakers Shoes For Men Sneakers For Men   \n",
       "23              Bonexy                            SM-322 Sneakers For Men   \n",
       "24             ESSENCE  Girls & Women Stylish, Comfortable Comfort Foa...   \n",
       "25            RapidBox      Combo Pack of 2 Casual Shoes Sneakers For Men   \n",
       "26        Robbie jones                           CUBIC_1 Sneakers For Men   \n",
       "27               SPARX  Boys & Men Stylish, Comfortable Comfort Foam S...   \n",
       "28               OMIKA  Synthetic Leather Casual Partywear Wedding Sne...   \n",
       "29               BIRDE  Multicolor Running Shoes,Gym Shoes,Walking Sho...   \n",
       "30             Dizzler                                   Sneakers For Men   \n",
       "31  apash merchandises                                   Sneakers For Men   \n",
       "\n",
       "     Price Discount  \n",
       "0     ₹499  37% off  \n",
       "1   ₹3,599  55% off  \n",
       "2     ₹449  55% off  \n",
       "3     ₹630  57% off  \n",
       "4     ₹499  50% off  \n",
       "5     ₹592  76% off  \n",
       "6     ₹499  50% off  \n",
       "7     ₹665  33% off  \n",
       "8     ₹499  50% off  \n",
       "9     ₹190  61% off  \n",
       "10    ₹599  50% off  \n",
       "11    ₹398  60% off  \n",
       "12    ₹499  37% off  \n",
       "13    ₹549  72% off  \n",
       "14    ₹459  54% off  \n",
       "15    ₹749  62% off  \n",
       "16    ₹699  53% off  \n",
       "17    ₹429  66% off  \n",
       "18    ₹494  67% off  \n",
       "19    ₹290  41% off  \n",
       "20    ₹498  50% off  \n",
       "21    ₹842  57% off  \n",
       "22    ₹499  50% off  \n",
       "23    ₹474  52% off  \n",
       "24    ₹399  60% off  \n",
       "25    ₹630  36% off  \n",
       "26    ₹449  55% off  \n",
       "27    ₹845  15% off  \n",
       "28    ₹399  60% off  \n",
       "29    ₹524  47% off  \n",
       "30    ₹495  31% off  \n",
       "31    ₹424  76% off  "
      ]
     },
     "execution_count": 37,
     "metadata": {},
     "output_type": "execute_result"
    }
   ],
   "source": [
    "df2 = pd.DataFrame({'Brand':brands3[:32],'Product Description':product_description3[:32],'Price':price3[:32],'Discount':discount3[:32]})\n",
    "df2"
   ]
  },
  {
   "cell_type": "code",
   "execution_count": 38,
   "id": "a2f2241c",
   "metadata": {},
   "outputs": [],
   "source": [
    "page_4 = driver.find_element_by_xpath('//nav[@class=\"yFHi8N\"]/a[5]')\n",
    "page_4.click()"
   ]
  },
  {
   "cell_type": "code",
   "execution_count": 39,
   "id": "89c5a824",
   "metadata": {},
   "outputs": [
    {
     "data": {
      "text/plain": [
       "40"
      ]
     },
     "execution_count": 39,
     "metadata": {},
     "output_type": "execute_result"
    }
   ],
   "source": [
    "brand3 = driver.find_elements_by_xpath('//div[@class=\"_2WkVRV\"]')\n",
    "len(brand3)"
   ]
  },
  {
   "cell_type": "code",
   "execution_count": 40,
   "id": "4c49c26c",
   "metadata": {},
   "outputs": [
    {
     "data": {
      "text/plain": [
       "29"
      ]
     },
     "execution_count": 40,
     "metadata": {},
     "output_type": "execute_result"
    }
   ],
   "source": [
    "product_description3 = driver.find_elements_by_xpath('//a[@class=\"IRpwTa\"]')\n",
    "len(product_description3)"
   ]
  },
  {
   "cell_type": "code",
   "execution_count": 41,
   "id": "415caf22",
   "metadata": {},
   "outputs": [
    {
     "data": {
      "text/plain": [
       "40"
      ]
     },
     "execution_count": 41,
     "metadata": {},
     "output_type": "execute_result"
    }
   ],
   "source": [
    "price3 = driver.find_elements_by_xpath('//div[@class=\"_30jeq3\"]')\n",
    "len(price3)"
   ]
  },
  {
   "cell_type": "code",
   "execution_count": 42,
   "id": "3bdb06e4",
   "metadata": {},
   "outputs": [
    {
     "data": {
      "text/plain": [
       "39"
      ]
     },
     "execution_count": 42,
     "metadata": {},
     "output_type": "execute_result"
    }
   ],
   "source": [
    "discount3 = driver.find_elements_by_xpath('//div[@class=\"_3Ay6Sb\"]')\n",
    "len(discount3)"
   ]
  },
  {
   "cell_type": "code",
   "execution_count": 43,
   "id": "60b33909",
   "metadata": {},
   "outputs": [],
   "source": [
    "brands4 = []\n",
    "product_description4 = []\n",
    "price4 = []\n",
    "discount4 = []\n",
    "\n",
    "for i in brand3:\n",
    "    brands4.append(i.text)\n",
    "    \n",
    "for i in product_description3:\n",
    "    product_description4.append(i.text)\n",
    "    \n",
    "for i in price3:\n",
    "    price4.append(i.text)\n",
    "    \n",
    "for i in discount3:\n",
    "    discount4.append(i.text)"
   ]
  },
  {
   "cell_type": "code",
   "execution_count": 46,
   "id": "653a177d",
   "metadata": {},
   "outputs": [
    {
     "data": {
      "text/html": [
       "<div>\n",
       "<style scoped>\n",
       "    .dataframe tbody tr th:only-of-type {\n",
       "        vertical-align: middle;\n",
       "    }\n",
       "\n",
       "    .dataframe tbody tr th {\n",
       "        vertical-align: top;\n",
       "    }\n",
       "\n",
       "    .dataframe thead th {\n",
       "        text-align: right;\n",
       "    }\n",
       "</style>\n",
       "<table border=\"1\" class=\"dataframe\">\n",
       "  <thead>\n",
       "    <tr style=\"text-align: right;\">\n",
       "      <th></th>\n",
       "      <th>Brand</th>\n",
       "      <th>Product Description</th>\n",
       "      <th>Price</th>\n",
       "      <th>Discount</th>\n",
       "    </tr>\n",
       "  </thead>\n",
       "  <tbody>\n",
       "    <tr>\n",
       "      <th>0</th>\n",
       "      <td>SPARX</td>\n",
       "      <td>Sneakers For Men</td>\n",
       "      <td>₹1,117</td>\n",
       "      <td>14% off</td>\n",
       "    </tr>\n",
       "    <tr>\n",
       "      <th>1</th>\n",
       "      <td>Zorth</td>\n",
       "      <td>Mesh Sneakers For Men</td>\n",
       "      <td>₹499</td>\n",
       "      <td>50% off</td>\n",
       "    </tr>\n",
       "    <tr>\n",
       "      <th>2</th>\n",
       "      <td>REFOAM</td>\n",
       "      <td>Sneakers For Men</td>\n",
       "      <td>₹1,449</td>\n",
       "      <td>80% off</td>\n",
       "    </tr>\n",
       "  </tbody>\n",
       "</table>\n",
       "</div>"
      ],
      "text/plain": [
       "    Brand    Product Description   Price Discount\n",
       "0   SPARX       Sneakers For Men  ₹1,117  14% off\n",
       "1   Zorth  Mesh Sneakers For Men    ₹499  50% off\n",
       "2  REFOAM       Sneakers For Men  ₹1,449  80% off"
      ]
     },
     "execution_count": 46,
     "metadata": {},
     "output_type": "execute_result"
    }
   ],
   "source": [
    "df3 = pd.DataFrame({'Brand':brands4[:3],'Product Description':product_description4[:3],'Price':price4[:3],'Discount':discount4[:3]})\n",
    "df3"
   ]
  },
  {
   "cell_type": "code",
   "execution_count": 47,
   "id": "f74891fc",
   "metadata": {},
   "outputs": [
    {
     "data": {
      "text/html": [
       "<div>\n",
       "<style scoped>\n",
       "    .dataframe tbody tr th:only-of-type {\n",
       "        vertical-align: middle;\n",
       "    }\n",
       "\n",
       "    .dataframe tbody tr th {\n",
       "        vertical-align: top;\n",
       "    }\n",
       "\n",
       "    .dataframe thead th {\n",
       "        text-align: right;\n",
       "    }\n",
       "</style>\n",
       "<table border=\"1\" class=\"dataframe\">\n",
       "  <thead>\n",
       "    <tr style=\"text-align: right;\">\n",
       "      <th></th>\n",
       "      <th>Brand</th>\n",
       "      <th>Product Description</th>\n",
       "      <th>Price</th>\n",
       "      <th>Discount</th>\n",
       "    </tr>\n",
       "  </thead>\n",
       "  <tbody>\n",
       "    <tr>\n",
       "      <th>0</th>\n",
       "      <td>Magnolia</td>\n",
       "      <td>Sneakers For Men</td>\n",
       "      <td>₹398</td>\n",
       "      <td>60% off</td>\n",
       "    </tr>\n",
       "    <tr>\n",
       "      <th>1</th>\n",
       "      <td>luxury fashion</td>\n",
       "      <td>Luxury Fashionable casual sneaker shoes Sneake...</td>\n",
       "      <td>₹449</td>\n",
       "      <td>65% off</td>\n",
       "    </tr>\n",
       "    <tr>\n",
       "      <th>2</th>\n",
       "      <td>URBANBOX</td>\n",
       "      <td>Sneakers For Men</td>\n",
       "      <td>₹220</td>\n",
       "      <td>77% off</td>\n",
       "    </tr>\n",
       "    <tr>\n",
       "      <th>3</th>\n",
       "      <td>Labbin</td>\n",
       "      <td>Modern Trendy Shoes Combo pack of 4 Sneakers F...</td>\n",
       "      <td>₹499</td>\n",
       "      <td>50% off</td>\n",
       "    </tr>\n",
       "    <tr>\n",
       "      <th>4</th>\n",
       "      <td>Stefano Rads</td>\n",
       "      <td>Casual , Partywear Sneakers Shoes For Men's An...</td>\n",
       "      <td>₹242</td>\n",
       "      <td>65% off</td>\n",
       "    </tr>\n",
       "    <tr>\n",
       "      <th>...</th>\n",
       "      <td>...</td>\n",
       "      <td>...</td>\n",
       "      <td>...</td>\n",
       "      <td>...</td>\n",
       "    </tr>\n",
       "    <tr>\n",
       "      <th>30</th>\n",
       "      <td>Dizzler</td>\n",
       "      <td>Sneakers For Men</td>\n",
       "      <td>₹495</td>\n",
       "      <td>31% off</td>\n",
       "    </tr>\n",
       "    <tr>\n",
       "      <th>31</th>\n",
       "      <td>apash merchandises</td>\n",
       "      <td>Sneakers For Men</td>\n",
       "      <td>₹424</td>\n",
       "      <td>76% off</td>\n",
       "    </tr>\n",
       "    <tr>\n",
       "      <th>0</th>\n",
       "      <td>SPARX</td>\n",
       "      <td>Sneakers For Men</td>\n",
       "      <td>₹1,117</td>\n",
       "      <td>14% off</td>\n",
       "    </tr>\n",
       "    <tr>\n",
       "      <th>1</th>\n",
       "      <td>Zorth</td>\n",
       "      <td>Mesh Sneakers For Men</td>\n",
       "      <td>₹499</td>\n",
       "      <td>50% off</td>\n",
       "    </tr>\n",
       "    <tr>\n",
       "      <th>2</th>\n",
       "      <td>REFOAM</td>\n",
       "      <td>Sneakers For Men</td>\n",
       "      <td>₹1,449</td>\n",
       "      <td>80% off</td>\n",
       "    </tr>\n",
       "  </tbody>\n",
       "</table>\n",
       "<p>100 rows × 4 columns</p>\n",
       "</div>"
      ],
      "text/plain": [
       "                 Brand                                Product Description  \\\n",
       "0             Magnolia                                   Sneakers For Men   \n",
       "1       luxury fashion  Luxury Fashionable casual sneaker shoes Sneake...   \n",
       "2             URBANBOX                                   Sneakers For Men   \n",
       "3               Labbin  Modern Trendy Shoes Combo pack of 4 Sneakers F...   \n",
       "4         Stefano Rads  Casual , Partywear Sneakers Shoes For Men's An...   \n",
       "..                 ...                                                ...   \n",
       "30             Dizzler                                   Sneakers For Men   \n",
       "31  apash merchandises                                   Sneakers For Men   \n",
       "0                SPARX                                   Sneakers For Men   \n",
       "1                Zorth                              Mesh Sneakers For Men   \n",
       "2               REFOAM                                   Sneakers For Men   \n",
       "\n",
       "     Price Discount  \n",
       "0     ₹398  60% off  \n",
       "1     ₹449  65% off  \n",
       "2     ₹220  77% off  \n",
       "3     ₹499  50% off  \n",
       "4     ₹242  65% off  \n",
       "..     ...      ...  \n",
       "30    ₹495  31% off  \n",
       "31    ₹424  76% off  \n",
       "0   ₹1,117  14% off  \n",
       "1     ₹499  50% off  \n",
       "2   ₹1,449  80% off  \n",
       "\n",
       "[100 rows x 4 columns]"
      ]
     },
     "execution_count": 47,
     "metadata": {},
     "output_type": "execute_result"
    }
   ],
   "source": [
    "final_list = pd.concat([df,df1,df2,df3],axis=0)\n",
    "final_list"
   ]
  },
  {
   "cell_type": "markdown",
   "id": "1dd57437",
   "metadata": {},
   "source": [
    "### Q7: Go to the link - https://www.myntra.com/shoes\n",
    "#### Set Price filter to “Rs. 7149 to Rs. 14099 ” , Color filter to “Black”.\n",
    "#### And then scrape First 100 shoes data you get. The data should include “Brand” of the shoes , Short Shoe description, price of the shoe as shown in the below image."
   ]
  },
  {
   "cell_type": "code",
   "execution_count": 50,
   "id": "d1e9213c",
   "metadata": {},
   "outputs": [],
   "source": [
    "url = \"https://www.myntra.com/shoes\"\n",
    "driver.get(url)"
   ]
  },
  {
   "cell_type": "code",
   "execution_count": 68,
   "id": "3f1f0d3a",
   "metadata": {},
   "outputs": [
    {
     "data": {
      "text/plain": [
       "<selenium.webdriver.remote.webelement.WebElement (session=\"bf891e20e67235c4da862a763c3ee8d1\", element=\"19db9482-8dd5-4665-aff4-0e7d427c212c\")>"
      ]
     },
     "execution_count": 68,
     "metadata": {},
     "output_type": "execute_result"
    }
   ],
   "source": [
    "price_btn = driver.find_element_by_xpath('/html/body/div[2]/div/div[1]/main/div[3]/div[1]/section/div/div[5]/ul/li[2]/label')\n",
    "price_btn"
   ]
  },
  {
   "cell_type": "code",
   "execution_count": 69,
   "id": "6ace08f3",
   "metadata": {},
   "outputs": [],
   "source": [
    "price_btn.click()"
   ]
  },
  {
   "cell_type": "code",
   "execution_count": 70,
   "id": "57f88b57",
   "metadata": {},
   "outputs": [
    {
     "data": {
      "text/plain": [
       "<selenium.webdriver.remote.webelement.WebElement (session=\"bf891e20e67235c4da862a763c3ee8d1\", element=\"fbeaba04-de33-4e02-852f-24394b643747\")>"
      ]
     },
     "execution_count": 70,
     "metadata": {},
     "output_type": "execute_result"
    }
   ],
   "source": [
    "color_btn = driver.find_element_by_xpath('/html/body/div[2]/div/div[1]/main/div[3]/div[1]/section/div/div[6]/ul/li[1]/label')\n",
    "color_btn"
   ]
  },
  {
   "cell_type": "code",
   "execution_count": 71,
   "id": "fadf5886",
   "metadata": {},
   "outputs": [],
   "source": [
    "color_btn.click()"
   ]
  },
  {
   "cell_type": "code",
   "execution_count": 72,
   "id": "db094c5c",
   "metadata": {},
   "outputs": [
    {
     "data": {
      "text/plain": [
       "50"
      ]
     },
     "execution_count": 72,
     "metadata": {},
     "output_type": "execute_result"
    }
   ],
   "source": [
    "brand = driver.find_elements_by_xpath('//h3[@class=\"product-brand\"]')\n",
    "len(brand)"
   ]
  },
  {
   "cell_type": "code",
   "execution_count": 73,
   "id": "939e5746",
   "metadata": {},
   "outputs": [
    {
     "data": {
      "text/plain": [
       "50"
      ]
     },
     "execution_count": 73,
     "metadata": {},
     "output_type": "execute_result"
    }
   ],
   "source": [
    "product_description = driver.find_elements_by_xpath('//h4[@class=\"product-product\"]')\n",
    "len(product_description)"
   ]
  },
  {
   "cell_type": "code",
   "execution_count": 96,
   "id": "de620493",
   "metadata": {},
   "outputs": [
    {
     "data": {
      "text/plain": [
       "50"
      ]
     },
     "execution_count": 96,
     "metadata": {},
     "output_type": "execute_result"
    }
   ],
   "source": [
    "price = driver.find_elements_by_xpath('//div[@class=\"product-price\"]')\n",
    "len(price)"
   ]
  },
  {
   "cell_type": "code",
   "execution_count": 97,
   "id": "1a17bda8",
   "metadata": {},
   "outputs": [],
   "source": [
    "brand1 = []\n",
    "product_description1 = []\n",
    "price1 = []\n",
    "\n",
    "for i in brand:\n",
    "    brand1.append(i.text)\n",
    "    \n",
    "for i in product_description:\n",
    "    product_description1.append(i.text)\n",
    "    \n",
    "for i in price:\n",
    "    price1.append(i.text)"
   ]
  },
  {
   "cell_type": "code",
   "execution_count": 98,
   "id": "023f32e1",
   "metadata": {},
   "outputs": [
    {
     "data": {
      "text/html": [
       "<div>\n",
       "<style scoped>\n",
       "    .dataframe tbody tr th:only-of-type {\n",
       "        vertical-align: middle;\n",
       "    }\n",
       "\n",
       "    .dataframe tbody tr th {\n",
       "        vertical-align: top;\n",
       "    }\n",
       "\n",
       "    .dataframe thead th {\n",
       "        text-align: right;\n",
       "    }\n",
       "</style>\n",
       "<table border=\"1\" class=\"dataframe\">\n",
       "  <thead>\n",
       "    <tr style=\"text-align: right;\">\n",
       "      <th></th>\n",
       "      <th>Brand</th>\n",
       "      <th>Product Description</th>\n",
       "      <th>Price</th>\n",
       "    </tr>\n",
       "  </thead>\n",
       "  <tbody>\n",
       "    <tr>\n",
       "      <th>0</th>\n",
       "      <td>Puma</td>\n",
       "      <td>Men Magnify Nitro Running</td>\n",
       "      <td>Rs. 8449Rs. 12999(35% OFF)</td>\n",
       "    </tr>\n",
       "    <tr>\n",
       "      <th>1</th>\n",
       "      <td>Puma</td>\n",
       "      <td>Men Running Shoes</td>\n",
       "      <td>Rs. 7149Rs. 12999(45% OFF)</td>\n",
       "    </tr>\n",
       "    <tr>\n",
       "      <th>2</th>\n",
       "      <td>Puma</td>\n",
       "      <td>Men Electrify Nitro Running</td>\n",
       "      <td>Rs. 7499Rs. 9999(25% OFF)</td>\n",
       "    </tr>\n",
       "    <tr>\n",
       "      <th>3</th>\n",
       "      <td>Saint G</td>\n",
       "      <td>Men Mid-Top Chelsea Boots</td>\n",
       "      <td>Rs. 9810Rs. 10900(10% OFF)</td>\n",
       "    </tr>\n",
       "    <tr>\n",
       "      <th>4</th>\n",
       "      <td>Puma</td>\n",
       "      <td>Women Magnify Nitro Shoes</td>\n",
       "      <td>Rs. 7799Rs. 12999(40% OFF)</td>\n",
       "    </tr>\n",
       "    <tr>\n",
       "      <th>5</th>\n",
       "      <td>RARE RABBIT</td>\n",
       "      <td>Men Leather Flat Boots</td>\n",
       "      <td>Rs. 7999Rs. 9999(20% OFF)</td>\n",
       "    </tr>\n",
       "    <tr>\n",
       "      <th>6</th>\n",
       "      <td>Cole Haan</td>\n",
       "      <td>Men GENERATION ZEROGRAND STITCHLITE</td>\n",
       "      <td>Rs. 11999</td>\n",
       "    </tr>\n",
       "    <tr>\n",
       "      <th>7</th>\n",
       "      <td>Calvin Klein</td>\n",
       "      <td>Men Solid Suede Sneakers</td>\n",
       "      <td>Rs. 7999</td>\n",
       "    </tr>\n",
       "    <tr>\n",
       "      <th>8</th>\n",
       "      <td>ASICS</td>\n",
       "      <td>Men Colourblocked PU Sneakers</td>\n",
       "      <td>Rs. 9999</td>\n",
       "    </tr>\n",
       "    <tr>\n",
       "      <th>9</th>\n",
       "      <td>Bugatti</td>\n",
       "      <td>Men Running Shoes</td>\n",
       "      <td>Rs. 7999Rs. 9999(20% OFF)</td>\n",
       "    </tr>\n",
       "    <tr>\n",
       "      <th>10</th>\n",
       "      <td>Bugatti</td>\n",
       "      <td>Men Textured Leather High-Top Flat Boots</td>\n",
       "      <td>Rs. 8399Rs. 11999(30% OFF)</td>\n",
       "    </tr>\n",
       "    <tr>\n",
       "      <th>11</th>\n",
       "      <td>Saint G</td>\n",
       "      <td>Men Leather Chelsea Boots</td>\n",
       "      <td>Rs. 10710Rs. 11900(10% OFF)</td>\n",
       "    </tr>\n",
       "    <tr>\n",
       "      <th>12</th>\n",
       "      <td>DAVINCHI</td>\n",
       "      <td>Men Solid Leather Formal Derbys</td>\n",
       "      <td>Rs. 8990</td>\n",
       "    </tr>\n",
       "    <tr>\n",
       "      <th>13</th>\n",
       "      <td>DAVINCHI</td>\n",
       "      <td>Men Textured Formal Leather Loafers</td>\n",
       "      <td>Rs. 8990</td>\n",
       "    </tr>\n",
       "    <tr>\n",
       "      <th>14</th>\n",
       "      <td>Saint G</td>\n",
       "      <td>Women Leather Loafers</td>\n",
       "      <td>Rs. 7500Rs. 9500(Rs. 2000 OFF)</td>\n",
       "    </tr>\n",
       "    <tr>\n",
       "      <th>15</th>\n",
       "      <td>Geox</td>\n",
       "      <td>Men Leather Flat Boots</td>\n",
       "      <td>Rs. 8399Rs. 11999(30% OFF)</td>\n",
       "    </tr>\n",
       "    <tr>\n",
       "      <th>16</th>\n",
       "      <td>RARE RABBIT</td>\n",
       "      <td>Men Textured Leather Loafers</td>\n",
       "      <td>Rs. 7149Rs. 10999(35% OFF)</td>\n",
       "    </tr>\n",
       "    <tr>\n",
       "      <th>17</th>\n",
       "      <td>Heel &amp; Buckle London</td>\n",
       "      <td>Men Formal Leather Derby</td>\n",
       "      <td>Rs. 7990</td>\n",
       "    </tr>\n",
       "    <tr>\n",
       "      <th>18</th>\n",
       "      <td>Saint G</td>\n",
       "      <td>Leather Wedge Heeled Boots with Buckles</td>\n",
       "      <td>Rs. 13410Rs. 14900(10% OFF)</td>\n",
       "    </tr>\n",
       "    <tr>\n",
       "      <th>19</th>\n",
       "      <td>Saint G</td>\n",
       "      <td>Suede High-Top Flatform Heeled Boots</td>\n",
       "      <td>Rs. 12150Rs. 13500(10% OFF)</td>\n",
       "    </tr>\n",
       "    <tr>\n",
       "      <th>20</th>\n",
       "      <td>Saint G</td>\n",
       "      <td>Embellished Leather Block Heeled Boots</td>\n",
       "      <td>Rs. 9546Rs. 12900(26% OFF)</td>\n",
       "    </tr>\n",
       "    <tr>\n",
       "      <th>21</th>\n",
       "      <td>Geox</td>\n",
       "      <td>Women Leather Pumps</td>\n",
       "      <td>Rs. 8999</td>\n",
       "    </tr>\n",
       "    <tr>\n",
       "      <th>22</th>\n",
       "      <td>Puma</td>\n",
       "      <td>Women Velocity NITRO Runners</td>\n",
       "      <td>Rs. 7149Rs. 10999(35% OFF)</td>\n",
       "    </tr>\n",
       "    <tr>\n",
       "      <th>23</th>\n",
       "      <td>Tommy Hilfiger</td>\n",
       "      <td>Women Hybrid Leather Sneakers</td>\n",
       "      <td>Rs. 7999</td>\n",
       "    </tr>\n",
       "    <tr>\n",
       "      <th>24</th>\n",
       "      <td>Bugatti</td>\n",
       "      <td>Men Black Walking Shoes</td>\n",
       "      <td>Rs. 7199Rs. 8999(20% OFF)</td>\n",
       "    </tr>\n",
       "    <tr>\n",
       "      <th>25</th>\n",
       "      <td>J.FONTINI</td>\n",
       "      <td>Men Textured Leather Loafers</td>\n",
       "      <td>Rs. 7990</td>\n",
       "    </tr>\n",
       "    <tr>\n",
       "      <th>26</th>\n",
       "      <td>J.FONTINI</td>\n",
       "      <td>Men Textured Leather Loafers</td>\n",
       "      <td>Rs. 7990</td>\n",
       "    </tr>\n",
       "    <tr>\n",
       "      <th>27</th>\n",
       "      <td>Xtep</td>\n",
       "      <td>Men Running Shoes</td>\n",
       "      <td>Rs. 7699</td>\n",
       "    </tr>\n",
       "    <tr>\n",
       "      <th>28</th>\n",
       "      <td>J.FONTINI</td>\n",
       "      <td>Men Black Leather Loafers</td>\n",
       "      <td>Rs. 8490</td>\n",
       "    </tr>\n",
       "    <tr>\n",
       "      <th>29</th>\n",
       "      <td>Louis Philippe</td>\n",
       "      <td>Men Leather Formal Slip-Ons</td>\n",
       "      <td>Rs. 8499</td>\n",
       "    </tr>\n",
       "    <tr>\n",
       "      <th>30</th>\n",
       "      <td>DAVINCHI</td>\n",
       "      <td>Ustraa black</td>\n",
       "      <td>Rs. 8990</td>\n",
       "    </tr>\n",
       "    <tr>\n",
       "      <th>31</th>\n",
       "      <td>DAVINCHI</td>\n",
       "      <td>Men Formal Leather Slip-Ons</td>\n",
       "      <td>Rs. 8990</td>\n",
       "    </tr>\n",
       "    <tr>\n",
       "      <th>32</th>\n",
       "      <td>Geox</td>\n",
       "      <td>Men Leather Loafers</td>\n",
       "      <td>Rs. 9999</td>\n",
       "    </tr>\n",
       "    <tr>\n",
       "      <th>33</th>\n",
       "      <td>DAVINCHI</td>\n",
       "      <td>Men Textured Formal Leather Loafers</td>\n",
       "      <td>Rs. 8990</td>\n",
       "    </tr>\n",
       "    <tr>\n",
       "      <th>34</th>\n",
       "      <td>Geox</td>\n",
       "      <td>Women Solid Leather Pumps</td>\n",
       "      <td>Rs. 7999</td>\n",
       "    </tr>\n",
       "    <tr>\n",
       "      <th>35</th>\n",
       "      <td>Geox</td>\n",
       "      <td>Women Solid Leather Pumps</td>\n",
       "      <td>Rs. 10990</td>\n",
       "    </tr>\n",
       "    <tr>\n",
       "      <th>36</th>\n",
       "      <td>Pavers England</td>\n",
       "      <td>Men Leather Driving Shoes</td>\n",
       "      <td>Rs. 7499</td>\n",
       "    </tr>\n",
       "    <tr>\n",
       "      <th>37</th>\n",
       "      <td>Saint G</td>\n",
       "      <td>Women Leather Heeled Boots</td>\n",
       "      <td>Rs. 10710Rs. 11900(10% OFF)</td>\n",
       "    </tr>\n",
       "    <tr>\n",
       "      <th>38</th>\n",
       "      <td>Cole Haan</td>\n",
       "      <td>Women Open Toe Flats</td>\n",
       "      <td>Rs. 11999</td>\n",
       "    </tr>\n",
       "    <tr>\n",
       "      <th>39</th>\n",
       "      <td>Geox</td>\n",
       "      <td>Women Solid Leather Ballerinas</td>\n",
       "      <td>Rs. 8999</td>\n",
       "    </tr>\n",
       "    <tr>\n",
       "      <th>40</th>\n",
       "      <td>Cole Haan</td>\n",
       "      <td>Women Solid Leather Ballerinas</td>\n",
       "      <td>Rs. 13999</td>\n",
       "    </tr>\n",
       "    <tr>\n",
       "      <th>41</th>\n",
       "      <td>DAVINCHI</td>\n",
       "      <td>Men Textured Leather Formal Slip-Ons</td>\n",
       "      <td>Rs. 8990</td>\n",
       "    </tr>\n",
       "    <tr>\n",
       "      <th>42</th>\n",
       "      <td>Pavers England</td>\n",
       "      <td>Men Solid Leather Formal Loafers</td>\n",
       "      <td>Rs. 7999</td>\n",
       "    </tr>\n",
       "    <tr>\n",
       "      <th>43</th>\n",
       "      <td>Saint G</td>\n",
       "      <td>Leather Block Heeled Boots</td>\n",
       "      <td>Rs. 8550Rs. 9500(Rs. 950 OFF)</td>\n",
       "    </tr>\n",
       "    <tr>\n",
       "      <th>44</th>\n",
       "      <td>Pavers England</td>\n",
       "      <td>Men Textured Leather Formal Slip-On Shoes</td>\n",
       "      <td>Rs. 9999</td>\n",
       "    </tr>\n",
       "    <tr>\n",
       "      <th>45</th>\n",
       "      <td>Saint G</td>\n",
       "      <td>Leather Kitten Heeled Boots</td>\n",
       "      <td>Rs. 8910Rs. 9900(Rs. 990 OFF)</td>\n",
       "    </tr>\n",
       "    <tr>\n",
       "      <th>46</th>\n",
       "      <td>Pavers England</td>\n",
       "      <td>Men Solid Leather Formal Derbys</td>\n",
       "      <td>Rs. 8999</td>\n",
       "    </tr>\n",
       "    <tr>\n",
       "      <th>47</th>\n",
       "      <td>Geox</td>\n",
       "      <td>Women Chunky Sneakers</td>\n",
       "      <td>Rs. 9999</td>\n",
       "    </tr>\n",
       "    <tr>\n",
       "      <th>48</th>\n",
       "      <td>Saint G</td>\n",
       "      <td>Leather Block Heeled Boots with Bows</td>\n",
       "      <td>Rs. 12510Rs. 13900(10% OFF)</td>\n",
       "    </tr>\n",
       "    <tr>\n",
       "      <th>49</th>\n",
       "      <td>Saint G</td>\n",
       "      <td>Suede Party High-Top Block Heeled Boots</td>\n",
       "      <td>Rs. 9450Rs. 10500(10% OFF)</td>\n",
       "    </tr>\n",
       "  </tbody>\n",
       "</table>\n",
       "</div>"
      ],
      "text/plain": [
       "                   Brand                        Product Description  \\\n",
       "0                   Puma                  Men Magnify Nitro Running   \n",
       "1                   Puma                          Men Running Shoes   \n",
       "2                   Puma                Men Electrify Nitro Running   \n",
       "3                Saint G                  Men Mid-Top Chelsea Boots   \n",
       "4                   Puma                  Women Magnify Nitro Shoes   \n",
       "5            RARE RABBIT                     Men Leather Flat Boots   \n",
       "6              Cole Haan        Men GENERATION ZEROGRAND STITCHLITE   \n",
       "7           Calvin Klein                   Men Solid Suede Sneakers   \n",
       "8                  ASICS              Men Colourblocked PU Sneakers   \n",
       "9                Bugatti                          Men Running Shoes   \n",
       "10               Bugatti   Men Textured Leather High-Top Flat Boots   \n",
       "11               Saint G                  Men Leather Chelsea Boots   \n",
       "12              DAVINCHI            Men Solid Leather Formal Derbys   \n",
       "13              DAVINCHI        Men Textured Formal Leather Loafers   \n",
       "14               Saint G                      Women Leather Loafers   \n",
       "15                  Geox                     Men Leather Flat Boots   \n",
       "16           RARE RABBIT               Men Textured Leather Loafers   \n",
       "17  Heel & Buckle London                   Men Formal Leather Derby   \n",
       "18               Saint G    Leather Wedge Heeled Boots with Buckles   \n",
       "19               Saint G       Suede High-Top Flatform Heeled Boots   \n",
       "20               Saint G     Embellished Leather Block Heeled Boots   \n",
       "21                  Geox                        Women Leather Pumps   \n",
       "22                  Puma               Women Velocity NITRO Runners   \n",
       "23        Tommy Hilfiger              Women Hybrid Leather Sneakers   \n",
       "24               Bugatti                    Men Black Walking Shoes   \n",
       "25             J.FONTINI               Men Textured Leather Loafers   \n",
       "26             J.FONTINI               Men Textured Leather Loafers   \n",
       "27                  Xtep                          Men Running Shoes   \n",
       "28             J.FONTINI                  Men Black Leather Loafers   \n",
       "29        Louis Philippe                Men Leather Formal Slip-Ons   \n",
       "30              DAVINCHI                               Ustraa black   \n",
       "31              DAVINCHI                Men Formal Leather Slip-Ons   \n",
       "32                  Geox                        Men Leather Loafers   \n",
       "33              DAVINCHI        Men Textured Formal Leather Loafers   \n",
       "34                  Geox                  Women Solid Leather Pumps   \n",
       "35                  Geox                  Women Solid Leather Pumps   \n",
       "36        Pavers England                  Men Leather Driving Shoes   \n",
       "37               Saint G                 Women Leather Heeled Boots   \n",
       "38             Cole Haan                       Women Open Toe Flats   \n",
       "39                  Geox             Women Solid Leather Ballerinas   \n",
       "40             Cole Haan             Women Solid Leather Ballerinas   \n",
       "41              DAVINCHI       Men Textured Leather Formal Slip-Ons   \n",
       "42        Pavers England           Men Solid Leather Formal Loafers   \n",
       "43               Saint G                 Leather Block Heeled Boots   \n",
       "44        Pavers England  Men Textured Leather Formal Slip-On Shoes   \n",
       "45               Saint G                Leather Kitten Heeled Boots   \n",
       "46        Pavers England            Men Solid Leather Formal Derbys   \n",
       "47                  Geox                      Women Chunky Sneakers   \n",
       "48               Saint G       Leather Block Heeled Boots with Bows   \n",
       "49               Saint G    Suede Party High-Top Block Heeled Boots   \n",
       "\n",
       "                             Price  \n",
       "0       Rs. 8449Rs. 12999(35% OFF)  \n",
       "1       Rs. 7149Rs. 12999(45% OFF)  \n",
       "2        Rs. 7499Rs. 9999(25% OFF)  \n",
       "3       Rs. 9810Rs. 10900(10% OFF)  \n",
       "4       Rs. 7799Rs. 12999(40% OFF)  \n",
       "5        Rs. 7999Rs. 9999(20% OFF)  \n",
       "6                        Rs. 11999  \n",
       "7                         Rs. 7999  \n",
       "8                         Rs. 9999  \n",
       "9        Rs. 7999Rs. 9999(20% OFF)  \n",
       "10      Rs. 8399Rs. 11999(30% OFF)  \n",
       "11     Rs. 10710Rs. 11900(10% OFF)  \n",
       "12                        Rs. 8990  \n",
       "13                        Rs. 8990  \n",
       "14  Rs. 7500Rs. 9500(Rs. 2000 OFF)  \n",
       "15      Rs. 8399Rs. 11999(30% OFF)  \n",
       "16      Rs. 7149Rs. 10999(35% OFF)  \n",
       "17                        Rs. 7990  \n",
       "18     Rs. 13410Rs. 14900(10% OFF)  \n",
       "19     Rs. 12150Rs. 13500(10% OFF)  \n",
       "20      Rs. 9546Rs. 12900(26% OFF)  \n",
       "21                        Rs. 8999  \n",
       "22      Rs. 7149Rs. 10999(35% OFF)  \n",
       "23                        Rs. 7999  \n",
       "24       Rs. 7199Rs. 8999(20% OFF)  \n",
       "25                        Rs. 7990  \n",
       "26                        Rs. 7990  \n",
       "27                        Rs. 7699  \n",
       "28                        Rs. 8490  \n",
       "29                        Rs. 8499  \n",
       "30                        Rs. 8990  \n",
       "31                        Rs. 8990  \n",
       "32                        Rs. 9999  \n",
       "33                        Rs. 8990  \n",
       "34                        Rs. 7999  \n",
       "35                       Rs. 10990  \n",
       "36                        Rs. 7499  \n",
       "37     Rs. 10710Rs. 11900(10% OFF)  \n",
       "38                       Rs. 11999  \n",
       "39                        Rs. 8999  \n",
       "40                       Rs. 13999  \n",
       "41                        Rs. 8990  \n",
       "42                        Rs. 7999  \n",
       "43   Rs. 8550Rs. 9500(Rs. 950 OFF)  \n",
       "44                        Rs. 9999  \n",
       "45   Rs. 8910Rs. 9900(Rs. 990 OFF)  \n",
       "46                        Rs. 8999  \n",
       "47                        Rs. 9999  \n",
       "48     Rs. 12510Rs. 13900(10% OFF)  \n",
       "49      Rs. 9450Rs. 10500(10% OFF)  "
      ]
     },
     "execution_count": 98,
     "metadata": {},
     "output_type": "execute_result"
    }
   ],
   "source": [
    "df = pd.DataFrame({'Brand':brand1,'Product Description':product_description1,'Price':price1})\n",
    "df"
   ]
  },
  {
   "cell_type": "code",
   "execution_count": 99,
   "id": "6e9daaf0",
   "metadata": {},
   "outputs": [],
   "source": [
    "next_btn = driver.find_element_by_xpath('//li[@class=\"pagination-next\"]')\n",
    "next_btn.click()"
   ]
  },
  {
   "cell_type": "code",
   "execution_count": 100,
   "id": "5ab19501",
   "metadata": {},
   "outputs": [
    {
     "data": {
      "text/plain": [
       "50"
      ]
     },
     "execution_count": 100,
     "metadata": {},
     "output_type": "execute_result"
    }
   ],
   "source": [
    "brand1 = driver.find_elements_by_xpath('//h3[@class=\"product-brand\"]')\n",
    "len(brand1)"
   ]
  },
  {
   "cell_type": "code",
   "execution_count": 101,
   "id": "851e1aed",
   "metadata": {},
   "outputs": [
    {
     "data": {
      "text/plain": [
       "50"
      ]
     },
     "execution_count": 101,
     "metadata": {},
     "output_type": "execute_result"
    }
   ],
   "source": [
    "product_description1 = driver.find_elements_by_xpath('//h4[@class=\"product-product\"]')\n",
    "len(product_description1)"
   ]
  },
  {
   "cell_type": "code",
   "execution_count": 102,
   "id": "14ee76bd",
   "metadata": {},
   "outputs": [
    {
     "data": {
      "text/plain": [
       "50"
      ]
     },
     "execution_count": 102,
     "metadata": {},
     "output_type": "execute_result"
    }
   ],
   "source": [
    "price1 = driver.find_elements_by_xpath('//div[@class=\"product-price\"]')\n",
    "len(price1)"
   ]
  },
  {
   "cell_type": "code",
   "execution_count": 103,
   "id": "98516d82",
   "metadata": {},
   "outputs": [],
   "source": [
    "brand2 = []\n",
    "product_description2 = []\n",
    "price2 = []\n",
    "\n",
    "for i in brand1:\n",
    "    brand2.append(i.text)\n",
    "    \n",
    "for i in product_description1:\n",
    "    product_description2.append(i.text)\n",
    "    \n",
    "for i in price1:\n",
    "    price2.append(i.text)"
   ]
  },
  {
   "cell_type": "code",
   "execution_count": 104,
   "id": "f8385230",
   "metadata": {},
   "outputs": [
    {
     "data": {
      "text/html": [
       "<div>\n",
       "<style scoped>\n",
       "    .dataframe tbody tr th:only-of-type {\n",
       "        vertical-align: middle;\n",
       "    }\n",
       "\n",
       "    .dataframe tbody tr th {\n",
       "        vertical-align: top;\n",
       "    }\n",
       "\n",
       "    .dataframe thead th {\n",
       "        text-align: right;\n",
       "    }\n",
       "</style>\n",
       "<table border=\"1\" class=\"dataframe\">\n",
       "  <thead>\n",
       "    <tr style=\"text-align: right;\">\n",
       "      <th></th>\n",
       "      <th>Brand</th>\n",
       "      <th>Product Description</th>\n",
       "      <th>Price</th>\n",
       "    </tr>\n",
       "  </thead>\n",
       "  <tbody>\n",
       "    <tr>\n",
       "      <th>0</th>\n",
       "      <td>Saint G</td>\n",
       "      <td>Suede Party High-Top Block Heeled Boots</td>\n",
       "      <td>Rs. 9450Rs. 10500(10% OFF)</td>\n",
       "    </tr>\n",
       "    <tr>\n",
       "      <th>1</th>\n",
       "      <td>Saint G</td>\n",
       "      <td>Leather Platform Heeled Boots</td>\n",
       "      <td>Rs. 9810Rs. 10900(10% OFF)</td>\n",
       "    </tr>\n",
       "    <tr>\n",
       "      <th>2</th>\n",
       "      <td>Saint G</td>\n",
       "      <td>Textured Leather Party Kitten Heeled Boots</td>\n",
       "      <td>Rs. 11954Rs. 13900(14% OFF)</td>\n",
       "    </tr>\n",
       "    <tr>\n",
       "      <th>3</th>\n",
       "      <td>Heel &amp; Buckle London</td>\n",
       "      <td>Men Solid Leather Formal Loafers</td>\n",
       "      <td>Rs. 11990</td>\n",
       "    </tr>\n",
       "    <tr>\n",
       "      <th>4</th>\n",
       "      <td>Saint G</td>\n",
       "      <td>Leather Boots with Buckles</td>\n",
       "      <td>Rs. 8505Rs. 10500(19% OFF)</td>\n",
       "    </tr>\n",
       "    <tr>\n",
       "      <th>5</th>\n",
       "      <td>Saint G</td>\n",
       "      <td>Women High-Top Heeled Boots</td>\n",
       "      <td>Rs. 9869Rs. 13900(29% OFF)</td>\n",
       "    </tr>\n",
       "    <tr>\n",
       "      <th>6</th>\n",
       "      <td>Saint G</td>\n",
       "      <td>Woman Black Leather Boots</td>\n",
       "      <td>Rs. 11250Rs. 12500(10% OFF)</td>\n",
       "    </tr>\n",
       "    <tr>\n",
       "      <th>7</th>\n",
       "      <td>fitflop</td>\n",
       "      <td>Embellished Leather Wedge Sandals</td>\n",
       "      <td>Rs. 7499</td>\n",
       "    </tr>\n",
       "    <tr>\n",
       "      <th>8</th>\n",
       "      <td>Saint G</td>\n",
       "      <td>Leather Block Heeled Boots with Buckles</td>\n",
       "      <td>Rs. 9810Rs. 10900(10% OFF)</td>\n",
       "    </tr>\n",
       "    <tr>\n",
       "      <th>9</th>\n",
       "      <td>Saint G</td>\n",
       "      <td>Embellished Flatform Boots</td>\n",
       "      <td>Rs. 8505Rs. 10500(19% OFF)</td>\n",
       "    </tr>\n",
       "    <tr>\n",
       "      <th>10</th>\n",
       "      <td>Saint G</td>\n",
       "      <td>Leather Block Heeled Boots</td>\n",
       "      <td>Rs. 9810Rs. 10900(Rs. 1090 OFF)</td>\n",
       "    </tr>\n",
       "    <tr>\n",
       "      <th>11</th>\n",
       "      <td>Saint G</td>\n",
       "      <td>Women Leather Heeled Boots</td>\n",
       "      <td>Rs. 13410Rs. 14900(10% OFF)</td>\n",
       "    </tr>\n",
       "    <tr>\n",
       "      <th>12</th>\n",
       "      <td>Geox</td>\n",
       "      <td>Women Leather High-Top Flat Boots</td>\n",
       "      <td>Rs. 10499Rs. 14999(30% OFF)</td>\n",
       "    </tr>\n",
       "    <tr>\n",
       "      <th>13</th>\n",
       "      <td>MANGO</td>\n",
       "      <td>Women Leather Penny Loafers</td>\n",
       "      <td>Rs. 7191Rs. 7990(10% OFF)</td>\n",
       "    </tr>\n",
       "    <tr>\n",
       "      <th>14</th>\n",
       "      <td>fitflop</td>\n",
       "      <td>Women Textured Slip-On Sneakers</td>\n",
       "      <td>Rs. 7999</td>\n",
       "    </tr>\n",
       "    <tr>\n",
       "      <th>15</th>\n",
       "      <td>Cole Haan</td>\n",
       "      <td>Women Leather Sneakers</td>\n",
       "      <td>Rs. 10999</td>\n",
       "    </tr>\n",
       "    <tr>\n",
       "      <th>16</th>\n",
       "      <td>Nike</td>\n",
       "      <td>Men Zoom Span 4 Running Shoes</td>\n",
       "      <td>Rs. 7195</td>\n",
       "    </tr>\n",
       "    <tr>\n",
       "      <th>17</th>\n",
       "      <td>Saint G</td>\n",
       "      <td>Women Leather Heeled Boots</td>\n",
       "      <td>Rs. 13050Rs. 14500(10% OFF)</td>\n",
       "    </tr>\n",
       "    <tr>\n",
       "      <th>18</th>\n",
       "      <td>Nike</td>\n",
       "      <td>Men BlazerLow '77 Sneakers</td>\n",
       "      <td>Rs. 7195</td>\n",
       "    </tr>\n",
       "    <tr>\n",
       "      <th>19</th>\n",
       "      <td>Skechers</td>\n",
       "      <td>Men Balance Anchor Walking</td>\n",
       "      <td>Rs. 8499Rs. 9999(15% OFF)</td>\n",
       "    </tr>\n",
       "    <tr>\n",
       "      <th>20</th>\n",
       "      <td>Skechers</td>\n",
       "      <td>Men Go Run Hyper Burst Running</td>\n",
       "      <td>Rs. 7224Rs. 8499(15% OFF)</td>\n",
       "    </tr>\n",
       "    <tr>\n",
       "      <th>21</th>\n",
       "      <td>Hush Puppies</td>\n",
       "      <td>Men Solid Leather Formal Slip-Ons</td>\n",
       "      <td>Rs. 8999</td>\n",
       "    </tr>\n",
       "    <tr>\n",
       "      <th>22</th>\n",
       "      <td>Hush Puppies</td>\n",
       "      <td>Men Leather Derbys</td>\n",
       "      <td>Rs. 7999</td>\n",
       "    </tr>\n",
       "    <tr>\n",
       "      <th>23</th>\n",
       "      <td>Hush Puppies</td>\n",
       "      <td>Men Solid Leather Formal Slip-Ons</td>\n",
       "      <td>Rs. 9999</td>\n",
       "    </tr>\n",
       "    <tr>\n",
       "      <th>24</th>\n",
       "      <td>Hush Puppies</td>\n",
       "      <td>Men Formal Derbys</td>\n",
       "      <td>Rs. 9999</td>\n",
       "    </tr>\n",
       "    <tr>\n",
       "      <th>25</th>\n",
       "      <td>ECCO</td>\n",
       "      <td>Helsinki Bike Toe Lace Shoes</td>\n",
       "      <td>Rs. 12999</td>\n",
       "    </tr>\n",
       "    <tr>\n",
       "      <th>26</th>\n",
       "      <td>Hush Puppies</td>\n",
       "      <td>Men Solid Leather Formal Derbys</td>\n",
       "      <td>Rs. 9999</td>\n",
       "    </tr>\n",
       "    <tr>\n",
       "      <th>27</th>\n",
       "      <td>Saint G</td>\n",
       "      <td>Leather Block Heeled Boots</td>\n",
       "      <td>Rs. 12675Rs. 16900(Rs. 4225 OFF)</td>\n",
       "    </tr>\n",
       "    <tr>\n",
       "      <th>28</th>\n",
       "      <td>Bugatti</td>\n",
       "      <td>Men Walking Shoes</td>\n",
       "      <td>Rs. 7199Rs. 8999(20% OFF)</td>\n",
       "    </tr>\n",
       "    <tr>\n",
       "      <th>29</th>\n",
       "      <td>Heel &amp; Buckle London</td>\n",
       "      <td>Men Solid Leather Formal Penny Loafers</td>\n",
       "      <td>Rs. 7693Rs. 10990(30% OFF)</td>\n",
       "    </tr>\n",
       "    <tr>\n",
       "      <th>30</th>\n",
       "      <td>Hush Puppies</td>\n",
       "      <td>Men Solid Formal Slip-Ons</td>\n",
       "      <td>Rs. 9999</td>\n",
       "    </tr>\n",
       "    <tr>\n",
       "      <th>31</th>\n",
       "      <td>Saint G</td>\n",
       "      <td>Women Leather Heeled Boots</td>\n",
       "      <td>Rs. 13674Rs. 15900(14% OFF)</td>\n",
       "    </tr>\n",
       "    <tr>\n",
       "      <th>32</th>\n",
       "      <td>Saint G</td>\n",
       "      <td>Women Leather Heeled Boots</td>\n",
       "      <td>Rs. 12905Rs. 14500(11% OFF)</td>\n",
       "    </tr>\n",
       "    <tr>\n",
       "      <th>33</th>\n",
       "      <td>Saint G</td>\n",
       "      <td>Women Kitten Heeled Boots</td>\n",
       "      <td>Rs. 7921Rs. 8900(11% OFF)</td>\n",
       "    </tr>\n",
       "    <tr>\n",
       "      <th>34</th>\n",
       "      <td>Saint G</td>\n",
       "      <td>Women Leather Heeled Boots</td>\n",
       "      <td>Rs. 12510Rs. 13900(10% OFF)</td>\n",
       "    </tr>\n",
       "    <tr>\n",
       "      <th>35</th>\n",
       "      <td>DAVINCHI</td>\n",
       "      <td>Men Solid Leather Formal Loafers</td>\n",
       "      <td>Rs. 8490</td>\n",
       "    </tr>\n",
       "    <tr>\n",
       "      <th>36</th>\n",
       "      <td>ECCO</td>\n",
       "      <td>Leather Stiletto Pumps</td>\n",
       "      <td>Rs. 12999</td>\n",
       "    </tr>\n",
       "    <tr>\n",
       "      <th>37</th>\n",
       "      <td>ECCO</td>\n",
       "      <td>Women Textured Leather Sneakers</td>\n",
       "      <td>Rs. 13999</td>\n",
       "    </tr>\n",
       "    <tr>\n",
       "      <th>38</th>\n",
       "      <td>MANGO</td>\n",
       "      <td>Women Mid Top Chunky Flat Boot</td>\n",
       "      <td>Rs. 7590Rs. 7990(5% OFF)</td>\n",
       "    </tr>\n",
       "    <tr>\n",
       "      <th>39</th>\n",
       "      <td>ECCO</td>\n",
       "      <td>Women Ballerinas Flats</td>\n",
       "      <td>Rs. 8999</td>\n",
       "    </tr>\n",
       "    <tr>\n",
       "      <th>40</th>\n",
       "      <td>PUMA Motorsport</td>\n",
       "      <td>Unisex Mercedes F1 Sneakers</td>\n",
       "      <td>Rs. 7999Rs. 9999(20% OFF)</td>\n",
       "    </tr>\n",
       "    <tr>\n",
       "      <th>41</th>\n",
       "      <td>Puma</td>\n",
       "      <td>Women Eternity NITRO Shoes</td>\n",
       "      <td>Rs. 7799Rs. 12999(40% OFF)</td>\n",
       "    </tr>\n",
       "    <tr>\n",
       "      <th>42</th>\n",
       "      <td>Tommy Hilfiger</td>\n",
       "      <td>Men Lightweight Sneakers</td>\n",
       "      <td>Rs. 7999</td>\n",
       "    </tr>\n",
       "    <tr>\n",
       "      <th>43</th>\n",
       "      <td>UNDER ARMOUR</td>\n",
       "      <td>Women HOVR Sonic 4 Running</td>\n",
       "      <td>Rs. 8799Rs. 10999(20% OFF)</td>\n",
       "    </tr>\n",
       "    <tr>\n",
       "      <th>44</th>\n",
       "      <td>Pavers England</td>\n",
       "      <td>Men Textured Leather Loafers</td>\n",
       "      <td>Rs. 10999</td>\n",
       "    </tr>\n",
       "    <tr>\n",
       "      <th>45</th>\n",
       "      <td>J.FONTINI</td>\n",
       "      <td>Men Solid Loafers</td>\n",
       "      <td>Rs. 8990</td>\n",
       "    </tr>\n",
       "    <tr>\n",
       "      <th>46</th>\n",
       "      <td>Geox</td>\n",
       "      <td>Women Leather High-Top Flat Boots</td>\n",
       "      <td>Rs. 12599Rs. 17999(30% OFF)</td>\n",
       "    </tr>\n",
       "    <tr>\n",
       "      <th>47</th>\n",
       "      <td>Saint G</td>\n",
       "      <td>Suede Block Heeled Boots</td>\n",
       "      <td>Rs. 10350Rs. 11500(10% OFF)</td>\n",
       "    </tr>\n",
       "    <tr>\n",
       "      <th>48</th>\n",
       "      <td>Saint G</td>\n",
       "      <td>Striped Suede Flatform Heeled Boots</td>\n",
       "      <td>Rs. 8910Rs. 9900(Rs. 990 OFF)</td>\n",
       "    </tr>\n",
       "    <tr>\n",
       "      <th>49</th>\n",
       "      <td>Onitsuka Tiger</td>\n",
       "      <td>Women Perforations Sneakers</td>\n",
       "      <td>Rs. 8999</td>\n",
       "    </tr>\n",
       "  </tbody>\n",
       "</table>\n",
       "</div>"
      ],
      "text/plain": [
       "                   Brand                         Product Description  \\\n",
       "0                Saint G     Suede Party High-Top Block Heeled Boots   \n",
       "1                Saint G               Leather Platform Heeled Boots   \n",
       "2                Saint G  Textured Leather Party Kitten Heeled Boots   \n",
       "3   Heel & Buckle London            Men Solid Leather Formal Loafers   \n",
       "4                Saint G                  Leather Boots with Buckles   \n",
       "5                Saint G                 Women High-Top Heeled Boots   \n",
       "6                Saint G                   Woman Black Leather Boots   \n",
       "7                fitflop           Embellished Leather Wedge Sandals   \n",
       "8                Saint G     Leather Block Heeled Boots with Buckles   \n",
       "9                Saint G                  Embellished Flatform Boots   \n",
       "10               Saint G                  Leather Block Heeled Boots   \n",
       "11               Saint G                  Women Leather Heeled Boots   \n",
       "12                  Geox           Women Leather High-Top Flat Boots   \n",
       "13                 MANGO                 Women Leather Penny Loafers   \n",
       "14               fitflop             Women Textured Slip-On Sneakers   \n",
       "15             Cole Haan                      Women Leather Sneakers   \n",
       "16                  Nike               Men Zoom Span 4 Running Shoes   \n",
       "17               Saint G                  Women Leather Heeled Boots   \n",
       "18                  Nike                  Men BlazerLow '77 Sneakers   \n",
       "19              Skechers                  Men Balance Anchor Walking   \n",
       "20              Skechers              Men Go Run Hyper Burst Running   \n",
       "21          Hush Puppies           Men Solid Leather Formal Slip-Ons   \n",
       "22          Hush Puppies                          Men Leather Derbys   \n",
       "23          Hush Puppies           Men Solid Leather Formal Slip-Ons   \n",
       "24          Hush Puppies                           Men Formal Derbys   \n",
       "25                  ECCO                Helsinki Bike Toe Lace Shoes   \n",
       "26          Hush Puppies             Men Solid Leather Formal Derbys   \n",
       "27               Saint G                  Leather Block Heeled Boots   \n",
       "28               Bugatti                           Men Walking Shoes   \n",
       "29  Heel & Buckle London      Men Solid Leather Formal Penny Loafers   \n",
       "30          Hush Puppies                   Men Solid Formal Slip-Ons   \n",
       "31               Saint G                  Women Leather Heeled Boots   \n",
       "32               Saint G                  Women Leather Heeled Boots   \n",
       "33               Saint G                   Women Kitten Heeled Boots   \n",
       "34               Saint G                  Women Leather Heeled Boots   \n",
       "35              DAVINCHI            Men Solid Leather Formal Loafers   \n",
       "36                  ECCO                      Leather Stiletto Pumps   \n",
       "37                  ECCO             Women Textured Leather Sneakers   \n",
       "38                 MANGO              Women Mid Top Chunky Flat Boot   \n",
       "39                  ECCO                      Women Ballerinas Flats   \n",
       "40       PUMA Motorsport                 Unisex Mercedes F1 Sneakers   \n",
       "41                  Puma                  Women Eternity NITRO Shoes   \n",
       "42        Tommy Hilfiger                    Men Lightweight Sneakers   \n",
       "43          UNDER ARMOUR                  Women HOVR Sonic 4 Running   \n",
       "44        Pavers England                Men Textured Leather Loafers   \n",
       "45             J.FONTINI                           Men Solid Loafers   \n",
       "46                  Geox           Women Leather High-Top Flat Boots   \n",
       "47               Saint G                    Suede Block Heeled Boots   \n",
       "48               Saint G         Striped Suede Flatform Heeled Boots   \n",
       "49        Onitsuka Tiger                 Women Perforations Sneakers   \n",
       "\n",
       "                               Price  \n",
       "0         Rs. 9450Rs. 10500(10% OFF)  \n",
       "1         Rs. 9810Rs. 10900(10% OFF)  \n",
       "2        Rs. 11954Rs. 13900(14% OFF)  \n",
       "3                          Rs. 11990  \n",
       "4         Rs. 8505Rs. 10500(19% OFF)  \n",
       "5         Rs. 9869Rs. 13900(29% OFF)  \n",
       "6        Rs. 11250Rs. 12500(10% OFF)  \n",
       "7                           Rs. 7499  \n",
       "8         Rs. 9810Rs. 10900(10% OFF)  \n",
       "9         Rs. 8505Rs. 10500(19% OFF)  \n",
       "10   Rs. 9810Rs. 10900(Rs. 1090 OFF)  \n",
       "11       Rs. 13410Rs. 14900(10% OFF)  \n",
       "12       Rs. 10499Rs. 14999(30% OFF)  \n",
       "13         Rs. 7191Rs. 7990(10% OFF)  \n",
       "14                          Rs. 7999  \n",
       "15                         Rs. 10999  \n",
       "16                          Rs. 7195  \n",
       "17       Rs. 13050Rs. 14500(10% OFF)  \n",
       "18                          Rs. 7195  \n",
       "19         Rs. 8499Rs. 9999(15% OFF)  \n",
       "20         Rs. 7224Rs. 8499(15% OFF)  \n",
       "21                          Rs. 8999  \n",
       "22                          Rs. 7999  \n",
       "23                          Rs. 9999  \n",
       "24                          Rs. 9999  \n",
       "25                         Rs. 12999  \n",
       "26                          Rs. 9999  \n",
       "27  Rs. 12675Rs. 16900(Rs. 4225 OFF)  \n",
       "28         Rs. 7199Rs. 8999(20% OFF)  \n",
       "29        Rs. 7693Rs. 10990(30% OFF)  \n",
       "30                          Rs. 9999  \n",
       "31       Rs. 13674Rs. 15900(14% OFF)  \n",
       "32       Rs. 12905Rs. 14500(11% OFF)  \n",
       "33         Rs. 7921Rs. 8900(11% OFF)  \n",
       "34       Rs. 12510Rs. 13900(10% OFF)  \n",
       "35                          Rs. 8490  \n",
       "36                         Rs. 12999  \n",
       "37                         Rs. 13999  \n",
       "38          Rs. 7590Rs. 7990(5% OFF)  \n",
       "39                          Rs. 8999  \n",
       "40         Rs. 7999Rs. 9999(20% OFF)  \n",
       "41        Rs. 7799Rs. 12999(40% OFF)  \n",
       "42                          Rs. 7999  \n",
       "43        Rs. 8799Rs. 10999(20% OFF)  \n",
       "44                         Rs. 10999  \n",
       "45                          Rs. 8990  \n",
       "46       Rs. 12599Rs. 17999(30% OFF)  \n",
       "47       Rs. 10350Rs. 11500(10% OFF)  \n",
       "48     Rs. 8910Rs. 9900(Rs. 990 OFF)  \n",
       "49                          Rs. 8999  "
      ]
     },
     "execution_count": 104,
     "metadata": {},
     "output_type": "execute_result"
    }
   ],
   "source": [
    "df1 = pd.DataFrame({'Brand':brand2,'Product Description':product_description2,'Price':price2})\n",
    "df1"
   ]
  },
  {
   "cell_type": "code",
   "execution_count": 105,
   "id": "d8e45766",
   "metadata": {},
   "outputs": [
    {
     "data": {
      "text/html": [
       "<div>\n",
       "<style scoped>\n",
       "    .dataframe tbody tr th:only-of-type {\n",
       "        vertical-align: middle;\n",
       "    }\n",
       "\n",
       "    .dataframe tbody tr th {\n",
       "        vertical-align: top;\n",
       "    }\n",
       "\n",
       "    .dataframe thead th {\n",
       "        text-align: right;\n",
       "    }\n",
       "</style>\n",
       "<table border=\"1\" class=\"dataframe\">\n",
       "  <thead>\n",
       "    <tr style=\"text-align: right;\">\n",
       "      <th></th>\n",
       "      <th>Brand</th>\n",
       "      <th>Product Description</th>\n",
       "      <th>Price</th>\n",
       "    </tr>\n",
       "  </thead>\n",
       "  <tbody>\n",
       "    <tr>\n",
       "      <th>0</th>\n",
       "      <td>Puma</td>\n",
       "      <td>Men Magnify Nitro Running</td>\n",
       "      <td>Rs. 8449Rs. 12999(35% OFF)</td>\n",
       "    </tr>\n",
       "    <tr>\n",
       "      <th>1</th>\n",
       "      <td>Puma</td>\n",
       "      <td>Men Running Shoes</td>\n",
       "      <td>Rs. 7149Rs. 12999(45% OFF)</td>\n",
       "    </tr>\n",
       "    <tr>\n",
       "      <th>2</th>\n",
       "      <td>Puma</td>\n",
       "      <td>Men Electrify Nitro Running</td>\n",
       "      <td>Rs. 7499Rs. 9999(25% OFF)</td>\n",
       "    </tr>\n",
       "    <tr>\n",
       "      <th>3</th>\n",
       "      <td>Saint G</td>\n",
       "      <td>Men Mid-Top Chelsea Boots</td>\n",
       "      <td>Rs. 9810Rs. 10900(10% OFF)</td>\n",
       "    </tr>\n",
       "    <tr>\n",
       "      <th>4</th>\n",
       "      <td>Puma</td>\n",
       "      <td>Women Magnify Nitro Shoes</td>\n",
       "      <td>Rs. 7799Rs. 12999(40% OFF)</td>\n",
       "    </tr>\n",
       "    <tr>\n",
       "      <th>...</th>\n",
       "      <td>...</td>\n",
       "      <td>...</td>\n",
       "      <td>...</td>\n",
       "    </tr>\n",
       "    <tr>\n",
       "      <th>45</th>\n",
       "      <td>J.FONTINI</td>\n",
       "      <td>Men Solid Loafers</td>\n",
       "      <td>Rs. 8990</td>\n",
       "    </tr>\n",
       "    <tr>\n",
       "      <th>46</th>\n",
       "      <td>Geox</td>\n",
       "      <td>Women Leather High-Top Flat Boots</td>\n",
       "      <td>Rs. 12599Rs. 17999(30% OFF)</td>\n",
       "    </tr>\n",
       "    <tr>\n",
       "      <th>47</th>\n",
       "      <td>Saint G</td>\n",
       "      <td>Suede Block Heeled Boots</td>\n",
       "      <td>Rs. 10350Rs. 11500(10% OFF)</td>\n",
       "    </tr>\n",
       "    <tr>\n",
       "      <th>48</th>\n",
       "      <td>Saint G</td>\n",
       "      <td>Striped Suede Flatform Heeled Boots</td>\n",
       "      <td>Rs. 8910Rs. 9900(Rs. 990 OFF)</td>\n",
       "    </tr>\n",
       "    <tr>\n",
       "      <th>49</th>\n",
       "      <td>Onitsuka Tiger</td>\n",
       "      <td>Women Perforations Sneakers</td>\n",
       "      <td>Rs. 8999</td>\n",
       "    </tr>\n",
       "  </tbody>\n",
       "</table>\n",
       "<p>100 rows × 3 columns</p>\n",
       "</div>"
      ],
      "text/plain": [
       "             Brand                  Product Description  \\\n",
       "0             Puma            Men Magnify Nitro Running   \n",
       "1             Puma                    Men Running Shoes   \n",
       "2             Puma          Men Electrify Nitro Running   \n",
       "3          Saint G            Men Mid-Top Chelsea Boots   \n",
       "4             Puma            Women Magnify Nitro Shoes   \n",
       "..             ...                                  ...   \n",
       "45       J.FONTINI                    Men Solid Loafers   \n",
       "46            Geox    Women Leather High-Top Flat Boots   \n",
       "47         Saint G             Suede Block Heeled Boots   \n",
       "48         Saint G  Striped Suede Flatform Heeled Boots   \n",
       "49  Onitsuka Tiger          Women Perforations Sneakers   \n",
       "\n",
       "                            Price  \n",
       "0      Rs. 8449Rs. 12999(35% OFF)  \n",
       "1      Rs. 7149Rs. 12999(45% OFF)  \n",
       "2       Rs. 7499Rs. 9999(25% OFF)  \n",
       "3      Rs. 9810Rs. 10900(10% OFF)  \n",
       "4      Rs. 7799Rs. 12999(40% OFF)  \n",
       "..                            ...  \n",
       "45                       Rs. 8990  \n",
       "46    Rs. 12599Rs. 17999(30% OFF)  \n",
       "47    Rs. 10350Rs. 11500(10% OFF)  \n",
       "48  Rs. 8910Rs. 9900(Rs. 990 OFF)  \n",
       "49                       Rs. 8999  \n",
       "\n",
       "[100 rows x 3 columns]"
      ]
     },
     "execution_count": 105,
     "metadata": {},
     "output_type": "execute_result"
    }
   ],
   "source": [
    "final_list = pd.concat([df,df1],axis=0)\n",
    "final_list"
   ]
  },
  {
   "cell_type": "markdown",
   "id": "0e177b4e",
   "metadata": {},
   "source": [
    "### Q8: Go to webpage https://www.amazon.in/\n",
    "#### Enter “Laptop” in the search field and then click the search icon\n",
    "#### Then set CPU Type filter to “Intel Core i7” and “Intel Core i9” as shown in the below image:\n",
    "#### After setting the filters scrape first 10 laptops data. You have to scrape 3 attributesfor each laptop:\n",
    "#### 1. Title\n",
    "#### 2. Ratings\n",
    "#### 3. Price    "
   ]
  },
  {
   "cell_type": "code",
   "execution_count": 2,
   "id": "13872542",
   "metadata": {},
   "outputs": [],
   "source": [
    "driver = webdriver.Chrome(\"chromedriver.exe\")"
   ]
  },
  {
   "cell_type": "code",
   "execution_count": 3,
   "id": "6d4b74cd",
   "metadata": {},
   "outputs": [],
   "source": [
    "url = \"https://www.amazon.in/\"\n",
    "driver.get(url)"
   ]
  },
  {
   "cell_type": "code",
   "execution_count": 4,
   "id": "744eed65",
   "metadata": {},
   "outputs": [
    {
     "data": {
      "text/plain": [
       "<selenium.webdriver.remote.webelement.WebElement (session=\"be2c375078d211e5805f6a5bd5920064\", element=\"cc778609-dbdb-4de3-be24-a9c6ad747342\")>"
      ]
     },
     "execution_count": 4,
     "metadata": {},
     "output_type": "execute_result"
    }
   ],
   "source": [
    "search_title = driver.find_element_by_id(\"twotabsearchtextbox\")\n",
    "search_title"
   ]
  },
  {
   "cell_type": "code",
   "execution_count": 5,
   "id": "2a6450bd",
   "metadata": {},
   "outputs": [],
   "source": [
    "search_title.send_keys(\"Laptop\")"
   ]
  },
  {
   "cell_type": "code",
   "execution_count": 6,
   "id": "19d98921",
   "metadata": {},
   "outputs": [],
   "source": [
    "search_btn = driver.find_element_by_id(\"nav-search-submit-button\")"
   ]
  },
  {
   "cell_type": "code",
   "execution_count": 7,
   "id": "0de61ad3",
   "metadata": {},
   "outputs": [],
   "source": [
    "search_btn.click()"
   ]
  },
  {
   "cell_type": "code",
   "execution_count": 12,
   "id": "c30e9c95",
   "metadata": {},
   "outputs": [],
   "source": [
    "corei7 = driver.find_element_by_xpath('/html/body/div[1]/div[2]/div[1]/div[2]/div/div[3]/span/div[1]/span/div/div/div[6]/div/div/div[1]/div/span[1]/a[11]/div')"
   ]
  },
  {
   "cell_type": "code",
   "execution_count": 13,
   "id": "c6c1313c",
   "metadata": {},
   "outputs": [],
   "source": [
    "corei7.click()"
   ]
  },
  {
   "cell_type": "code",
   "execution_count": 14,
   "id": "1c3e3bfb",
   "metadata": {},
   "outputs": [
    {
     "data": {
      "text/plain": [
       "30"
      ]
     },
     "execution_count": 14,
     "metadata": {},
     "output_type": "execute_result"
    }
   ],
   "source": [
    "product = driver.find_elements_by_xpath('//span[@class=\"a-size-medium a-color-base a-text-normal\"]')\n",
    "len(product)"
   ]
  },
  {
   "cell_type": "code",
   "execution_count": 28,
   "id": "74627d12",
   "metadata": {},
   "outputs": [
    {
     "data": {
      "text/plain": [
       "29"
      ]
     },
     "execution_count": 28,
     "metadata": {},
     "output_type": "execute_result"
    }
   ],
   "source": [
    "rating = driver.find_elements_by_xpath('//span[@class=\"a-icon-alt\"]')\n",
    "len(rating)"
   ]
  },
  {
   "cell_type": "code",
   "execution_count": 23,
   "id": "3b6860f1",
   "metadata": {},
   "outputs": [
    {
     "data": {
      "text/plain": [
       "28"
      ]
     },
     "execution_count": 23,
     "metadata": {},
     "output_type": "execute_result"
    }
   ],
   "source": [
    "price = driver.find_elements_by_xpath('//span[@class=\"a-price\"]')\n",
    "len(price)"
   ]
  },
  {
   "cell_type": "code",
   "execution_count": 29,
   "id": "576baf48",
   "metadata": {},
   "outputs": [],
   "source": [
    "products = []\n",
    "ratings = []\n",
    "prices = []\n",
    "\n",
    "for i in product:\n",
    "    products.append(i.text)\n",
    "    \n",
    "for i in rating:\n",
    "    ratings.append(i.text)\n",
    "    \n",
    "for i in price:\n",
    "    prices.append(i.text)"
   ]
  },
  {
   "cell_type": "code",
   "execution_count": 30,
   "id": "eef5c503",
   "metadata": {},
   "outputs": [
    {
     "data": {
      "text/html": [
       "<div>\n",
       "<style scoped>\n",
       "    .dataframe tbody tr th:only-of-type {\n",
       "        vertical-align: middle;\n",
       "    }\n",
       "\n",
       "    .dataframe tbody tr th {\n",
       "        vertical-align: top;\n",
       "    }\n",
       "\n",
       "    .dataframe thead th {\n",
       "        text-align: right;\n",
       "    }\n",
       "</style>\n",
       "<table border=\"1\" class=\"dataframe\">\n",
       "  <thead>\n",
       "    <tr style=\"text-align: right;\">\n",
       "      <th></th>\n",
       "      <th>Product</th>\n",
       "      <th>Rating</th>\n",
       "      <th>Price</th>\n",
       "    </tr>\n",
       "  </thead>\n",
       "  <tbody>\n",
       "    <tr>\n",
       "      <th>0</th>\n",
       "      <td>Dell 14 (2021) i7-1195G7 2in1 Touch Screen Lap...</td>\n",
       "      <td></td>\n",
       "      <td>₹95,490</td>\n",
       "    </tr>\n",
       "    <tr>\n",
       "      <th>1</th>\n",
       "      <td>Mi Notebook Horizon Edition 14 Intel Core i7-1...</td>\n",
       "      <td></td>\n",
       "      <td>₹57,990</td>\n",
       "    </tr>\n",
       "    <tr>\n",
       "      <th>2</th>\n",
       "      <td>ASUS VivoBook 14 (2021), 14-inch (35.56 cms) F...</td>\n",
       "      <td></td>\n",
       "      <td>₹59,990</td>\n",
       "    </tr>\n",
       "    <tr>\n",
       "      <th>3</th>\n",
       "      <td>Acer Nitro 5 AN515-57 Gaming Laptop | Intel Co...</td>\n",
       "      <td></td>\n",
       "      <td>₹89,990</td>\n",
       "    </tr>\n",
       "    <tr>\n",
       "      <th>4</th>\n",
       "      <td>HP Pavilion 13, 11th Gen Intel Core i7, 13.3-i...</td>\n",
       "      <td></td>\n",
       "      <td>₹86,990</td>\n",
       "    </tr>\n",
       "    <tr>\n",
       "      <th>5</th>\n",
       "      <td>Lenovo ThinkBook 13s Intel 11th Gen Core i7 13...</td>\n",
       "      <td></td>\n",
       "      <td>₹79,990</td>\n",
       "    </tr>\n",
       "    <tr>\n",
       "      <th>6</th>\n",
       "      <td>ASUS TUF Gaming F15 (2021) 15.6-inch (39.62 cm...</td>\n",
       "      <td></td>\n",
       "      <td>₹1,14,990</td>\n",
       "    </tr>\n",
       "    <tr>\n",
       "      <th>7</th>\n",
       "      <td>Acer Predator Helios 300 11th Gen Intel Core i...</td>\n",
       "      <td></td>\n",
       "      <td>₹1,79,990</td>\n",
       "    </tr>\n",
       "    <tr>\n",
       "      <th>8</th>\n",
       "      <td>Fujitsu UH-X 11th Gen Intel i7 Core 13.3” (33....</td>\n",
       "      <td></td>\n",
       "      <td>₹92,490</td>\n",
       "    </tr>\n",
       "    <tr>\n",
       "      <th>9</th>\n",
       "      <td>HP Pavilion 14, Intel 11th Gen Core i7 16GB RA...</td>\n",
       "      <td></td>\n",
       "      <td>₹44,990</td>\n",
       "    </tr>\n",
       "  </tbody>\n",
       "</table>\n",
       "</div>"
      ],
      "text/plain": [
       "                                             Product Rating      Price\n",
       "0  Dell 14 (2021) i7-1195G7 2in1 Touch Screen Lap...           ₹95,490\n",
       "1  Mi Notebook Horizon Edition 14 Intel Core i7-1...           ₹57,990\n",
       "2  ASUS VivoBook 14 (2021), 14-inch (35.56 cms) F...           ₹59,990\n",
       "3  Acer Nitro 5 AN515-57 Gaming Laptop | Intel Co...           ₹89,990\n",
       "4  HP Pavilion 13, 11th Gen Intel Core i7, 13.3-i...           ₹86,990\n",
       "5  Lenovo ThinkBook 13s Intel 11th Gen Core i7 13...           ₹79,990\n",
       "6  ASUS TUF Gaming F15 (2021) 15.6-inch (39.62 cm...         ₹1,14,990\n",
       "7  Acer Predator Helios 300 11th Gen Intel Core i...         ₹1,79,990\n",
       "8  Fujitsu UH-X 11th Gen Intel i7 Core 13.3” (33....           ₹92,490\n",
       "9  HP Pavilion 14, Intel 11th Gen Core i7 16GB RA...           ₹44,990"
      ]
     },
     "execution_count": 30,
     "metadata": {},
     "output_type": "execute_result"
    }
   ],
   "source": [
    "df = pd.DataFrame({'Product':products[:10],'Rating':ratings[:10],'Price':prices[:10]})\n",
    "df"
   ]
  },
  {
   "cell_type": "code",
   "execution_count": 139,
   "id": "4084f4fb",
   "metadata": {},
   "outputs": [],
   "source": [
    "driver = webdriver.Chrome(\"chromedriver.exe\")"
   ]
  },
  {
   "cell_type": "code",
   "execution_count": 140,
   "id": "de9231ec",
   "metadata": {},
   "outputs": [],
   "source": [
    "url = \"https://www.amazon.in/\"\n",
    "driver.get(url)"
   ]
  },
  {
   "cell_type": "code",
   "execution_count": 141,
   "id": "39571706",
   "metadata": {},
   "outputs": [
    {
     "data": {
      "text/plain": [
       "<selenium.webdriver.remote.webelement.WebElement (session=\"29cab92b7d6b4ace6ff65cd994a3a95f\", element=\"dc4de1fb-276e-4d5e-a2ec-6174e5a8b6c0\")>"
      ]
     },
     "execution_count": 141,
     "metadata": {},
     "output_type": "execute_result"
    }
   ],
   "source": [
    "search_title = driver.find_element_by_id(\"twotabsearchtextbox\")\n",
    "search_title"
   ]
  },
  {
   "cell_type": "code",
   "execution_count": 142,
   "id": "565facb8",
   "metadata": {},
   "outputs": [],
   "source": [
    "search_title.send_keys(\"laptop\")"
   ]
  },
  {
   "cell_type": "code",
   "execution_count": 143,
   "id": "c2e95a8e",
   "metadata": {},
   "outputs": [],
   "source": [
    "search_btn = driver.find_element_by_id(\"nav-search-submit-button\")"
   ]
  },
  {
   "cell_type": "code",
   "execution_count": 144,
   "id": "ad8063e7",
   "metadata": {},
   "outputs": [],
   "source": [
    "search_btn.click()"
   ]
  },
  {
   "cell_type": "code",
   "execution_count": 146,
   "id": "fd045ffb",
   "metadata": {},
   "outputs": [],
   "source": [
    "corei9 = driver.find_element_by_xpath('/html/body/div[1]/div[2]/div[1]/div[2]/div/div[3]/span/div[1]/span/div/div/div[5]/ul[1]/li[13]/span/a/span')\n",
    "corei9.click()"
   ]
  },
  {
   "cell_type": "code",
   "execution_count": 153,
   "id": "b9dc0e22",
   "metadata": {},
   "outputs": [
    {
     "data": {
      "text/plain": [
       "9"
      ]
     },
     "execution_count": 153,
     "metadata": {},
     "output_type": "execute_result"
    }
   ],
   "source": [
    "product1 = driver.find_elements_by_xpath('//span[@class=\"a-size-medium a-color-base a-text-normal\"]')\n",
    "len(product)"
   ]
  },
  {
   "cell_type": "code",
   "execution_count": 154,
   "id": "a37ade4b",
   "metadata": {},
   "outputs": [
    {
     "data": {
      "text/plain": [
       "18"
      ]
     },
     "execution_count": 154,
     "metadata": {},
     "output_type": "execute_result"
    }
   ],
   "source": [
    "rating1 = driver.find_elements_by_xpath('//span[@class=\"a-icon-alt\"]')\n",
    "len(rating)"
   ]
  },
  {
   "cell_type": "code",
   "execution_count": 155,
   "id": "c2c425f6",
   "metadata": {},
   "outputs": [
    {
     "data": {
      "text/plain": [
       "8"
      ]
     },
     "execution_count": 155,
     "metadata": {},
     "output_type": "execute_result"
    }
   ],
   "source": [
    "price1 = driver.find_elements_by_xpath('//span[@class=\"a-price-whole\"]')\n",
    "len(price)"
   ]
  },
  {
   "cell_type": "code",
   "execution_count": 156,
   "id": "b04a7e92",
   "metadata": {},
   "outputs": [],
   "source": [
    "products1 = []\n",
    "ratings1 = []\n",
    "prices1 = []\n",
    "\n",
    "for i in product1:\n",
    "    products1.append(i.text)\n",
    "    \n",
    "for i in rating1:\n",
    "    ratings1.append(i.text)\n",
    "    \n",
    "for i in price1:\n",
    "    prices1.append(i.text)"
   ]
  },
  {
   "cell_type": "code",
   "execution_count": 157,
   "id": "8a3d0c64",
   "metadata": {},
   "outputs": [
    {
     "data": {
      "text/html": [
       "<div>\n",
       "<style scoped>\n",
       "    .dataframe tbody tr th:only-of-type {\n",
       "        vertical-align: middle;\n",
       "    }\n",
       "\n",
       "    .dataframe tbody tr th {\n",
       "        vertical-align: top;\n",
       "    }\n",
       "\n",
       "    .dataframe thead th {\n",
       "        text-align: right;\n",
       "    }\n",
       "</style>\n",
       "<table border=\"1\" class=\"dataframe\">\n",
       "  <thead>\n",
       "    <tr style=\"text-align: right;\">\n",
       "      <th></th>\n",
       "      <th>Product</th>\n",
       "      <th>Rating</th>\n",
       "      <th>Price</th>\n",
       "    </tr>\n",
       "  </thead>\n",
       "  <tbody>\n",
       "    <tr>\n",
       "      <th>0</th>\n",
       "      <td>ASUS TUF Gaming F15 (2021), 15.6\" (39.62 cms) ...</td>\n",
       "      <td></td>\n",
       "      <td>1,44,990</td>\n",
       "    </tr>\n",
       "    <tr>\n",
       "      <th>1</th>\n",
       "      <td>ASUS TUF Gaming F15 (2021), 15.6-inch (39.62 c...</td>\n",
       "      <td></td>\n",
       "      <td>1,43,990</td>\n",
       "    </tr>\n",
       "    <tr>\n",
       "      <th>2</th>\n",
       "      <td>ASUS TUF Gaming F15 (2021), 15.6-inch (39.62 c...</td>\n",
       "      <td></td>\n",
       "      <td>1,39,980</td>\n",
       "    </tr>\n",
       "    <tr>\n",
       "      <th>3</th>\n",
       "      <td>Lenovo Legion 7 10th Gen Intel Core i9 15.6 in...</td>\n",
       "      <td></td>\n",
       "      <td>2,65,999</td>\n",
       "    </tr>\n",
       "    <tr>\n",
       "      <th>4</th>\n",
       "      <td>Dell Precision 5550 || i9 -10885H || 16GB || 1...</td>\n",
       "      <td></td>\n",
       "      <td>2,00,000</td>\n",
       "    </tr>\n",
       "    <tr>\n",
       "      <th>5</th>\n",
       "      <td>Dell G7 7500 15.6inch FHD 300 Hz Display Gamin...</td>\n",
       "      <td></td>\n",
       "      <td>2,05,990</td>\n",
       "    </tr>\n",
       "    <tr>\n",
       "      <th>6</th>\n",
       "      <td>(Renewed) Dell G7 7500 15.6inch FHD 300 Hz Dis...</td>\n",
       "      <td></td>\n",
       "      <td>2,25,000</td>\n",
       "    </tr>\n",
       "    <tr>\n",
       "      <th>7</th>\n",
       "      <td>HP ZBOOK Power G8/ Intel core i9-11900H 8 Core...</td>\n",
       "      <td></td>\n",
       "      <td>2,45,000</td>\n",
       "    </tr>\n",
       "  </tbody>\n",
       "</table>\n",
       "</div>"
      ],
      "text/plain": [
       "                                             Product Rating     Price\n",
       "0  ASUS TUF Gaming F15 (2021), 15.6\" (39.62 cms) ...         1,44,990\n",
       "1  ASUS TUF Gaming F15 (2021), 15.6-inch (39.62 c...         1,43,990\n",
       "2  ASUS TUF Gaming F15 (2021), 15.6-inch (39.62 c...         1,39,980\n",
       "3  Lenovo Legion 7 10th Gen Intel Core i9 15.6 in...         2,65,999\n",
       "4  Dell Precision 5550 || i9 -10885H || 16GB || 1...         2,00,000\n",
       "5  Dell G7 7500 15.6inch FHD 300 Hz Display Gamin...         2,05,990\n",
       "6  (Renewed) Dell G7 7500 15.6inch FHD 300 Hz Dis...         2,25,000\n",
       "7  HP ZBOOK Power G8/ Intel core i9-11900H 8 Core...         2,45,000"
      ]
     },
     "execution_count": 157,
     "metadata": {},
     "output_type": "execute_result"
    }
   ],
   "source": [
    "df1 = pd.DataFrame({'Product':products1[:8],'Rating':ratings1[:8],'Price':prices1[:8]})\n",
    "df1"
   ]
  },
  {
   "cell_type": "code",
   "execution_count": 161,
   "id": "10f2073a",
   "metadata": {},
   "outputs": [
    {
     "data": {
      "text/html": [
       "<div>\n",
       "<style scoped>\n",
       "    .dataframe tbody tr th:only-of-type {\n",
       "        vertical-align: middle;\n",
       "    }\n",
       "\n",
       "    .dataframe tbody tr th {\n",
       "        vertical-align: top;\n",
       "    }\n",
       "\n",
       "    .dataframe thead th {\n",
       "        text-align: right;\n",
       "    }\n",
       "</style>\n",
       "<table border=\"1\" class=\"dataframe\">\n",
       "  <thead>\n",
       "    <tr style=\"text-align: right;\">\n",
       "      <th></th>\n",
       "      <th>Product</th>\n",
       "      <th>Price</th>\n",
       "    </tr>\n",
       "    <tr>\n",
       "      <th>Rating</th>\n",
       "      <th></th>\n",
       "      <th></th>\n",
       "    </tr>\n",
       "  </thead>\n",
       "  <tbody>\n",
       "    <tr>\n",
       "      <th></th>\n",
       "      <td>Dell 14 (2021) i7-1195G7 2in1 Touch Screen Lap...</td>\n",
       "      <td>95,490</td>\n",
       "    </tr>\n",
       "    <tr>\n",
       "      <th></th>\n",
       "      <td>Mi Notebook Horizon Edition 14 Intel Core i7-1...</td>\n",
       "      <td>57,990</td>\n",
       "    </tr>\n",
       "    <tr>\n",
       "      <th></th>\n",
       "      <td>ASUS VivoBook 14 (2021), 14-inch (35.56 cms) F...</td>\n",
       "      <td>59,990</td>\n",
       "    </tr>\n",
       "    <tr>\n",
       "      <th></th>\n",
       "      <td>Acer Nitro 5 AN515-57 Gaming Laptop | Intel Co...</td>\n",
       "      <td>89,990</td>\n",
       "    </tr>\n",
       "    <tr>\n",
       "      <th></th>\n",
       "      <td>HP Pavilion 13, 11th Gen Intel Core i7, 13.3-i...</td>\n",
       "      <td>86,990</td>\n",
       "    </tr>\n",
       "    <tr>\n",
       "      <th></th>\n",
       "      <td>Lenovo ThinkBook 13s Intel 11th Gen Core i7 13...</td>\n",
       "      <td>79,990</td>\n",
       "    </tr>\n",
       "    <tr>\n",
       "      <th></th>\n",
       "      <td>ASUS TUF Gaming F15 (2021) 15.6-inch (39.62 cm...</td>\n",
       "      <td>1,14,990</td>\n",
       "    </tr>\n",
       "    <tr>\n",
       "      <th></th>\n",
       "      <td>Acer Predator Helios 300 11th Gen Intel Core i...</td>\n",
       "      <td>1,79,990</td>\n",
       "    </tr>\n",
       "    <tr>\n",
       "      <th></th>\n",
       "      <td>Fujitsu UH-X 11th Gen Intel i7 Core 13.3” (33....</td>\n",
       "      <td>92,490</td>\n",
       "    </tr>\n",
       "    <tr>\n",
       "      <th></th>\n",
       "      <td>(Renewed) Dell Latitude E7470 Intel Core i7 6t...</td>\n",
       "      <td>44,990</td>\n",
       "    </tr>\n",
       "    <tr>\n",
       "      <th></th>\n",
       "      <td>ASUS TUF Gaming F15 (2021), 15.6\" (39.62 cms) ...</td>\n",
       "      <td>1,44,990</td>\n",
       "    </tr>\n",
       "    <tr>\n",
       "      <th></th>\n",
       "      <td>ASUS TUF Gaming F15 (2021), 15.6-inch (39.62 c...</td>\n",
       "      <td>1,43,990</td>\n",
       "    </tr>\n",
       "    <tr>\n",
       "      <th></th>\n",
       "      <td>ASUS TUF Gaming F15 (2021), 15.6-inch (39.62 c...</td>\n",
       "      <td>1,39,980</td>\n",
       "    </tr>\n",
       "    <tr>\n",
       "      <th></th>\n",
       "      <td>Lenovo Legion 7 10th Gen Intel Core i9 15.6 in...</td>\n",
       "      <td>2,65,999</td>\n",
       "    </tr>\n",
       "    <tr>\n",
       "      <th></th>\n",
       "      <td>Dell Precision 5550 || i9 -10885H || 16GB || 1...</td>\n",
       "      <td>2,00,000</td>\n",
       "    </tr>\n",
       "    <tr>\n",
       "      <th></th>\n",
       "      <td>Dell G7 7500 15.6inch FHD 300 Hz Display Gamin...</td>\n",
       "      <td>2,05,990</td>\n",
       "    </tr>\n",
       "    <tr>\n",
       "      <th></th>\n",
       "      <td>(Renewed) Dell G7 7500 15.6inch FHD 300 Hz Dis...</td>\n",
       "      <td>2,25,000</td>\n",
       "    </tr>\n",
       "    <tr>\n",
       "      <th></th>\n",
       "      <td>HP ZBOOK Power G8/ Intel core i9-11900H 8 Core...</td>\n",
       "      <td>2,45,000</td>\n",
       "    </tr>\n",
       "  </tbody>\n",
       "</table>\n",
       "</div>"
      ],
      "text/plain": [
       "                                                  Product     Price\n",
       "Rating                                                             \n",
       "        Dell 14 (2021) i7-1195G7 2in1 Touch Screen Lap...    95,490\n",
       "        Mi Notebook Horizon Edition 14 Intel Core i7-1...    57,990\n",
       "        ASUS VivoBook 14 (2021), 14-inch (35.56 cms) F...    59,990\n",
       "        Acer Nitro 5 AN515-57 Gaming Laptop | Intel Co...    89,990\n",
       "        HP Pavilion 13, 11th Gen Intel Core i7, 13.3-i...    86,990\n",
       "        Lenovo ThinkBook 13s Intel 11th Gen Core i7 13...    79,990\n",
       "        ASUS TUF Gaming F15 (2021) 15.6-inch (39.62 cm...  1,14,990\n",
       "        Acer Predator Helios 300 11th Gen Intel Core i...  1,79,990\n",
       "        Fujitsu UH-X 11th Gen Intel i7 Core 13.3” (33....    92,490\n",
       "        (Renewed) Dell Latitude E7470 Intel Core i7 6t...    44,990\n",
       "        ASUS TUF Gaming F15 (2021), 15.6\" (39.62 cms) ...  1,44,990\n",
       "        ASUS TUF Gaming F15 (2021), 15.6-inch (39.62 c...  1,43,990\n",
       "        ASUS TUF Gaming F15 (2021), 15.6-inch (39.62 c...  1,39,980\n",
       "        Lenovo Legion 7 10th Gen Intel Core i9 15.6 in...  2,65,999\n",
       "        Dell Precision 5550 || i9 -10885H || 16GB || 1...  2,00,000\n",
       "        Dell G7 7500 15.6inch FHD 300 Hz Display Gamin...  2,05,990\n",
       "        (Renewed) Dell G7 7500 15.6inch FHD 300 Hz Dis...  2,25,000\n",
       "        HP ZBOOK Power G8/ Intel core i9-11900H 8 Core...  2,45,000"
      ]
     },
     "execution_count": 161,
     "metadata": {},
     "output_type": "execute_result"
    }
   ],
   "source": [
    "final_list = pd.concat([df,df1],axis=0)\n",
    "final_list.set_index('Rating')"
   ]
  },
  {
   "cell_type": "markdown",
   "id": "8c85c40c",
   "metadata": {},
   "source": [
    "### Q9: Write a python program to scrape data for first 10 job results for Data Scientist Designation in Noida location. You have to scrape company name, No. of days ago when job was posted, Rating of the company. This task will be done in following steps:\n",
    "#### 1. First get the webpage https://www.ambitionbox.com/\n",
    "#### 3. After reaching to the next webpage, In place of “Search by Designations, Companies, Skills” enter “Data Scientist” and click on search button.\n",
    "#### 4. You will reach to the following web page click on location and in place of “Search location” enter “Noida” and select location “Noida”.\n",
    "#### 5. Then scrape the data for the first 10 jobs results you get on the above shown page.\n",
    "#### 6. Finally create a dataframe of the scraped data."
   ]
  },
  {
   "cell_type": "code",
   "execution_count": 31,
   "id": "a7dac6d1",
   "metadata": {},
   "outputs": [],
   "source": [
    "driver = webdriver.Chrome(\"chromedriver.exe\")"
   ]
  },
  {
   "cell_type": "code",
   "execution_count": 32,
   "id": "08b14520",
   "metadata": {},
   "outputs": [],
   "source": [
    "url = \"https://www.ambitionbox.com/\"\n",
    "driver.get(url)"
   ]
  },
  {
   "cell_type": "code",
   "execution_count": 33,
   "id": "54affe9a",
   "metadata": {},
   "outputs": [],
   "source": [
    "job_btn = driver.find_element_by_xpath('//a[@class=\"link jobs\"]')"
   ]
  },
  {
   "cell_type": "code",
   "execution_count": 34,
   "id": "15a7b540",
   "metadata": {},
   "outputs": [],
   "source": [
    "job_btn.click()"
   ]
  },
  {
   "cell_type": "code",
   "execution_count": 37,
   "id": "c5a49083",
   "metadata": {},
   "outputs": [],
   "source": [
    "search_title = driver.find_element_by_xpath('/html/body/div/div/div/div[2]/div[1]/div/div/div/div/span/input')"
   ]
  },
  {
   "cell_type": "code",
   "execution_count": 38,
   "id": "8ebe9387",
   "metadata": {},
   "outputs": [],
   "source": [
    "search_title.send_keys(\"Data Scientist\")"
   ]
  },
  {
   "cell_type": "code",
   "execution_count": 39,
   "id": "bcec288e",
   "metadata": {},
   "outputs": [],
   "source": [
    "search_btn = driver.find_element_by_xpath('//button[@class=\"ab_btn search-btn round\"]')"
   ]
  },
  {
   "cell_type": "code",
   "execution_count": 40,
   "id": "70a4f892",
   "metadata": {},
   "outputs": [],
   "source": [
    "search_btn.click()"
   ]
  },
  {
   "cell_type": "code",
   "execution_count": 41,
   "id": "39c8672f",
   "metadata": {},
   "outputs": [],
   "source": [
    "job_loc = driver.find_element_by_xpath('/html/body/div/div/div/div[2]/div[2]/div[1]/div/div/div/div[2]/div[1]/p')"
   ]
  },
  {
   "cell_type": "code",
   "execution_count": 42,
   "id": "51644576",
   "metadata": {},
   "outputs": [],
   "source": [
    "job_loc.click()"
   ]
  },
  {
   "cell_type": "code",
   "execution_count": 43,
   "id": "59537257",
   "metadata": {},
   "outputs": [],
   "source": [
    "search_loc = driver.find_element_by_xpath('/html/body/div/div/div/div[2]/div[2]/div[1]/div/div/div/div[2]/div[2]/div/div[2]/input')"
   ]
  },
  {
   "cell_type": "code",
   "execution_count": 44,
   "id": "8b85546e",
   "metadata": {},
   "outputs": [],
   "source": [
    "search_loc.send_keys(\"Noida\")"
   ]
  },
  {
   "cell_type": "code",
   "execution_count": 45,
   "id": "484fadb5",
   "metadata": {},
   "outputs": [],
   "source": [
    "select_loc = driver.find_element_by_xpath('/html/body/div/div/div/div[2]/div[2]/div[1]/div/div/div/div[2]/div[2]/div/div[3]/div[1]/div[1]/div/label')"
   ]
  },
  {
   "cell_type": "code",
   "execution_count": 46,
   "id": "f7d5f90b",
   "metadata": {},
   "outputs": [],
   "source": [
    "select_loc.click()"
   ]
  },
  {
   "cell_type": "code",
   "execution_count": 48,
   "id": "02075d10",
   "metadata": {},
   "outputs": [
    {
     "data": {
      "text/plain": [
       "10"
      ]
     },
     "execution_count": 48,
     "metadata": {},
     "output_type": "execute_result"
    }
   ],
   "source": [
    "comp_name = driver.find_elements_by_xpath('//p[@class=\"company body-medium\"]')\n",
    "len(comp_name)"
   ]
  },
  {
   "cell_type": "code",
   "execution_count": 53,
   "id": "44e76b5f",
   "metadata": {},
   "outputs": [
    {
     "data": {
      "text/plain": [
       "20"
      ]
     },
     "execution_count": 53,
     "metadata": {},
     "output_type": "execute_result"
    }
   ],
   "source": [
    "days = driver.find_elements_by_xpath('//span[@class=\"body-small-l\"]')\n",
    "len(days)"
   ]
  },
  {
   "cell_type": "code",
   "execution_count": 67,
   "id": "6c2ca4b9",
   "metadata": {},
   "outputs": [
    {
     "data": {
      "text/plain": [
       "10"
      ]
     },
     "execution_count": 67,
     "metadata": {},
     "output_type": "execute_result"
    }
   ],
   "source": [
    "rating = driver.find_elements_by_xpath('//span[@class=\"body-small\"]')\n",
    "len(rating)"
   ]
  },
  {
   "cell_type": "code",
   "execution_count": 68,
   "id": "e2892be7",
   "metadata": {},
   "outputs": [],
   "source": [
    "company_name = []\n",
    "no_days = []\n",
    "ratings = []\n",
    "\n",
    "for i in comp_name:\n",
    "    company_name.append(i.text)\n",
    "    \n",
    "for i in days:\n",
    "    no_days.append(i.text)\n",
    "    \n",
    "for i in rating:\n",
    "    ratings.append(i.text)"
   ]
  },
  {
   "cell_type": "code",
   "execution_count": 70,
   "id": "b7ed5432",
   "metadata": {},
   "outputs": [],
   "source": [
    "no_of_days = []\n",
    "for x in no_days:\n",
    "    if 'ago' in x:\n",
    "        no_of_days.append(x)"
   ]
  },
  {
   "cell_type": "code",
   "execution_count": 71,
   "id": "ff69cb30",
   "metadata": {},
   "outputs": [
    {
     "data": {
      "text/html": [
       "<div>\n",
       "<style scoped>\n",
       "    .dataframe tbody tr th:only-of-type {\n",
       "        vertical-align: middle;\n",
       "    }\n",
       "\n",
       "    .dataframe tbody tr th {\n",
       "        vertical-align: top;\n",
       "    }\n",
       "\n",
       "    .dataframe thead th {\n",
       "        text-align: right;\n",
       "    }\n",
       "</style>\n",
       "<table border=\"1\" class=\"dataframe\">\n",
       "  <thead>\n",
       "    <tr style=\"text-align: right;\">\n",
       "      <th></th>\n",
       "      <th>Company Name</th>\n",
       "      <th>Job was Posted</th>\n",
       "      <th>Rating</th>\n",
       "    </tr>\n",
       "  </thead>\n",
       "  <tbody>\n",
       "    <tr>\n",
       "      <th>0</th>\n",
       "      <td>Ameriprise Financial</td>\n",
       "      <td>19hr ago</td>\n",
       "      <td>4.0</td>\n",
       "    </tr>\n",
       "    <tr>\n",
       "      <th>1</th>\n",
       "      <td>Paytm</td>\n",
       "      <td>7d ago</td>\n",
       "      <td>3.7</td>\n",
       "    </tr>\n",
       "    <tr>\n",
       "      <th>2</th>\n",
       "      <td>Jubilant Foodworks Limited</td>\n",
       "      <td>24d ago</td>\n",
       "      <td>3.9</td>\n",
       "    </tr>\n",
       "    <tr>\n",
       "      <th>3</th>\n",
       "      <td>CHT Sapiense</td>\n",
       "      <td>8d ago</td>\n",
       "      <td>3.7</td>\n",
       "    </tr>\n",
       "    <tr>\n",
       "      <th>4</th>\n",
       "      <td>CHT Sapiense</td>\n",
       "      <td>9d ago</td>\n",
       "      <td>3.7</td>\n",
       "    </tr>\n",
       "    <tr>\n",
       "      <th>5</th>\n",
       "      <td>GI Group</td>\n",
       "      <td>20d ago</td>\n",
       "      <td>4.1</td>\n",
       "    </tr>\n",
       "    <tr>\n",
       "      <th>6</th>\n",
       "      <td>GI Group</td>\n",
       "      <td>20d ago</td>\n",
       "      <td>4.1</td>\n",
       "    </tr>\n",
       "    <tr>\n",
       "      <th>7</th>\n",
       "      <td>GI Group</td>\n",
       "      <td>20d ago</td>\n",
       "      <td>4.1</td>\n",
       "    </tr>\n",
       "    <tr>\n",
       "      <th>8</th>\n",
       "      <td>RMS Risk Management Solutions</td>\n",
       "      <td>2d ago</td>\n",
       "      <td>3.5</td>\n",
       "    </tr>\n",
       "    <tr>\n",
       "      <th>9</th>\n",
       "      <td>Paytm</td>\n",
       "      <td>28d ago</td>\n",
       "      <td>3.7</td>\n",
       "    </tr>\n",
       "  </tbody>\n",
       "</table>\n",
       "</div>"
      ],
      "text/plain": [
       "                    Company Name Job was Posted Rating\n",
       "0           Ameriprise Financial       19hr ago    4.0\n",
       "1                          Paytm         7d ago    3.7\n",
       "2     Jubilant Foodworks Limited        24d ago    3.9\n",
       "3                   CHT Sapiense         8d ago    3.7\n",
       "4                   CHT Sapiense         9d ago    3.7\n",
       "5                       GI Group        20d ago    4.1\n",
       "6                       GI Group        20d ago    4.1\n",
       "7                       GI Group        20d ago    4.1\n",
       "8  RMS Risk Management Solutions         2d ago    3.5\n",
       "9                          Paytm        28d ago    3.7"
      ]
     },
     "execution_count": 71,
     "metadata": {},
     "output_type": "execute_result"
    }
   ],
   "source": [
    "df = pd.DataFrame({'Company Name':company_name[:10],'Job was Posted':no_of_days[:10],'Rating':ratings[:10]})\n",
    "df"
   ]
  },
  {
   "cell_type": "markdown",
   "id": "95f6a82e",
   "metadata": {},
   "source": [
    "# Q10: Write a python program to scrape the salary data for Data Scientist designation.\n",
    "#### You have to scrape Company name, Number of salaries, Average salary, Minsalary, Max Salary.\n",
    "#### The above task will be, done as shown in the below steps:\n",
    "#### 1. First get the webpage https://www.ambitionbox.com/\n",
    "#### 3. After reaching to the following webpage, In place of “Search Job Profile” enters “Data Scientist” and then click on “Data Scientist”.\n",
    "#### 4. Scrape the data for the first 10 companies. Scrape the company name, total salary record, average salary, minimum salary, maximum salary, experience required.\n",
    "#### 5. Store the data in a dataframe."
   ]
  },
  {
   "cell_type": "code",
   "execution_count": 72,
   "id": "c8b095dc",
   "metadata": {},
   "outputs": [],
   "source": [
    "driver = webdriver.Chrome(\"chromedriver.exe\")"
   ]
  },
  {
   "cell_type": "code",
   "execution_count": 3,
   "id": "f64399b4",
   "metadata": {},
   "outputs": [],
   "source": [
    "url = \"https://www.ambitionbox.com/\"\n",
    "driver.get(url)"
   ]
  },
  {
   "cell_type": "code",
   "execution_count": 4,
   "id": "d5b65e91",
   "metadata": {},
   "outputs": [],
   "source": [
    "salary_btn = driver.find_element_by_xpath('/html/body/div[1]/nav/nav/a[4]')\n",
    "salary_btn.click()"
   ]
  },
  {
   "cell_type": "code",
   "execution_count": 5,
   "id": "e07d27e3",
   "metadata": {},
   "outputs": [],
   "source": [
    "search_title = driver.find_element_by_xpath('/html/body/div/div/div/main/section[1]/div[2]/div[1]/span/input')"
   ]
  },
  {
   "cell_type": "code",
   "execution_count": 6,
   "id": "4f84355d",
   "metadata": {},
   "outputs": [],
   "source": [
    "search_title.send_keys(\"Data Scientist\")"
   ]
  },
  {
   "cell_type": "code",
   "execution_count": 33,
   "id": "6301cb56",
   "metadata": {},
   "outputs": [
    {
     "data": {
      "text/plain": [
       "10"
      ]
     },
     "execution_count": 33,
     "metadata": {},
     "output_type": "execute_result"
    }
   ],
   "source": [
    "comp_name = driver.find_elements_by_xpath('//div[@class=\"name\"]/a')\n",
    "len(comp_name)"
   ]
  },
  {
   "cell_type": "code",
   "execution_count": 34,
   "id": "e17c3bd1",
   "metadata": {},
   "outputs": [
    {
     "data": {
      "text/plain": [
       "10"
      ]
     },
     "execution_count": 34,
     "metadata": {},
     "output_type": "execute_result"
    }
   ],
   "source": [
    "total_salary = driver.find_elements_by_xpath('//div[@class=\"name\"]/span')\n",
    "len(total_salary)"
   ]
  },
  {
   "cell_type": "code",
   "execution_count": 35,
   "id": "da3c70cf",
   "metadata": {},
   "outputs": [
    {
     "data": {
      "text/plain": [
       "10"
      ]
     },
     "execution_count": 35,
     "metadata": {},
     "output_type": "execute_result"
    }
   ],
   "source": [
    "avg_salary = driver.find_elements_by_xpath('//p[@class=\"averageCtc\"]')\n",
    "len(avg_salary)"
   ]
  },
  {
   "cell_type": "code",
   "execution_count": 36,
   "id": "ba8cd30d",
   "metadata": {},
   "outputs": [
    {
     "data": {
      "text/plain": [
       "20"
      ]
     },
     "execution_count": 36,
     "metadata": {},
     "output_type": "execute_result"
    }
   ],
   "source": [
    "min_salary = driver.find_elements_by_xpath('//div[@class=\"value body-medium\"]')\n",
    "len(min_salary)"
   ]
  },
  {
   "cell_type": "code",
   "execution_count": 37,
   "id": "683bf03d",
   "metadata": {},
   "outputs": [
    {
     "data": {
      "text/plain": [
       "20"
      ]
     },
     "execution_count": 37,
     "metadata": {},
     "output_type": "execute_result"
    }
   ],
   "source": [
    "max_salary = driver.find_elements_by_xpath('//div[@class=\"value body-medium\"]')\n",
    "len(max_salary)"
   ]
  },
  {
   "cell_type": "code",
   "execution_count": 46,
   "id": "138268f2",
   "metadata": {},
   "outputs": [
    {
     "data": {
      "text/plain": [
       "10"
      ]
     },
     "execution_count": 46,
     "metadata": {},
     "output_type": "execute_result"
    }
   ],
   "source": [
    "exp = driver.find_elements_by_xpath('//div[@class=\"salaries sbold-list-header\"]')\n",
    "len(exp)"
   ]
  },
  {
   "cell_type": "code",
   "execution_count": 68,
   "id": "dc5b489a",
   "metadata": {},
   "outputs": [],
   "source": [
    "company_names = []\n",
    "total_salary1 = []\n",
    "avg_salary1 = []\n",
    "min_salary1 = []\n",
    "max_salary1 = []\n",
    "experience = []\n",
    "\n",
    "for i in comp_name:\n",
    "    company_names.append(i.text)\n",
    "    \n",
    "for i in total_salary:\n",
    "    total_salary1.append(i.text)\n",
    "    \n",
    "for i in avg_salary:\n",
    "    avg_salary1.append(i.text)\n",
    "    \n",
    "for i in range(0,len(min_salary),2):\n",
    "    min_salary1.append(min_salary[i].text)\n",
    "    \n",
    "for i in range(1,len(min_salary),2):\n",
    "    max_salary1.append(min_salary[i].text)\n",
    "\n",
    "for i in exp:\n",
    "    experience.append(i.text.split()[3:])"
   ]
  },
  {
   "cell_type": "code",
   "execution_count": 69,
   "id": "45fc70de",
   "metadata": {},
   "outputs": [
    {
     "data": {
      "text/html": [
       "<div>\n",
       "<style scoped>\n",
       "    .dataframe tbody tr th:only-of-type {\n",
       "        vertical-align: middle;\n",
       "    }\n",
       "\n",
       "    .dataframe tbody tr th {\n",
       "        vertical-align: top;\n",
       "    }\n",
       "\n",
       "    .dataframe thead th {\n",
       "        text-align: right;\n",
       "    }\n",
       "</style>\n",
       "<table border=\"1\" class=\"dataframe\">\n",
       "  <thead>\n",
       "    <tr style=\"text-align: right;\">\n",
       "      <th></th>\n",
       "      <th>Company Name</th>\n",
       "      <th>No. of Salaries</th>\n",
       "      <th>Average Salary</th>\n",
       "      <th>Minimum Salary</th>\n",
       "      <th>Maximum Salary</th>\n",
       "      <th>Experience Required</th>\n",
       "    </tr>\n",
       "  </thead>\n",
       "  <tbody>\n",
       "    <tr>\n",
       "      <th>0</th>\n",
       "      <td>Walmart</td>\n",
       "      <td>based on 10 salaries</td>\n",
       "      <td>₹ 28.7L</td>\n",
       "      <td>₹ 17.7L</td>\n",
       "      <td>₹ 35.0L</td>\n",
       "      <td>[3, yrs, exp]</td>\n",
       "    </tr>\n",
       "    <tr>\n",
       "      <th>1</th>\n",
       "      <td>Ab Inbev</td>\n",
       "      <td>based on 22 salaries</td>\n",
       "      <td>₹ 19.5L</td>\n",
       "      <td>₹ 15.0L</td>\n",
       "      <td>₹ 25.0L</td>\n",
       "      <td>[3-4, yrs, exp]</td>\n",
       "    </tr>\n",
       "    <tr>\n",
       "      <th>2</th>\n",
       "      <td>ZS</td>\n",
       "      <td>based on 14 salaries</td>\n",
       "      <td>₹ 15.8L</td>\n",
       "      <td>₹ 9.8L</td>\n",
       "      <td>₹ 20.0L</td>\n",
       "      <td>[2, yrs, exp]</td>\n",
       "    </tr>\n",
       "    <tr>\n",
       "      <th>3</th>\n",
       "      <td>Fractal Analytics</td>\n",
       "      <td>based on 72 salaries</td>\n",
       "      <td>₹ 15.0L</td>\n",
       "      <td>₹ 9.5L</td>\n",
       "      <td>₹ 22.0L</td>\n",
       "      <td>[2-4, yrs, exp]</td>\n",
       "    </tr>\n",
       "    <tr>\n",
       "      <th>4</th>\n",
       "      <td>Optum</td>\n",
       "      <td>based on 23 salaries</td>\n",
       "      <td>₹ 15.0L</td>\n",
       "      <td>₹ 11.0L</td>\n",
       "      <td>₹ 21.3L</td>\n",
       "      <td>[3-4, yrs, exp]</td>\n",
       "    </tr>\n",
       "    <tr>\n",
       "      <th>5</th>\n",
       "      <td>UnitedHealth</td>\n",
       "      <td>based on 49 salaries</td>\n",
       "      <td>₹ 13.5L</td>\n",
       "      <td>₹ 7.2L</td>\n",
       "      <td>₹ 20.5L</td>\n",
       "      <td>[2-4, yrs, exp]</td>\n",
       "    </tr>\n",
       "    <tr>\n",
       "      <th>6</th>\n",
       "      <td>Tiger Analytics</td>\n",
       "      <td>based on 27 salaries</td>\n",
       "      <td>₹ 13.5L</td>\n",
       "      <td>₹ 8.3L</td>\n",
       "      <td>₹ 18.5L</td>\n",
       "      <td>[3-4, yrs, exp]</td>\n",
       "    </tr>\n",
       "    <tr>\n",
       "      <th>7</th>\n",
       "      <td>Verizon</td>\n",
       "      <td>based on 14 salaries</td>\n",
       "      <td>₹ 12.7L</td>\n",
       "      <td>₹ 10.0L</td>\n",
       "      <td>₹ 21.0L</td>\n",
       "      <td>[4, yrs, exp]</td>\n",
       "    </tr>\n",
       "    <tr>\n",
       "      <th>8</th>\n",
       "      <td>Ganit Business Solutions</td>\n",
       "      <td>based on 13 salaries</td>\n",
       "      <td>₹ 12.4L</td>\n",
       "      <td>₹ 8.5L</td>\n",
       "      <td>₹ 15.0L</td>\n",
       "      <td>[4, yrs, exp]</td>\n",
       "    </tr>\n",
       "    <tr>\n",
       "      <th>9</th>\n",
       "      <td>Ericsson</td>\n",
       "      <td>based on 42 salaries</td>\n",
       "      <td>₹ 11.9L</td>\n",
       "      <td>₹ 5.8L</td>\n",
       "      <td>₹ 21.5L</td>\n",
       "      <td>[3-4, yrs, exp]</td>\n",
       "    </tr>\n",
       "  </tbody>\n",
       "</table>\n",
       "</div>"
      ],
      "text/plain": [
       "               Company Name       No. of Salaries Average Salary  \\\n",
       "0                   Walmart  based on 10 salaries        ₹ 28.7L   \n",
       "1                  Ab Inbev  based on 22 salaries        ₹ 19.5L   \n",
       "2                        ZS  based on 14 salaries        ₹ 15.8L   \n",
       "3         Fractal Analytics  based on 72 salaries        ₹ 15.0L   \n",
       "4                     Optum  based on 23 salaries        ₹ 15.0L   \n",
       "5              UnitedHealth  based on 49 salaries        ₹ 13.5L   \n",
       "6           Tiger Analytics  based on 27 salaries        ₹ 13.5L   \n",
       "7                   Verizon  based on 14 salaries        ₹ 12.7L   \n",
       "8  Ganit Business Solutions  based on 13 salaries        ₹ 12.4L   \n",
       "9                  Ericsson  based on 42 salaries        ₹ 11.9L   \n",
       "\n",
       "  Minimum Salary Maximum Salary Experience Required  \n",
       "0        ₹ 17.7L        ₹ 35.0L       [3, yrs, exp]  \n",
       "1        ₹ 15.0L        ₹ 25.0L     [3-4, yrs, exp]  \n",
       "2         ₹ 9.8L        ₹ 20.0L       [2, yrs, exp]  \n",
       "3         ₹ 9.5L        ₹ 22.0L     [2-4, yrs, exp]  \n",
       "4        ₹ 11.0L        ₹ 21.3L     [3-4, yrs, exp]  \n",
       "5         ₹ 7.2L        ₹ 20.5L     [2-4, yrs, exp]  \n",
       "6         ₹ 8.3L        ₹ 18.5L     [3-4, yrs, exp]  \n",
       "7        ₹ 10.0L        ₹ 21.0L       [4, yrs, exp]  \n",
       "8         ₹ 8.5L        ₹ 15.0L       [4, yrs, exp]  \n",
       "9         ₹ 5.8L        ₹ 21.5L     [3-4, yrs, exp]  "
      ]
     },
     "execution_count": 69,
     "metadata": {},
     "output_type": "execute_result"
    }
   ],
   "source": [
    "df = pd.DataFrame({'Company Name':company_names[:10],'No. of Salaries':total_salary1[:10],'Average Salary':avg_salary1[:10],\n",
    "                  'Minimum Salary':min_salary1[:10],'Maximum Salary':max_salary1[:10],'Experience Required':experience[:10]})\n",
    "df"
   ]
  },
  {
   "cell_type": "code",
   "execution_count": null,
   "id": "54f383a1",
   "metadata": {},
   "outputs": [],
   "source": []
  }
 ],
 "metadata": {
  "kernelspec": {
   "display_name": "Python 3",
   "language": "python",
   "name": "python3"
  },
  "language_info": {
   "codemirror_mode": {
    "name": "ipython",
    "version": 3
   },
   "file_extension": ".py",
   "mimetype": "text/x-python",
   "name": "python",
   "nbconvert_exporter": "python",
   "pygments_lexer": "ipython3",
   "version": "3.8.8"
  }
 },
 "nbformat": 4,
 "nbformat_minor": 5
}
